{
 "cells": [
  {
   "cell_type": "markdown",
   "metadata": {},
   "source": [
    "## Apple Health Processor - Weight"
   ]
  },
  {
   "cell_type": "markdown",
   "metadata": {},
   "source": [
    "-----"
   ]
  },
  {
   "cell_type": "markdown",
   "metadata": {},
   "source": [
    "## Dependencies and Libraries"
   ]
  },
  {
   "cell_type": "code",
   "execution_count": 65,
   "metadata": {
    "tags": []
   },
   "outputs": [],
   "source": [
    "from datetime import date, datetime, timedelta as td\n",
    "import pytz\n",
    "import numpy as np\n",
    "import pandas as pd\n",
    "import matplotlib.pyplot as plt\n",
    "%matplotlib inline"
   ]
  },
  {
   "cell_type": "markdown",
   "metadata": {},
   "source": [
    "------"
   ]
  },
  {
   "cell_type": "markdown",
   "metadata": {},
   "source": [
    "## Functions for Processing Dates and Timezones"
   ]
  },
  {
   "cell_type": "code",
   "execution_count": 66,
   "metadata": {
    "tags": []
   },
   "outputs": [],
   "source": [
    "# functions to convert UTC to Local time zone and extract date/time elements\n",
    "convert_tz = lambda x: x.to_pydatetime().replace(tzinfo=pytz.utc).astimezone(pytz.timezone('America/New_York'))\n",
    "get_year = lambda x: convert_tz(x).year\n",
    "get_month = lambda x: '{}-{:02}'.format(convert_tz(x).year, convert_tz(x).month) #inefficient\n",
    "get_date = lambda x: '{}-{:02}-{:02}'.format(convert_tz(x).year, convert_tz(x).month, convert_tz(x).day) #inefficient\n",
    "get_day = lambda x: convert_tz(x).day\n",
    "get_hour = lambda x: convert_tz(x).hour\n",
    "get_minute = lambda x: convert_tz(x).minute\n",
    "get_day_of_week = lambda x: convert_tz(x).weekday()"
   ]
  },
  {
   "cell_type": "markdown",
   "metadata": {},
   "source": [
    "---"
   ]
  },
  {
   "cell_type": "markdown",
   "metadata": {},
   "source": [
    "## Weight"
   ]
  },
  {
   "cell_type": "code",
   "execution_count": 67,
   "metadata": {
    "tags": []
   },
   "outputs": [],
   "source": [
    "weight = pd.read_csv(\"data/BodyMass.csv\")"
   ]
  },
  {
   "cell_type": "code",
   "execution_count": 68,
   "metadata": {},
   "outputs": [
    {
     "data": {
      "text/html": [
       "<div>\n",
       "<style scoped>\n",
       "    .dataframe tbody tr th:only-of-type {\n",
       "        vertical-align: middle;\n",
       "    }\n",
       "\n",
       "    .dataframe tbody tr th {\n",
       "        vertical-align: top;\n",
       "    }\n",
       "\n",
       "    .dataframe thead th {\n",
       "        text-align: right;\n",
       "    }\n",
       "</style>\n",
       "<table border=\"1\" class=\"dataframe\">\n",
       "  <thead>\n",
       "    <tr style=\"text-align: right;\">\n",
       "      <th></th>\n",
       "      <th>sourceName</th>\n",
       "      <th>sourceVersion</th>\n",
       "      <th>device</th>\n",
       "      <th>type</th>\n",
       "      <th>unit</th>\n",
       "      <th>creationDate</th>\n",
       "      <th>startDate</th>\n",
       "      <th>endDate</th>\n",
       "      <th>value</th>\n",
       "    </tr>\n",
       "  </thead>\n",
       "  <tbody>\n",
       "    <tr>\n",
       "      <th>0</th>\n",
       "      <td>EufyLife</td>\n",
       "      <td>7</td>\n",
       "      <td>NaN</td>\n",
       "      <td>BodyMass</td>\n",
       "      <td>lb</td>\n",
       "      <td>2021-06-02 07:27:38 -0400</td>\n",
       "      <td>2021-06-01 07:26:26 -0400</td>\n",
       "      <td>2021-06-01 07:26:26 -0400</td>\n",
       "      <td>306.660</td>\n",
       "    </tr>\n",
       "    <tr>\n",
       "      <th>1</th>\n",
       "      <td>EufyLife</td>\n",
       "      <td>7</td>\n",
       "      <td>NaN</td>\n",
       "      <td>BodyMass</td>\n",
       "      <td>lb</td>\n",
       "      <td>2021-06-04 07:27:50 -0400</td>\n",
       "      <td>2021-06-04 07:27:50 -0400</td>\n",
       "      <td>2021-06-04 07:27:50 -0400</td>\n",
       "      <td>303.794</td>\n",
       "    </tr>\n",
       "    <tr>\n",
       "      <th>2</th>\n",
       "      <td>EufyLife</td>\n",
       "      <td>7</td>\n",
       "      <td>NaN</td>\n",
       "      <td>BodyMass</td>\n",
       "      <td>lb</td>\n",
       "      <td>2021-06-04 07:27:51 -0400</td>\n",
       "      <td>2021-06-03 07:23:38 -0400</td>\n",
       "      <td>2021-06-03 07:23:38 -0400</td>\n",
       "      <td>304.676</td>\n",
       "    </tr>\n",
       "    <tr>\n",
       "      <th>3</th>\n",
       "      <td>EufyLife</td>\n",
       "      <td>7</td>\n",
       "      <td>NaN</td>\n",
       "      <td>BodyMass</td>\n",
       "      <td>lb</td>\n",
       "      <td>2021-06-05 09:02:04 -0400</td>\n",
       "      <td>2021-06-03 07:22:56 -0400</td>\n",
       "      <td>2021-06-03 07:22:56 -0400</td>\n",
       "      <td>304.676</td>\n",
       "    </tr>\n",
       "    <tr>\n",
       "      <th>4</th>\n",
       "      <td>EufyLife</td>\n",
       "      <td>7</td>\n",
       "      <td>NaN</td>\n",
       "      <td>BodyMass</td>\n",
       "      <td>lb</td>\n",
       "      <td>2021-06-05 09:02:10 -0400</td>\n",
       "      <td>2021-06-05 09:01:33 -0400</td>\n",
       "      <td>2021-06-05 09:01:33 -0400</td>\n",
       "      <td>303.794</td>\n",
       "    </tr>\n",
       "  </tbody>\n",
       "</table>\n",
       "</div>"
      ],
      "text/plain": [
       "  sourceName  sourceVersion  device      type unit               creationDate  \\\n",
       "0   EufyLife              7     NaN  BodyMass   lb  2021-06-02 07:27:38 -0400   \n",
       "1   EufyLife              7     NaN  BodyMass   lb  2021-06-04 07:27:50 -0400   \n",
       "2   EufyLife              7     NaN  BodyMass   lb  2021-06-04 07:27:51 -0400   \n",
       "3   EufyLife              7     NaN  BodyMass   lb  2021-06-05 09:02:04 -0400   \n",
       "4   EufyLife              7     NaN  BodyMass   lb  2021-06-05 09:02:10 -0400   \n",
       "\n",
       "                   startDate                    endDate    value  \n",
       "0  2021-06-01 07:26:26 -0400  2021-06-01 07:26:26 -0400  306.660  \n",
       "1  2021-06-04 07:27:50 -0400  2021-06-04 07:27:50 -0400  303.794  \n",
       "2  2021-06-03 07:23:38 -0400  2021-06-03 07:23:38 -0400  304.676  \n",
       "3  2021-06-03 07:22:56 -0400  2021-06-03 07:22:56 -0400  304.676  \n",
       "4  2021-06-05 09:01:33 -0400  2021-06-05 09:01:33 -0400  303.794  "
      ]
     },
     "execution_count": 68,
     "metadata": {},
     "output_type": "execute_result"
    }
   ],
   "source": [
    "weight.head()"
   ]
  },
  {
   "cell_type": "code",
   "execution_count": 69,
   "metadata": {
    "tags": []
   },
   "outputs": [],
   "source": [
    "weight['startDate'] = pd.to_datetime(weight['startDate'])\n",
    "weight['year'] = weight['startDate'].map(get_year)\n",
    "weight['month'] = weight['startDate'].map(get_month)\n",
    "weight['date'] = weight['startDate'].map(get_date)"
   ]
  },
  {
   "cell_type": "code",
   "execution_count": 70,
   "metadata": {},
   "outputs": [
    {
     "data": {
      "text/html": [
       "<div>\n",
       "<style scoped>\n",
       "    .dataframe tbody tr th:only-of-type {\n",
       "        vertical-align: middle;\n",
       "    }\n",
       "\n",
       "    .dataframe tbody tr th {\n",
       "        vertical-align: top;\n",
       "    }\n",
       "\n",
       "    .dataframe thead th {\n",
       "        text-align: right;\n",
       "    }\n",
       "</style>\n",
       "<table border=\"1\" class=\"dataframe\">\n",
       "  <thead>\n",
       "    <tr style=\"text-align: right;\">\n",
       "      <th></th>\n",
       "      <th>sourceName</th>\n",
       "      <th>sourceVersion</th>\n",
       "      <th>device</th>\n",
       "      <th>type</th>\n",
       "      <th>unit</th>\n",
       "      <th>creationDate</th>\n",
       "      <th>startDate</th>\n",
       "      <th>endDate</th>\n",
       "      <th>value</th>\n",
       "      <th>year</th>\n",
       "      <th>month</th>\n",
       "      <th>date</th>\n",
       "    </tr>\n",
       "  </thead>\n",
       "  <tbody>\n",
       "    <tr>\n",
       "      <th>99</th>\n",
       "      <td>EufyLife</td>\n",
       "      <td>3</td>\n",
       "      <td>NaN</td>\n",
       "      <td>BodyMass</td>\n",
       "      <td>lb</td>\n",
       "      <td>2021-08-19 07:30:40 -0400</td>\n",
       "      <td>2021-08-18 07:29:29-04:00</td>\n",
       "      <td>2021-08-18 07:29:29 -0400</td>\n",
       "      <td>277.339</td>\n",
       "      <td>2021</td>\n",
       "      <td>2021-08</td>\n",
       "      <td>2021-08-18</td>\n",
       "    </tr>\n",
       "    <tr>\n",
       "      <th>100</th>\n",
       "      <td>EufyLife</td>\n",
       "      <td>3</td>\n",
       "      <td>NaN</td>\n",
       "      <td>BodyMass</td>\n",
       "      <td>lb</td>\n",
       "      <td>2021-08-19 07:30:51 -0400</td>\n",
       "      <td>2021-08-19 07:30:51-04:00</td>\n",
       "      <td>2021-08-19 07:30:51 -0400</td>\n",
       "      <td>276.457</td>\n",
       "      <td>2021</td>\n",
       "      <td>2021-08</td>\n",
       "      <td>2021-08-19</td>\n",
       "    </tr>\n",
       "    <tr>\n",
       "      <th>101</th>\n",
       "      <td>EufyLife</td>\n",
       "      <td>3</td>\n",
       "      <td>NaN</td>\n",
       "      <td>BodyMass</td>\n",
       "      <td>lb</td>\n",
       "      <td>2021-08-20 07:34:10 -0400</td>\n",
       "      <td>2021-08-20 07:34:10-04:00</td>\n",
       "      <td>2021-08-20 07:34:10 -0400</td>\n",
       "      <td>276.677</td>\n",
       "      <td>2021</td>\n",
       "      <td>2021-08</td>\n",
       "      <td>2021-08-20</td>\n",
       "    </tr>\n",
       "    <tr>\n",
       "      <th>102</th>\n",
       "      <td>EufyLife</td>\n",
       "      <td>3</td>\n",
       "      <td>NaN</td>\n",
       "      <td>BodyMass</td>\n",
       "      <td>lb</td>\n",
       "      <td>2021-08-21 09:31:01 -0400</td>\n",
       "      <td>2021-08-21 09:31:01-04:00</td>\n",
       "      <td>2021-08-21 09:31:01 -0400</td>\n",
       "      <td>275.355</td>\n",
       "      <td>2021</td>\n",
       "      <td>2021-08</td>\n",
       "      <td>2021-08-21</td>\n",
       "    </tr>\n",
       "    <tr>\n",
       "      <th>103</th>\n",
       "      <td>EufyLife</td>\n",
       "      <td>3</td>\n",
       "      <td>NaN</td>\n",
       "      <td>BodyMass</td>\n",
       "      <td>lb</td>\n",
       "      <td>2021-08-22 10:29:39 -0400</td>\n",
       "      <td>2021-08-22 10:29:17-04:00</td>\n",
       "      <td>2021-08-22 10:29:17 -0400</td>\n",
       "      <td>276.016</td>\n",
       "      <td>2021</td>\n",
       "      <td>2021-08</td>\n",
       "      <td>2021-08-22</td>\n",
       "    </tr>\n",
       "  </tbody>\n",
       "</table>\n",
       "</div>"
      ],
      "text/plain": [
       "    sourceName  sourceVersion  device      type unit  \\\n",
       "99    EufyLife              3     NaN  BodyMass   lb   \n",
       "100   EufyLife              3     NaN  BodyMass   lb   \n",
       "101   EufyLife              3     NaN  BodyMass   lb   \n",
       "102   EufyLife              3     NaN  BodyMass   lb   \n",
       "103   EufyLife              3     NaN  BodyMass   lb   \n",
       "\n",
       "                  creationDate                 startDate  \\\n",
       "99   2021-08-19 07:30:40 -0400 2021-08-18 07:29:29-04:00   \n",
       "100  2021-08-19 07:30:51 -0400 2021-08-19 07:30:51-04:00   \n",
       "101  2021-08-20 07:34:10 -0400 2021-08-20 07:34:10-04:00   \n",
       "102  2021-08-21 09:31:01 -0400 2021-08-21 09:31:01-04:00   \n",
       "103  2021-08-22 10:29:39 -0400 2021-08-22 10:29:17-04:00   \n",
       "\n",
       "                       endDate    value  year    month        date  \n",
       "99   2021-08-18 07:29:29 -0400  277.339  2021  2021-08  2021-08-18  \n",
       "100  2021-08-19 07:30:51 -0400  276.457  2021  2021-08  2021-08-19  \n",
       "101  2021-08-20 07:34:10 -0400  276.677  2021  2021-08  2021-08-20  \n",
       "102  2021-08-21 09:31:01 -0400  275.355  2021  2021-08  2021-08-21  \n",
       "103  2021-08-22 10:29:17 -0400  276.016  2021  2021-08  2021-08-22  "
      ]
     },
     "execution_count": 70,
     "metadata": {},
     "output_type": "execute_result"
    }
   ],
   "source": [
    "weight.tail()"
   ]
  },
  {
   "cell_type": "code",
   "execution_count": 71,
   "metadata": {},
   "outputs": [
    {
     "data": {
      "text/plain": [
       "Index(['sourceName', 'sourceVersion', 'device', 'type', 'unit', 'creationDate',\n",
       "       'startDate', 'endDate', 'value', 'year', 'month', 'date'],\n",
       "      dtype='object')"
      ]
     },
     "execution_count": 71,
     "metadata": {},
     "output_type": "execute_result"
    }
   ],
   "source": [
    "weight.columns"
   ]
  },
  {
   "cell_type": "code",
   "execution_count": 72,
   "metadata": {},
   "outputs": [],
   "source": [
    "weight_by_date = weight.groupby(['date'])['value'].min().reset_index(name='Weight') # take min weight if multiple per day"
   ]
  },
  {
   "cell_type": "code",
   "execution_count": 73,
   "metadata": {},
   "outputs": [
    {
     "data": {
      "text/plain": [
       "RangeIndex(start=0, stop=79, step=1)"
      ]
     },
     "execution_count": 73,
     "metadata": {},
     "output_type": "execute_result"
    }
   ],
   "source": [
    "weight_by_date.index"
   ]
  },
  {
   "cell_type": "code",
   "execution_count": 74,
   "metadata": {},
   "outputs": [
    {
     "data": {
      "text/html": [
       "<div>\n",
       "<style scoped>\n",
       "    .dataframe tbody tr th:only-of-type {\n",
       "        vertical-align: middle;\n",
       "    }\n",
       "\n",
       "    .dataframe tbody tr th {\n",
       "        vertical-align: top;\n",
       "    }\n",
       "\n",
       "    .dataframe thead th {\n",
       "        text-align: right;\n",
       "    }\n",
       "</style>\n",
       "<table border=\"1\" class=\"dataframe\">\n",
       "  <thead>\n",
       "    <tr style=\"text-align: right;\">\n",
       "      <th></th>\n",
       "      <th>date</th>\n",
       "      <th>Weight</th>\n",
       "    </tr>\n",
       "  </thead>\n",
       "  <tbody>\n",
       "    <tr>\n",
       "      <th>0</th>\n",
       "      <td>2021-06-01</td>\n",
       "      <td>306.660</td>\n",
       "    </tr>\n",
       "    <tr>\n",
       "      <th>1</th>\n",
       "      <td>2021-06-03</td>\n",
       "      <td>304.676</td>\n",
       "    </tr>\n",
       "    <tr>\n",
       "      <th>2</th>\n",
       "      <td>2021-06-04</td>\n",
       "      <td>303.794</td>\n",
       "    </tr>\n",
       "    <tr>\n",
       "      <th>3</th>\n",
       "      <td>2021-06-05</td>\n",
       "      <td>303.794</td>\n",
       "    </tr>\n",
       "    <tr>\n",
       "      <th>4</th>\n",
       "      <td>2021-06-06</td>\n",
       "      <td>302.251</td>\n",
       "    </tr>\n",
       "    <tr>\n",
       "      <th>5</th>\n",
       "      <td>2021-06-07</td>\n",
       "      <td>302.030</td>\n",
       "    </tr>\n",
       "    <tr>\n",
       "      <th>6</th>\n",
       "      <td>2021-06-08</td>\n",
       "      <td>302.030</td>\n",
       "    </tr>\n",
       "    <tr>\n",
       "      <th>7</th>\n",
       "      <td>2021-06-09</td>\n",
       "      <td>301.369</td>\n",
       "    </tr>\n",
       "    <tr>\n",
       "      <th>8</th>\n",
       "      <td>2021-06-10</td>\n",
       "      <td>301.369</td>\n",
       "    </tr>\n",
       "    <tr>\n",
       "      <th>9</th>\n",
       "      <td>2021-06-11</td>\n",
       "      <td>301.589</td>\n",
       "    </tr>\n",
       "  </tbody>\n",
       "</table>\n",
       "</div>"
      ],
      "text/plain": [
       "         date   Weight\n",
       "0  2021-06-01  306.660\n",
       "1  2021-06-03  304.676\n",
       "2  2021-06-04  303.794\n",
       "3  2021-06-05  303.794\n",
       "4  2021-06-06  302.251\n",
       "5  2021-06-07  302.030\n",
       "6  2021-06-08  302.030\n",
       "7  2021-06-09  301.369\n",
       "8  2021-06-10  301.369\n",
       "9  2021-06-11  301.589"
      ]
     },
     "execution_count": 74,
     "metadata": {},
     "output_type": "execute_result"
    }
   ],
   "source": [
    "weight_by_date.head(10)"
   ]
  },
  {
   "cell_type": "code",
   "execution_count": 75,
   "metadata": {
    "tags": []
   },
   "outputs": [],
   "source": [
    "# weight_by_date.tail(10)\n",
    "weight_by_date.to_csv(\"data/weight_per_day.csv\", index=False)"
   ]
  },
  {
   "cell_type": "code",
   "execution_count": 76,
   "metadata": {},
   "outputs": [
    {
     "data": {
      "text/plain": [
       "<AxesSubplot:title={'center':'Daily weight'}, xlabel='date'>"
      ]
     },
     "execution_count": 76,
     "metadata": {},
     "output_type": "execute_result"
    },
    {
     "data": {
      "image/png": "[encoded data removed]",
      "text/plain": [
       "<Figure size 1080x648 with 1 Axes>"
      ]
     },
     "metadata": {
      "needs_background": "light"
     },
     "output_type": "display_data"
    }
   ],
   "source": [
    "weight_by_date['RollingMeanWeight'] = weight_by_date.Weight.rolling(window=7, center=True).mean()\n",
    "weight_by_date.plot(x='date', y='Weight', title= 'Daily weight', figsize=[15, 9], grid=True)"
   ]
  },
  {
   "cell_type": "markdown",
   "metadata": {},
   "source": [
    "## Rolling Average"
   ]
  },
  {
   "cell_type": "code",
   "execution_count": 77,
   "metadata": {},
   "outputs": [
    {
     "data": {
      "text/plain": [
       "<AxesSubplot:title={'center':'Daily weight rolling mean over 7 days'}, xlabel='date'>"
      ]
     },
     "execution_count": 77,
     "metadata": {},
     "output_type": "execute_result"
    },
    {
     "data": {
      "image/png": "[encoded data removed]",
      "text/plain": [
       "<Figure size 1080x648 with 1 Axes>"
      ]
     },
     "metadata": {
      "needs_background": "light"
     },
     "output_type": "display_data"
    }
   ],
   "source": [
    "weight_by_date['RollingMeanWeight'] = weight_by_date.Weight.rolling(window=7, center=True).mean()\n",
    "weight_by_date.plot(x='date', y='RollingMeanWeight', title= 'Daily weight rolling mean over 7 days', figsize=[15, 9], grid=True)\n",
    "#print (plt.get_xlim())\n",
    "#left_limit = float(\"2021-05-13\".replace(\"-\", \"\"))\n",
    "#plt.set_xlim(1, 0)\n"
   ]
  },
  {
   "cell_type": "markdown",
   "metadata": {},
   "source": [
    "------"
   ]
  },
  {
   "cell_type": "code",
   "execution_count": 78,
   "metadata": {},
   "outputs": [],
   "source": [
    "month_weight = weight.groupby(['month'])['value'].mean().reset_index(name='Weight')"
   ]
  },
  {
   "cell_type": "code",
   "execution_count": 79,
   "metadata": {},
   "outputs": [],
   "source": [
    "# month_weight"
   ]
  },
  {
   "cell_type": "code",
   "execution_count": 80,
   "metadata": {},
   "outputs": [
    {
     "ename": "AttributeError",
     "evalue": "module 'matplotlib.pyplot' has no attribute 'xtickslabels'",
     "output_type": "error",
     "traceback": [
      "\u001b[0;31m---------------------------------------------------------------------------\u001b[0m",
      "\u001b[0;31mAttributeError\u001b[0m                            Traceback (most recent call last)",
      "\u001b[0;32m/tmp/ipykernel_1422/2029844537.py\u001b[0m in \u001b[0;36m<module>\u001b[0;34m\u001b[0m\n\u001b[1;32m     16\u001b[0m \u001b[0max\u001b[0m\u001b[0;34m.\u001b[0m\u001b[0mset_xticks\u001b[0m\u001b[0;34m(\u001b[0m\u001b[0mindex\u001b[0m\u001b[0;34m)\u001b[0m\u001b[0;34m\u001b[0m\u001b[0;34m\u001b[0m\u001b[0m\n\u001b[1;32m     17\u001b[0m \u001b[0max\u001b[0m\u001b[0;34m.\u001b[0m\u001b[0mset_ylabel\u001b[0m\u001b[0;34m(\u001b[0m\u001b[0;34m'Weight (lbs)'\u001b[0m\u001b[0;34m)\u001b[0m\u001b[0;34m\u001b[0m\u001b[0;34m\u001b[0m\u001b[0m\n\u001b[0;32m---> 18\u001b[0;31m \u001b[0mplt\u001b[0m\u001b[0;34m.\u001b[0m\u001b[0mxtickslabels\u001b[0m\u001b[0;34m(\u001b[0m\u001b[0mindex\u001b[0m\u001b[0;34m,\u001b[0m \u001b[0mdataset\u001b[0m\u001b[0;34m.\u001b[0m\u001b[0mmonth\u001b[0m\u001b[0;34m,\u001b[0m \u001b[0mrotation\u001b[0m\u001b[0;34m=\u001b[0m\u001b[0;36m90\u001b[0m\u001b[0;34m)\u001b[0m\u001b[0;34m\u001b[0m\u001b[0;34m\u001b[0m\u001b[0m\n\u001b[0m\u001b[1;32m     19\u001b[0m \u001b[0max\u001b[0m\u001b[0;34m.\u001b[0m\u001b[0mset_title\u001b[0m\u001b[0;34m(\u001b[0m\u001b[0mchart_title\u001b[0m\u001b[0;34m)\u001b[0m\u001b[0;34m\u001b[0m\u001b[0;34m\u001b[0m\u001b[0m\n\u001b[1;32m     20\u001b[0m \u001b[0;34m\u001b[0m\u001b[0m\n",
      "\u001b[0;31mAttributeError\u001b[0m: module 'matplotlib.pyplot' has no attribute 'xtickslabels'"
     ]
    },
    {
     "data": {
      "image/png": "[encoded data removed]",
      "text/plain": [
       "<Figure size 864x360 with 1 Axes>"
      ]
     },
     "metadata": {
      "needs_background": "light"
     },
     "output_type": "display_data"
    }
   ],
   "source": [
    "# a bit of a hackish solution, could use improvement\n",
    "dataset = month_weight\n",
    "chart_title = 'Monthly Weight'\n",
    "\n",
    "n_groups = len(dataset)\n",
    "index = np.arange(n_groups)\n",
    "\n",
    "ax = dataset.plot(kind='line', figsize=[12, 5], linewidth=4, alpha=1, marker='o', color='#6684c1', \n",
    "                      markeredgecolor='#6684c1', markerfacecolor='w', markersize=8, markeredgewidth=2)\n",
    "\n",
    "# ax.set_xlim((year_counts.index[0], year_counts.index[-1]))\n",
    "\n",
    "ax.yaxis.grid(True)\n",
    "ax.xaxis.grid(True)\n",
    "# ax.set_ylim(0, 1000)\n",
    "ax.set_xticks(index)\n",
    "ax.set_ylabel('Weight (lbs)')\n",
    "plt.xtickslabels(index, dataset.month, rotation=90)\n",
    "ax.set_title(chart_title)\n",
    "\n",
    "plt.show()"
   ]
  },
  {
   "cell_type": "code",
   "execution_count": null,
   "metadata": {},
   "outputs": [],
   "source": []
  },
  {
   "cell_type": "code",
   "execution_count": null,
   "metadata": {},
   "outputs": [],
   "source": []
  },
  {
   "cell_type": "code",
   "execution_count": null,
   "metadata": {},
   "outputs": [],
   "source": []
  },
  {
   "cell_type": "code",
   "execution_count": null,
   "metadata": {},
   "outputs": [],
   "source": []
  }
 ],
 "metadata": {
  "kernelspec": {
   "display_name": "Python 3 (ipykernel)",
   "language": "python",
   "name": "python3"
  },
  "language_info": {
   "codemirror_mode": {
    "name": "ipython",
    "version": 3
   },
   "file_extension": ".py",
   "mimetype": "text/x-python",
   "name": "python",
   "nbconvert_exporter": "python",
   "pygments_lexer": "ipython3",
   "version": "3.9.6"
  }
 },
 "nbformat": 4,
 "nbformat_minor": 4
}
