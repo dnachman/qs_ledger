{
 "cells": [
  {
   "cell_type": "markdown",
   "metadata": {},
   "source": [
    "# Apple Health Extractor"
   ]
  },
  {
   "cell_type": "markdown",
   "metadata": {},
   "source": [
    "This code will parse your Apple Health export data, create multiple CSV and do some simple data checks and data analysis. \n",
    "\n",
    "Enjoy! "
   ]
  },
  {
   "cell_type": "markdown",
   "metadata": {},
   "source": [
    "--------"
   ]
  },
  {
   "cell_type": "markdown",
   "metadata": {},
   "source": [
    "## Extract Data and Export to CSVs from Apple Health's Export.xml"
   ]
  },
  {
   "cell_type": "markdown",
   "metadata": {},
   "source": [
    "* Command Line Tool to Process apple health's export.xml file \n",
    "* Create multiple CSV files for each data type. \n",
    "* Original Source: https://github.com/tdda/applehealthdata\n",
    "* Based on the size of your Apple Health Data, this script may take several minutes to complete.\n",
    "\n",
    "**NOTE: Currently there are a few minror errors based on additional data from Apple Health that require some updates.** "
   ]
  },
  {
   "cell_type": "markdown",
   "metadata": {},
   "source": [
    "## Setup and Usage NOTE\n",
    "\n",
    "* Export your data from Apple Health App on your phone. \n",
    "* Unzip export.zip into this directory and rename to data. \n",
    "* Inside your directory there should be a directory and file here: /data/export.xml\n",
    "* Run inside project or in the command line."
   ]
  },
  {
   "cell_type": "code",
   "execution_count": 1,
   "metadata": {
    "tags": []
   },
   "outputs": [
    {
     "name": "stdout",
     "output_type": "stream",
     "text": [
      "Reading data from data/apple_health_export/export.xml . . . done\n",
      "Unexpected node of type ExportDate.\n",
      "Unexpected node of type Correlation.\n",
      "Unexpected node of type Correlation.\n",
      "Unexpected node of type Correlation.\n",
      "Unexpected node of type Correlation.\n",
      "Unexpected node of type Correlation.\n",
      "Unexpected node of type Correlation.\n",
      "Unexpected node of type Correlation.\n",
      "Unexpected node of type Correlation.\n",
      "Unexpected node of type Correlation.\n",
      "Unexpected node of type Correlation.\n",
      "Unexpected node of type Correlation.\n",
      "Unexpected node of type Correlation.\n",
      "Unexpected node of type Correlation.\n",
      "Unexpected node of type Correlation.\n",
      "Unexpected node of type Correlation.\n",
      "Unexpected node of type Correlation.\n",
      "Unexpected node of type Correlation.\n",
      "Unexpected node of type Correlation.\n",
      "Unexpected node of type Correlation.\n",
      "Unexpected node of type Correlation.\n",
      "Unexpected node of type Correlation.\n",
      "Unexpected node of type Correlation.\n",
      "Unexpected node of type Correlation.\n",
      "Unexpected node of type Correlation.\n",
      "Unexpected node of type Correlation.\n",
      "Unexpected node of type Correlation.\n",
      "Unexpected node of type Correlation.\n",
      "Unexpected node of type Correlation.\n",
      "Unexpected node of type Correlation.\n",
      "Unexpected node of type Correlation.\n",
      "Unexpected node of type Correlation.\n",
      "Unexpected node of type Correlation.\n",
      "Unexpected node of type Correlation.\n",
      "Unexpected node of type Correlation.\n",
      "Unexpected node of type Correlation.\n",
      "Unexpected node of type Correlation.\n",
      "Unexpected node of type Correlation.\n",
      "Unexpected node of type Correlation.\n",
      "Unexpected node of type Correlation.\n",
      "Unexpected node of type Correlation.\n",
      "Unexpected node of type Correlation.\n",
      "Unexpected node of type Correlation.\n",
      "Unexpected node of type Correlation.\n",
      "Unexpected node of type Correlation.\n",
      "Unexpected node of type Correlation.\n",
      "Unexpected node of type Correlation.\n",
      "Unexpected node of type Correlation.\n",
      "Unexpected node of type Correlation.\n",
      "Unexpected node of type Correlation.\n",
      "Unexpected node of type Correlation.\n",
      "Unexpected node of type Correlation.\n",
      "Unexpected node of type Correlation.\n",
      "Unexpected node of type Correlation.\n",
      "Unexpected node of type Correlation.\n",
      "Unexpected node of type Correlation.\n",
      "Unexpected node of type Correlation.\n",
      "Unexpected node of type Correlation.\n",
      "Unexpected node of type Correlation.\n",
      "Unexpected node of type Correlation.\n",
      "Unexpected node of type Correlation.\n",
      "Unexpected node of type Correlation.\n",
      "Unexpected node of type Correlation.\n",
      "Unexpected node of type Correlation.\n",
      "Unexpected node of type Correlation.\n",
      "Unexpected node of type Correlation.\n",
      "Unexpected node of type Correlation.\n",
      "Unexpected node of type Correlation.\n",
      "Unexpected node of type Correlation.\n",
      "Unexpected node of type Correlation.\n",
      "Unexpected node of type Correlation.\n",
      "Unexpected node of type Correlation.\n",
      "Unexpected node of type Correlation.\n",
      "Unexpected node of type Correlation.\n",
      "Unexpected node of type Correlation.\n",
      "Unexpected node of type Correlation.\n",
      "Unexpected node of type Correlation.\n",
      "Unexpected node of type Correlation.\n",
      "Unexpected node of type Correlation.\n",
      "Unexpected node of type Correlation.\n",
      "Unexpected node of type Correlation.\n",
      "Unexpected node of type Correlation.\n",
      "Unexpected node of type Correlation.\n",
      "Unexpected node of type Correlation.\n",
      "Unexpected node of type Correlation.\n",
      "Unexpected node of type Correlation.\n",
      "Unexpected node of type Correlation.\n",
      "Unexpected node of type Correlation.\n",
      "Unexpected node of type Correlation.\n",
      "Unexpected node of type Correlation.\n",
      "Unexpected node of type Correlation.\n",
      "Unexpected node of type Correlation.\n",
      "Unexpected node of type Correlation.\n",
      "Unexpected node of type Correlation.\n",
      "Unexpected node of type Correlation.\n",
      "Unexpected node of type Correlation.\n",
      "Unexpected node of type Correlation.\n",
      "Unexpected node of type Correlation.\n",
      "\n",
      "Tags:\n",
      "ActivitySummary: 2258\n",
      "Correlation: 97\n",
      "ExportDate: 1\n",
      "Me: 1\n",
      "Record: 3147691\n",
      "Workout: 639\n",
      "\n",
      "Fields:\n",
      "HKCharacteristicTypeIdentifierBiologicalSex: 1\n",
      "HKCharacteristicTypeIdentifierBloodType: 1\n",
      "HKCharacteristicTypeIdentifierCardioFitnessMedicationsUse: 1\n",
      "HKCharacteristicTypeIdentifierDateOfBirth: 1\n",
      "HKCharacteristicTypeIdentifierFitzpatrickSkinType: 1\n",
      "activeEnergyBurned: 2258\n",
      "activeEnergyBurnedGoal: 2258\n",
      "activeEnergyBurnedUnit: 2258\n",
      "appleExerciseTime: 2258\n",
      "appleExerciseTimeGoal: 2258\n",
      "appleMoveTime: 2258\n",
      "appleMoveTimeGoal: 2258\n",
      "appleStandHours: 2258\n",
      "appleStandHoursGoal: 2258\n",
      "creationDate: 3148427\n",
      "dateComponents: 2258\n",
      "device: 3055155\n",
      "duration: 639\n",
      "durationUnit: 639\n",
      "endDate: 3148427\n",
      "sourceName: 3148427\n",
      "sourceVersion: 3132892\n",
      "startDate: 3148427\n",
      "totalDistance: 639\n",
      "totalDistanceUnit: 639\n",
      "totalEnergyBurned: 639\n",
      "totalEnergyBurnedUnit: 639\n",
      "type: 3147788\n",
      "unit: 3113250\n",
      "value: 3145625\n",
      "workoutActivityType: 639\n",
      "\n",
      "Record types:\n",
      "ActiveEnergyBurned: 1616915\n",
      "AppleExerciseTime: 46553\n",
      "AppleStandHour: 30343\n",
      "AppleStandTime: 38903\n",
      "AppleWalkingSteadiness: 42\n",
      "AudioExposureEvent: 11\n",
      "BasalEnergyBurned: 288227\n",
      "BloodPressureDiastolic: 141\n",
      "BloodPressureSystolic: 141\n",
      "BodyFatPercentage: 1090\n",
      "BodyMass: 1140\n",
      "BodyMassIndex: 1091\n",
      "DistanceCycling: 2194\n",
      "DistanceSwimming: 10\n",
      "DistanceWalkingRunning: 311537\n",
      "EnvironmentalAudioExposure: 21583\n",
      "FlightsClimbed: 20111\n",
      "HKDataTypeSleepDurationGoal: 2\n",
      "HandwashingEvent: 670\n",
      "HeadphoneAudioExposure: 2589\n",
      "HeartRate: 410280\n",
      "HeartRateVariabilitySDNN: 9019\n",
      "Height: 1095\n",
      "LeanBodyMass: 1090\n",
      "LowCardioFitnessEvent: 2\n",
      "MindfulSession: 1397\n",
      "OxygenSaturation: 3458\n",
      "RespiratoryRate: 7934\n",
      "RestingHeartRate: 1773\n",
      "SixMinuteWalkTestDistance: 72\n",
      "SleepAnalysis: 2018\n",
      "StairAscentSpeed: 2044\n",
      "StairDescentSpeed: 1909\n",
      "StepCount: 300735\n",
      "SwimmingStrokeCount: 10\n",
      "VO2Max: 86\n",
      "WalkingAsymmetryPercentage: 679\n",
      "WalkingDoubleSupportPercentage: 3431\n",
      "WalkingHeartRateAverage: 1753\n",
      "WalkingSpeed: 7807\n",
      "WalkingStepLength: 7806\n",
      "\n",
      "Opening /home/jovyan/work/qs_ledger/apple_health/data/apple_health_export/BodyMassIndex.csv for writing\n",
      "Opening /home/jovyan/work/qs_ledger/apple_health/data/apple_health_export/Height.csv for writing\n",
      "Opening /home/jovyan/work/qs_ledger/apple_health/data/apple_health_export/BodyMass.csv for writing\n",
      "Opening /home/jovyan/work/qs_ledger/apple_health/data/apple_health_export/HeartRate.csv for writing\n",
      "Opening /home/jovyan/work/qs_ledger/apple_health/data/apple_health_export/OxygenSaturation.csv for writing\n",
      "Opening /home/jovyan/work/qs_ledger/apple_health/data/apple_health_export/BloodPressureSystolic.csv for writing\n",
      "Opening /home/jovyan/work/qs_ledger/apple_health/data/apple_health_export/BloodPressureDiastolic.csv for writing\n",
      "Opening /home/jovyan/work/qs_ledger/apple_health/data/apple_health_export/RespiratoryRate.csv for writing\n",
      "Opening /home/jovyan/work/qs_ledger/apple_health/data/apple_health_export/BodyFatPercentage.csv for writing\n",
      "Opening /home/jovyan/work/qs_ledger/apple_health/data/apple_health_export/LeanBodyMass.csv for writing\n",
      "Opening /home/jovyan/work/qs_ledger/apple_health/data/apple_health_export/StepCount.csv for writing\n",
      "Opening /home/jovyan/work/qs_ledger/apple_health/data/apple_health_export/DistanceWalkingRunning.csv for writing\n",
      "Opening /home/jovyan/work/qs_ledger/apple_health/data/apple_health_export/BasalEnergyBurned.csv for writing\n",
      "Opening /home/jovyan/work/qs_ledger/apple_health/data/apple_health_export/ActiveEnergyBurned.csv for writing\n",
      "Opening /home/jovyan/work/qs_ledger/apple_health/data/apple_health_export/FlightsClimbed.csv for writing\n",
      "Opening /home/jovyan/work/qs_ledger/apple_health/data/apple_health_export/AppleExerciseTime.csv for writing\n",
      "Opening /home/jovyan/work/qs_ledger/apple_health/data/apple_health_export/DistanceCycling.csv for writing\n",
      "Opening /home/jovyan/work/qs_ledger/apple_health/data/apple_health_export/DistanceSwimming.csv for writing\n",
      "Opening /home/jovyan/work/qs_ledger/apple_health/data/apple_health_export/SwimmingStrokeCount.csv for writing\n",
      "Opening /home/jovyan/work/qs_ledger/apple_health/data/apple_health_export/RestingHeartRate.csv for writing\n",
      "Opening /home/jovyan/work/qs_ledger/apple_health/data/apple_health_export/VO2Max.csv for writing\n",
      "Opening /home/jovyan/work/qs_ledger/apple_health/data/apple_health_export/WalkingHeartRateAverage.csv for writing\n",
      "Opening /home/jovyan/work/qs_ledger/apple_health/data/apple_health_export/EnvironmentalAudioExposure.csv for writing\n",
      "Opening /home/jovyan/work/qs_ledger/apple_health/data/apple_health_export/HeadphoneAudioExposure.csv for writing\n",
      "Opening /home/jovyan/work/qs_ledger/apple_health/data/apple_health_export/WalkingDoubleSupportPercentage.csv for writing\n",
      "Opening /home/jovyan/work/qs_ledger/apple_health/data/apple_health_export/SixMinuteWalkTestDistance.csv for writing\n",
      "Opening /home/jovyan/work/qs_ledger/apple_health/data/apple_health_export/AppleStandTime.csv for writing\n",
      "Opening /home/jovyan/work/qs_ledger/apple_health/data/apple_health_export/WalkingSpeed.csv for writing\n",
      "Opening /home/jovyan/work/qs_ledger/apple_health/data/apple_health_export/WalkingStepLength.csv for writing\n",
      "Opening /home/jovyan/work/qs_ledger/apple_health/data/apple_health_export/WalkingAsymmetryPercentage.csv for writing\n",
      "Opening /home/jovyan/work/qs_ledger/apple_health/data/apple_health_export/StairAscentSpeed.csv for writing\n",
      "Opening /home/jovyan/work/qs_ledger/apple_health/data/apple_health_export/StairDescentSpeed.csv for writing\n",
      "Opening /home/jovyan/work/qs_ledger/apple_health/data/apple_health_export/HKDataTypeSleepDurationGoal.csv for writing\n",
      "Opening /home/jovyan/work/qs_ledger/apple_health/data/apple_health_export/AppleWalkingSteadiness.csv for writing\n",
      "Opening /home/jovyan/work/qs_ledger/apple_health/data/apple_health_export/SleepAnalysis.csv for writing\n",
      "Opening /home/jovyan/work/qs_ledger/apple_health/data/apple_health_export/AppleStandHour.csv for writing\n",
      "Opening /home/jovyan/work/qs_ledger/apple_health/data/apple_health_export/MindfulSession.csv for writing\n",
      "Opening /home/jovyan/work/qs_ledger/apple_health/data/apple_health_export/AudioExposureEvent.csv for writing\n",
      "Opening /home/jovyan/work/qs_ledger/apple_health/data/apple_health_export/LowCardioFitnessEvent.csv for writing\n",
      "Opening /home/jovyan/work/qs_ledger/apple_health/data/apple_health_export/HandwashingEvent.csv for writing\n",
      "Opening /home/jovyan/work/qs_ledger/apple_health/data/apple_health_export/HeartRateVariabilitySDNN.csv for writing\n",
      "Opening /home/jovyan/work/qs_ledger/apple_health/data/apple_health_export/Workout.csv for writing\n",
      "Opening /home/jovyan/work/qs_ledger/apple_health/data/apple_health_export/ActivitySummary.csv for writing\n",
      "Written BodyMassIndex data.\n",
      "Written Height data.\n",
      "Written BodyMass data.\n",
      "Written HeartRate data.\n",
      "Written OxygenSaturation data.\n",
      "Written BloodPressureSystolic data.\n",
      "Written BloodPressureDiastolic data.\n",
      "Written RespiratoryRate data.\n",
      "Written BodyFatPercentage data.\n",
      "Written LeanBodyMass data.\n",
      "Written StepCount data.\n",
      "Written DistanceWalkingRunning data.\n",
      "Written BasalEnergyBurned data.\n",
      "Written ActiveEnergyBurned data.\n",
      "Written FlightsClimbed data.\n",
      "Written AppleExerciseTime data.\n",
      "Written DistanceCycling data.\n",
      "Written DistanceSwimming data.\n",
      "Written SwimmingStrokeCount data.\n",
      "Written RestingHeartRate data.\n",
      "Written VO2Max data.\n",
      "Written WalkingHeartRateAverage data.\n",
      "Written EnvironmentalAudioExposure data.\n",
      "Written HeadphoneAudioExposure data.\n",
      "Written WalkingDoubleSupportPercentage data.\n",
      "Written SixMinuteWalkTestDistance data.\n",
      "Written AppleStandTime data.\n",
      "Written WalkingSpeed data.\n",
      "Written WalkingStepLength data.\n",
      "Written WalkingAsymmetryPercentage data.\n",
      "Written StairAscentSpeed data.\n",
      "Written StairDescentSpeed data.\n",
      "Written HKDataTypeSleepDurationGoal data.\n",
      "Written AppleWalkingSteadiness data.\n",
      "Written SleepAnalysis data.\n",
      "Written AppleStandHour data.\n",
      "Written MindfulSession data.\n",
      "Written AudioExposureEvent data.\n",
      "Written LowCardioFitnessEvent data.\n",
      "Written HandwashingEvent data.\n",
      "Written HeartRateVariabilitySDNN data.\n",
      "Written Workout data.\n",
      "Written ActivitySummary data.\n"
     ]
    }
   ],
   "source": [
    "# %run -i 'apple-health-data-parser' 'export.xml' \n",
    "%run -i 'apple-health-data-parser' 'data/apple_health_export/export.xml' "
   ]
  },
  {
   "cell_type": "markdown",
   "metadata": {},
   "source": [
    "-----"
   ]
  },
  {
   "cell_type": "markdown",
   "metadata": {},
   "source": [
    "# Apple Health Data Check and Simple Data Analysis"
   ]
  },
  {
   "cell_type": "code",
   "execution_count": 2,
   "metadata": {},
   "outputs": [],
   "source": [
    "import numpy as np\n",
    "import pandas as pd\n",
    "import glob"
   ]
  },
  {
   "cell_type": "markdown",
   "metadata": {},
   "source": [
    "----"
   ]
  },
  {
   "cell_type": "markdown",
   "metadata": {},
   "source": [
    "# Weight"
   ]
  },
  {
   "cell_type": "code",
   "execution_count": 6,
   "metadata": {},
   "outputs": [],
   "source": [
    "weight = pd.read_csv(\"data/apple_health_export/BodyMass.csv\")"
   ]
  },
  {
   "cell_type": "code",
   "execution_count": 7,
   "metadata": {},
   "outputs": [
    {
     "data": {
      "text/html": [
       "<div>\n",
       "<style scoped>\n",
       "    .dataframe tbody tr th:only-of-type {\n",
       "        vertical-align: middle;\n",
       "    }\n",
       "\n",
       "    .dataframe tbody tr th {\n",
       "        vertical-align: top;\n",
       "    }\n",
       "\n",
       "    .dataframe thead th {\n",
       "        text-align: right;\n",
       "    }\n",
       "</style>\n",
       "<table border=\"1\" class=\"dataframe\">\n",
       "  <thead>\n",
       "    <tr style=\"text-align: right;\">\n",
       "      <th></th>\n",
       "      <th>sourceName</th>\n",
       "      <th>sourceVersion</th>\n",
       "      <th>device</th>\n",
       "      <th>type</th>\n",
       "      <th>unit</th>\n",
       "      <th>creationDate</th>\n",
       "      <th>startDate</th>\n",
       "      <th>endDate</th>\n",
       "      <th>value</th>\n",
       "    </tr>\n",
       "  </thead>\n",
       "  <tbody>\n",
       "    <tr>\n",
       "      <th>987</th>\n",
       "      <td>EufyLife</td>\n",
       "      <td>25</td>\n",
       "      <td>NaN</td>\n",
       "      <td>BodyMass</td>\n",
       "      <td>lb</td>\n",
       "      <td>2022-03-31 07:17:39 -0400</td>\n",
       "      <td>2022-03-31 07:17:39 -0400</td>\n",
       "      <td>2022-03-31 07:17:39 -0400</td>\n",
       "      <td>251.324</td>\n",
       "    </tr>\n",
       "    <tr>\n",
       "      <th>988</th>\n",
       "      <td>EufyLife</td>\n",
       "      <td>25</td>\n",
       "      <td>NaN</td>\n",
       "      <td>BodyMass</td>\n",
       "      <td>lb</td>\n",
       "      <td>2022-04-01 07:46:22 -0400</td>\n",
       "      <td>2022-03-27 10:05:09 -0400</td>\n",
       "      <td>2022-03-27 10:05:09 -0400</td>\n",
       "      <td>251.104</td>\n",
       "    </tr>\n",
       "    <tr>\n",
       "      <th>989</th>\n",
       "      <td>EufyLife</td>\n",
       "      <td>25</td>\n",
       "      <td>NaN</td>\n",
       "      <td>BodyMass</td>\n",
       "      <td>lb</td>\n",
       "      <td>2022-04-01 07:46:45 -0400</td>\n",
       "      <td>2022-04-01 07:46:45 -0400</td>\n",
       "      <td>2022-04-01 07:46:45 -0400</td>\n",
       "      <td>252.647</td>\n",
       "    </tr>\n",
       "    <tr>\n",
       "      <th>990</th>\n",
       "      <td>EufyLife</td>\n",
       "      <td>25</td>\n",
       "      <td>NaN</td>\n",
       "      <td>BodyMass</td>\n",
       "      <td>lb</td>\n",
       "      <td>2022-04-02 10:06:50 -0400</td>\n",
       "      <td>2022-04-02 10:06:50 -0400</td>\n",
       "      <td>2022-04-02 10:06:50 -0400</td>\n",
       "      <td>250.443</td>\n",
       "    </tr>\n",
       "    <tr>\n",
       "      <th>991</th>\n",
       "      <td>EufyLife</td>\n",
       "      <td>25</td>\n",
       "      <td>NaN</td>\n",
       "      <td>BodyMass</td>\n",
       "      <td>lb</td>\n",
       "      <td>2022-04-03 08:45:22 -0400</td>\n",
       "      <td>2022-04-03 08:45:22 -0400</td>\n",
       "      <td>2022-04-03 08:45:22 -0400</td>\n",
       "      <td>250.443</td>\n",
       "    </tr>\n",
       "  </tbody>\n",
       "</table>\n",
       "</div>"
      ],
      "text/plain": [
       "    sourceName  sourceVersion  device      type unit  \\\n",
       "987   EufyLife             25     NaN  BodyMass   lb   \n",
       "988   EufyLife             25     NaN  BodyMass   lb   \n",
       "989   EufyLife             25     NaN  BodyMass   lb   \n",
       "990   EufyLife             25     NaN  BodyMass   lb   \n",
       "991   EufyLife             25     NaN  BodyMass   lb   \n",
       "\n",
       "                  creationDate                  startDate  \\\n",
       "987  2022-03-31 07:17:39 -0400  2022-03-31 07:17:39 -0400   \n",
       "988  2022-04-01 07:46:22 -0400  2022-03-27 10:05:09 -0400   \n",
       "989  2022-04-01 07:46:45 -0400  2022-04-01 07:46:45 -0400   \n",
       "990  2022-04-02 10:06:50 -0400  2022-04-02 10:06:50 -0400   \n",
       "991  2022-04-03 08:45:22 -0400  2022-04-03 08:45:22 -0400   \n",
       "\n",
       "                       endDate    value  \n",
       "987  2022-03-31 07:17:39 -0400  251.324  \n",
       "988  2022-03-27 10:05:09 -0400  251.104  \n",
       "989  2022-04-01 07:46:45 -0400  252.647  \n",
       "990  2022-04-02 10:06:50 -0400  250.443  \n",
       "991  2022-04-03 08:45:22 -0400  250.443  "
      ]
     },
     "execution_count": 7,
     "metadata": {},
     "output_type": "execute_result"
    }
   ],
   "source": [
    "weight.tail()"
   ]
  },
  {
   "cell_type": "code",
   "execution_count": 8,
   "metadata": {},
   "outputs": [
    {
     "data": {
      "text/html": [
       "<div>\n",
       "<style scoped>\n",
       "    .dataframe tbody tr th:only-of-type {\n",
       "        vertical-align: middle;\n",
       "    }\n",
       "\n",
       "    .dataframe tbody tr th {\n",
       "        vertical-align: top;\n",
       "    }\n",
       "\n",
       "    .dataframe thead th {\n",
       "        text-align: right;\n",
       "    }\n",
       "</style>\n",
       "<table border=\"1\" class=\"dataframe\">\n",
       "  <thead>\n",
       "    <tr style=\"text-align: right;\">\n",
       "      <th></th>\n",
       "      <th>sourceVersion</th>\n",
       "      <th>device</th>\n",
       "      <th>value</th>\n",
       "    </tr>\n",
       "  </thead>\n",
       "  <tbody>\n",
       "    <tr>\n",
       "      <th>count</th>\n",
       "      <td>992.000000</td>\n",
       "      <td>0.0</td>\n",
       "      <td>992.000000</td>\n",
       "    </tr>\n",
       "    <tr>\n",
       "      <th>mean</th>\n",
       "      <td>60.782258</td>\n",
       "      <td>NaN</td>\n",
       "      <td>286.829858</td>\n",
       "    </tr>\n",
       "    <tr>\n",
       "      <th>std</th>\n",
       "      <td>239.605615</td>\n",
       "      <td>NaN</td>\n",
       "      <td>20.631763</td>\n",
       "    </tr>\n",
       "    <tr>\n",
       "      <th>min</th>\n",
       "      <td>2.000000</td>\n",
       "      <td>NaN</td>\n",
       "      <td>247.577000</td>\n",
       "    </tr>\n",
       "    <tr>\n",
       "      <th>25%</th>\n",
       "      <td>2.000000</td>\n",
       "      <td>NaN</td>\n",
       "      <td>268.134500</td>\n",
       "    </tr>\n",
       "    <tr>\n",
       "      <th>50%</th>\n",
       "      <td>4.000000</td>\n",
       "      <td>NaN</td>\n",
       "      <td>294.755000</td>\n",
       "    </tr>\n",
       "    <tr>\n",
       "      <th>75%</th>\n",
       "      <td>7.000000</td>\n",
       "      <td>NaN</td>\n",
       "      <td>303.187250</td>\n",
       "    </tr>\n",
       "    <tr>\n",
       "      <th>max</th>\n",
       "      <td>1092.000000</td>\n",
       "      <td>NaN</td>\n",
       "      <td>313.274000</td>\n",
       "    </tr>\n",
       "  </tbody>\n",
       "</table>\n",
       "</div>"
      ],
      "text/plain": [
       "       sourceVersion  device       value\n",
       "count     992.000000     0.0  992.000000\n",
       "mean       60.782258     NaN  286.829858\n",
       "std       239.605615     NaN   20.631763\n",
       "min         2.000000     NaN  247.577000\n",
       "25%         2.000000     NaN  268.134500\n",
       "50%         4.000000     NaN  294.755000\n",
       "75%         7.000000     NaN  303.187250\n",
       "max      1092.000000     NaN  313.274000"
      ]
     },
     "execution_count": 8,
     "metadata": {},
     "output_type": "execute_result"
    }
   ],
   "source": [
    "weight.describe()"
   ]
  },
  {
   "cell_type": "markdown",
   "metadata": {},
   "source": [
    "----"
   ]
  },
  {
   "cell_type": "markdown",
   "metadata": {},
   "source": [
    "## Steps"
   ]
  },
  {
   "cell_type": "code",
   "execution_count": 9,
   "metadata": {},
   "outputs": [],
   "source": [
    "steps = pd.read_csv(\"data/apple_health_export/StepCount.csv\")"
   ]
  },
  {
   "cell_type": "code",
   "execution_count": 10,
   "metadata": {},
   "outputs": [
    {
     "data": {
      "text/plain": [
       "287796"
      ]
     },
     "execution_count": 10,
     "metadata": {},
     "output_type": "execute_result"
    }
   ],
   "source": [
    "len(steps)"
   ]
  },
  {
   "cell_type": "code",
   "execution_count": 11,
   "metadata": {},
   "outputs": [
    {
     "data": {
      "text/plain": [
       "Index(['sourceName', 'sourceVersion', 'device', 'type', 'unit', 'creationDate',\n",
       "       'startDate', 'endDate', 'value'],\n",
       "      dtype='object')"
      ]
     },
     "execution_count": 11,
     "metadata": {},
     "output_type": "execute_result"
    }
   ],
   "source": [
    "steps.columns"
   ]
  },
  {
   "cell_type": "code",
   "execution_count": 12,
   "metadata": {},
   "outputs": [
    {
     "data": {
      "text/html": [
       "<div>\n",
       "<style scoped>\n",
       "    .dataframe tbody tr th:only-of-type {\n",
       "        vertical-align: middle;\n",
       "    }\n",
       "\n",
       "    .dataframe tbody tr th {\n",
       "        vertical-align: top;\n",
       "    }\n",
       "\n",
       "    .dataframe thead th {\n",
       "        text-align: right;\n",
       "    }\n",
       "</style>\n",
       "<table border=\"1\" class=\"dataframe\">\n",
       "  <thead>\n",
       "    <tr style=\"text-align: right;\">\n",
       "      <th></th>\n",
       "      <th>value</th>\n",
       "    </tr>\n",
       "  </thead>\n",
       "  <tbody>\n",
       "    <tr>\n",
       "      <th>count</th>\n",
       "      <td>287796.000000</td>\n",
       "    </tr>\n",
       "    <tr>\n",
       "      <th>mean</th>\n",
       "      <td>66.582103</td>\n",
       "    </tr>\n",
       "    <tr>\n",
       "      <th>std</th>\n",
       "      <td>97.652859</td>\n",
       "    </tr>\n",
       "    <tr>\n",
       "      <th>min</th>\n",
       "      <td>1.000000</td>\n",
       "    </tr>\n",
       "    <tr>\n",
       "      <th>25%</th>\n",
       "      <td>18.000000</td>\n",
       "    </tr>\n",
       "    <tr>\n",
       "      <th>50%</th>\n",
       "      <td>38.000000</td>\n",
       "    </tr>\n",
       "    <tr>\n",
       "      <th>75%</th>\n",
       "      <td>81.000000</td>\n",
       "    </tr>\n",
       "    <tr>\n",
       "      <th>max</th>\n",
       "      <td>1331.000000</td>\n",
       "    </tr>\n",
       "  </tbody>\n",
       "</table>\n",
       "</div>"
      ],
      "text/plain": [
       "               value\n",
       "count  287796.000000\n",
       "mean       66.582103\n",
       "std        97.652859\n",
       "min         1.000000\n",
       "25%        18.000000\n",
       "50%        38.000000\n",
       "75%        81.000000\n",
       "max      1331.000000"
      ]
     },
     "execution_count": 12,
     "metadata": {},
     "output_type": "execute_result"
    }
   ],
   "source": [
    "steps.describe()"
   ]
  },
  {
   "cell_type": "code",
   "execution_count": 13,
   "metadata": {},
   "outputs": [
    {
     "data": {
      "text/html": [
       "<div>\n",
       "<style scoped>\n",
       "    .dataframe tbody tr th:only-of-type {\n",
       "        vertical-align: middle;\n",
       "    }\n",
       "\n",
       "    .dataframe tbody tr th {\n",
       "        vertical-align: top;\n",
       "    }\n",
       "\n",
       "    .dataframe thead th {\n",
       "        text-align: right;\n",
       "    }\n",
       "</style>\n",
       "<table border=\"1\" class=\"dataframe\">\n",
       "  <thead>\n",
       "    <tr style=\"text-align: right;\">\n",
       "      <th></th>\n",
       "      <th>sourceName</th>\n",
       "      <th>sourceVersion</th>\n",
       "      <th>device</th>\n",
       "      <th>type</th>\n",
       "      <th>unit</th>\n",
       "      <th>creationDate</th>\n",
       "      <th>startDate</th>\n",
       "      <th>endDate</th>\n",
       "      <th>value</th>\n",
       "    </tr>\n",
       "  </thead>\n",
       "  <tbody>\n",
       "    <tr>\n",
       "      <th>287791</th>\n",
       "      <td>David’s Apple Watch</td>\n",
       "      <td>8.4.2</td>\n",
       "      <td>&lt;&lt;HKDevice: 0x283e9a580&gt;, name:Apple Watch, ma...</td>\n",
       "      <td>StepCount</td>\n",
       "      <td>count</td>\n",
       "      <td>2022-04-03 10:17:12 -0400</td>\n",
       "      <td>2022-04-03 10:12:14 -0400</td>\n",
       "      <td>2022-04-03 10:12:24 -0400</td>\n",
       "      <td>14</td>\n",
       "    </tr>\n",
       "    <tr>\n",
       "      <th>287792</th>\n",
       "      <td>David’s Apple Watch</td>\n",
       "      <td>8.4.2</td>\n",
       "      <td>&lt;&lt;HKDevice: 0x283e9a580&gt;, name:Apple Watch, ma...</td>\n",
       "      <td>StepCount</td>\n",
       "      <td>count</td>\n",
       "      <td>2022-04-03 10:17:12 -0400</td>\n",
       "      <td>2022-04-03 10:13:58 -0400</td>\n",
       "      <td>2022-04-03 10:14:54 -0400</td>\n",
       "      <td>43</td>\n",
       "    </tr>\n",
       "    <tr>\n",
       "      <th>287793</th>\n",
       "      <td>David’s Apple Watch</td>\n",
       "      <td>8.4.2</td>\n",
       "      <td>&lt;&lt;HKDevice: 0x283e9a580&gt;, name:Apple Watch, ma...</td>\n",
       "      <td>StepCount</td>\n",
       "      <td>count</td>\n",
       "      <td>2022-04-03 10:17:12 -0400</td>\n",
       "      <td>2022-04-03 10:15:20 -0400</td>\n",
       "      <td>2022-04-03 10:15:35 -0400</td>\n",
       "      <td>12</td>\n",
       "    </tr>\n",
       "    <tr>\n",
       "      <th>287794</th>\n",
       "      <td>David’s Apple Watch</td>\n",
       "      <td>8.4.2</td>\n",
       "      <td>&lt;&lt;HKDevice: 0x283e9a580&gt;, name:Apple Watch, ma...</td>\n",
       "      <td>StepCount</td>\n",
       "      <td>count</td>\n",
       "      <td>2022-04-03 11:08:58 -0400</td>\n",
       "      <td>2022-04-03 10:57:51 -0400</td>\n",
       "      <td>2022-04-03 10:59:00 -0400</td>\n",
       "      <td>50</td>\n",
       "    </tr>\n",
       "    <tr>\n",
       "      <th>287795</th>\n",
       "      <td>David’s Apple Watch</td>\n",
       "      <td>8.4.2</td>\n",
       "      <td>&lt;&lt;HKDevice: 0x283e9a580&gt;, name:Apple Watch, ma...</td>\n",
       "      <td>StepCount</td>\n",
       "      <td>count</td>\n",
       "      <td>2022-04-03 11:28:15 -0400</td>\n",
       "      <td>2022-04-03 11:17:18 -0400</td>\n",
       "      <td>2022-04-03 11:18:11 -0400</td>\n",
       "      <td>69</td>\n",
       "    </tr>\n",
       "  </tbody>\n",
       "</table>\n",
       "</div>"
      ],
      "text/plain": [
       "                 sourceName sourceVersion  \\\n",
       "287791  David’s Apple Watch         8.4.2   \n",
       "287792  David’s Apple Watch         8.4.2   \n",
       "287793  David’s Apple Watch         8.4.2   \n",
       "287794  David’s Apple Watch         8.4.2   \n",
       "287795  David’s Apple Watch         8.4.2   \n",
       "\n",
       "                                                   device       type   unit  \\\n",
       "287791  <<HKDevice: 0x283e9a580>, name:Apple Watch, ma...  StepCount  count   \n",
       "287792  <<HKDevice: 0x283e9a580>, name:Apple Watch, ma...  StepCount  count   \n",
       "287793  <<HKDevice: 0x283e9a580>, name:Apple Watch, ma...  StepCount  count   \n",
       "287794  <<HKDevice: 0x283e9a580>, name:Apple Watch, ma...  StepCount  count   \n",
       "287795  <<HKDevice: 0x283e9a580>, name:Apple Watch, ma...  StepCount  count   \n",
       "\n",
       "                     creationDate                  startDate  \\\n",
       "287791  2022-04-03 10:17:12 -0400  2022-04-03 10:12:14 -0400   \n",
       "287792  2022-04-03 10:17:12 -0400  2022-04-03 10:13:58 -0400   \n",
       "287793  2022-04-03 10:17:12 -0400  2022-04-03 10:15:20 -0400   \n",
       "287794  2022-04-03 11:08:58 -0400  2022-04-03 10:57:51 -0400   \n",
       "287795  2022-04-03 11:28:15 -0400  2022-04-03 11:17:18 -0400   \n",
       "\n",
       "                          endDate  value  \n",
       "287791  2022-04-03 10:12:24 -0400     14  \n",
       "287792  2022-04-03 10:14:54 -0400     43  \n",
       "287793  2022-04-03 10:15:35 -0400     12  \n",
       "287794  2022-04-03 10:59:00 -0400     50  \n",
       "287795  2022-04-03 11:18:11 -0400     69  "
      ]
     },
     "execution_count": 13,
     "metadata": {},
     "output_type": "execute_result"
    }
   ],
   "source": [
    "steps.tail()"
   ]
  },
  {
   "cell_type": "code",
   "execution_count": 14,
   "metadata": {},
   "outputs": [
    {
     "data": {
      "text/plain": [
       "19162063"
      ]
     },
     "execution_count": 14,
     "metadata": {},
     "output_type": "execute_result"
    }
   ],
   "source": [
    "# total all-time steps\n",
    "steps.value.sum()"
   ]
  },
  {
   "cell_type": "markdown",
   "metadata": {},
   "source": [
    "-------"
   ]
  },
  {
   "cell_type": "markdown",
   "metadata": {},
   "source": [
    "## Stand Count"
   ]
  },
  {
   "cell_type": "code",
   "execution_count": 15,
   "metadata": {},
   "outputs": [],
   "source": [
    "stand = pd.read_csv(\"data/apple_health_export/AppleStandHour.csv\")"
   ]
  },
  {
   "cell_type": "code",
   "execution_count": 16,
   "metadata": {},
   "outputs": [
    {
     "data": {
      "text/plain": [
       "27743"
      ]
     },
     "execution_count": 16,
     "metadata": {},
     "output_type": "execute_result"
    }
   ],
   "source": [
    "len(stand)"
   ]
  },
  {
   "cell_type": "code",
   "execution_count": 17,
   "metadata": {},
   "outputs": [
    {
     "data": {
      "text/plain": [
       "Index(['sourceName', 'sourceVersion', 'device', 'type', 'unit', 'creationDate',\n",
       "       'startDate', 'endDate', 'value'],\n",
       "      dtype='object')"
      ]
     },
     "execution_count": 17,
     "metadata": {},
     "output_type": "execute_result"
    }
   ],
   "source": [
    "stand.columns"
   ]
  },
  {
   "cell_type": "code",
   "execution_count": 18,
   "metadata": {},
   "outputs": [
    {
     "data": {
      "text/html": [
       "<div>\n",
       "<style scoped>\n",
       "    .dataframe tbody tr th:only-of-type {\n",
       "        vertical-align: middle;\n",
       "    }\n",
       "\n",
       "    .dataframe tbody tr th {\n",
       "        vertical-align: top;\n",
       "    }\n",
       "\n",
       "    .dataframe thead th {\n",
       "        text-align: right;\n",
       "    }\n",
       "</style>\n",
       "<table border=\"1\" class=\"dataframe\">\n",
       "  <thead>\n",
       "    <tr style=\"text-align: right;\">\n",
       "      <th></th>\n",
       "      <th>unit</th>\n",
       "    </tr>\n",
       "  </thead>\n",
       "  <tbody>\n",
       "    <tr>\n",
       "      <th>count</th>\n",
       "      <td>0.0</td>\n",
       "    </tr>\n",
       "    <tr>\n",
       "      <th>mean</th>\n",
       "      <td>NaN</td>\n",
       "    </tr>\n",
       "    <tr>\n",
       "      <th>std</th>\n",
       "      <td>NaN</td>\n",
       "    </tr>\n",
       "    <tr>\n",
       "      <th>min</th>\n",
       "      <td>NaN</td>\n",
       "    </tr>\n",
       "    <tr>\n",
       "      <th>25%</th>\n",
       "      <td>NaN</td>\n",
       "    </tr>\n",
       "    <tr>\n",
       "      <th>50%</th>\n",
       "      <td>NaN</td>\n",
       "    </tr>\n",
       "    <tr>\n",
       "      <th>75%</th>\n",
       "      <td>NaN</td>\n",
       "    </tr>\n",
       "    <tr>\n",
       "      <th>max</th>\n",
       "      <td>NaN</td>\n",
       "    </tr>\n",
       "  </tbody>\n",
       "</table>\n",
       "</div>"
      ],
      "text/plain": [
       "       unit\n",
       "count   0.0\n",
       "mean    NaN\n",
       "std     NaN\n",
       "min     NaN\n",
       "25%     NaN\n",
       "50%     NaN\n",
       "75%     NaN\n",
       "max     NaN"
      ]
     },
     "execution_count": 18,
     "metadata": {},
     "output_type": "execute_result"
    }
   ],
   "source": [
    "stand.describe()"
   ]
  },
  {
   "cell_type": "code",
   "execution_count": 19,
   "metadata": {},
   "outputs": [
    {
     "data": {
      "text/html": [
       "<div>\n",
       "<style scoped>\n",
       "    .dataframe tbody tr th:only-of-type {\n",
       "        vertical-align: middle;\n",
       "    }\n",
       "\n",
       "    .dataframe tbody tr th {\n",
       "        vertical-align: top;\n",
       "    }\n",
       "\n",
       "    .dataframe thead th {\n",
       "        text-align: right;\n",
       "    }\n",
       "</style>\n",
       "<table border=\"1\" class=\"dataframe\">\n",
       "  <thead>\n",
       "    <tr style=\"text-align: right;\">\n",
       "      <th></th>\n",
       "      <th>sourceName</th>\n",
       "      <th>sourceVersion</th>\n",
       "      <th>device</th>\n",
       "      <th>type</th>\n",
       "      <th>unit</th>\n",
       "      <th>creationDate</th>\n",
       "      <th>startDate</th>\n",
       "      <th>endDate</th>\n",
       "      <th>value</th>\n",
       "    </tr>\n",
       "  </thead>\n",
       "  <tbody>\n",
       "    <tr>\n",
       "      <th>27738</th>\n",
       "      <td>David’s Apple Watch</td>\n",
       "      <td>8.4.2</td>\n",
       "      <td>&lt;&lt;HKDevice: 0x283e6e210&gt;, name:Apple Watch, ma...</td>\n",
       "      <td>AppleStandHour</td>\n",
       "      <td>NaN</td>\n",
       "      <td>2022-04-03 08:01:11 -0400</td>\n",
       "      <td>2022-04-03 07:00:00 -0400</td>\n",
       "      <td>2022-04-03 08:00:00 -0400</td>\n",
       "      <td>HKCategoryValueAppleStandHourIdle</td>\n",
       "    </tr>\n",
       "    <tr>\n",
       "      <th>27739</th>\n",
       "      <td>David’s Apple Watch</td>\n",
       "      <td>8.4.2</td>\n",
       "      <td>&lt;&lt;HKDevice: 0x283e6e210&gt;, name:Apple Watch, ma...</td>\n",
       "      <td>AppleStandHour</td>\n",
       "      <td>NaN</td>\n",
       "      <td>2022-04-03 08:45:07 -0400</td>\n",
       "      <td>2022-04-03 08:00:00 -0400</td>\n",
       "      <td>2022-04-03 09:00:00 -0400</td>\n",
       "      <td>HKCategoryValueAppleStandHourStood</td>\n",
       "    </tr>\n",
       "    <tr>\n",
       "      <th>27740</th>\n",
       "      <td>David’s Apple Watch</td>\n",
       "      <td>8.4.2</td>\n",
       "      <td>&lt;&lt;HKDevice: 0x283e6e210&gt;, name:Apple Watch, ma...</td>\n",
       "      <td>AppleStandHour</td>\n",
       "      <td>NaN</td>\n",
       "      <td>2022-04-03 10:00:11 -0400</td>\n",
       "      <td>2022-04-03 09:00:00 -0400</td>\n",
       "      <td>2022-04-03 10:00:00 -0400</td>\n",
       "      <td>HKCategoryValueAppleStandHourIdle</td>\n",
       "    </tr>\n",
       "    <tr>\n",
       "      <th>27741</th>\n",
       "      <td>David’s Apple Watch</td>\n",
       "      <td>8.4.2</td>\n",
       "      <td>&lt;&lt;HKDevice: 0x283e6e210&gt;, name:Apple Watch, ma...</td>\n",
       "      <td>AppleStandHour</td>\n",
       "      <td>NaN</td>\n",
       "      <td>2022-04-03 10:13:00 -0400</td>\n",
       "      <td>2022-04-03 10:00:00 -0400</td>\n",
       "      <td>2022-04-03 11:00:00 -0400</td>\n",
       "      <td>HKCategoryValueAppleStandHourStood</td>\n",
       "    </tr>\n",
       "    <tr>\n",
       "      <th>27742</th>\n",
       "      <td>David’s Apple Watch</td>\n",
       "      <td>8.4.2</td>\n",
       "      <td>&lt;&lt;HKDevice: 0x283e6e210&gt;, name:Apple Watch, ma...</td>\n",
       "      <td>AppleStandHour</td>\n",
       "      <td>NaN</td>\n",
       "      <td>2022-04-03 11:17:59 -0400</td>\n",
       "      <td>2022-04-03 11:00:00 -0400</td>\n",
       "      <td>2022-04-03 12:00:00 -0400</td>\n",
       "      <td>HKCategoryValueAppleStandHourStood</td>\n",
       "    </tr>\n",
       "  </tbody>\n",
       "</table>\n",
       "</div>"
      ],
      "text/plain": [
       "                sourceName sourceVersion  \\\n",
       "27738  David’s Apple Watch         8.4.2   \n",
       "27739  David’s Apple Watch         8.4.2   \n",
       "27740  David’s Apple Watch         8.4.2   \n",
       "27741  David’s Apple Watch         8.4.2   \n",
       "27742  David’s Apple Watch         8.4.2   \n",
       "\n",
       "                                                  device            type  \\\n",
       "27738  <<HKDevice: 0x283e6e210>, name:Apple Watch, ma...  AppleStandHour   \n",
       "27739  <<HKDevice: 0x283e6e210>, name:Apple Watch, ma...  AppleStandHour   \n",
       "27740  <<HKDevice: 0x283e6e210>, name:Apple Watch, ma...  AppleStandHour   \n",
       "27741  <<HKDevice: 0x283e6e210>, name:Apple Watch, ma...  AppleStandHour   \n",
       "27742  <<HKDevice: 0x283e6e210>, name:Apple Watch, ma...  AppleStandHour   \n",
       "\n",
       "       unit               creationDate                  startDate  \\\n",
       "27738   NaN  2022-04-03 08:01:11 -0400  2022-04-03 07:00:00 -0400   \n",
       "27739   NaN  2022-04-03 08:45:07 -0400  2022-04-03 08:00:00 -0400   \n",
       "27740   NaN  2022-04-03 10:00:11 -0400  2022-04-03 09:00:00 -0400   \n",
       "27741   NaN  2022-04-03 10:13:00 -0400  2022-04-03 10:00:00 -0400   \n",
       "27742   NaN  2022-04-03 11:17:59 -0400  2022-04-03 11:00:00 -0400   \n",
       "\n",
       "                         endDate                               value  \n",
       "27738  2022-04-03 08:00:00 -0400   HKCategoryValueAppleStandHourIdle  \n",
       "27739  2022-04-03 09:00:00 -0400  HKCategoryValueAppleStandHourStood  \n",
       "27740  2022-04-03 10:00:00 -0400   HKCategoryValueAppleStandHourIdle  \n",
       "27741  2022-04-03 11:00:00 -0400  HKCategoryValueAppleStandHourStood  \n",
       "27742  2022-04-03 12:00:00 -0400  HKCategoryValueAppleStandHourStood  "
      ]
     },
     "execution_count": 19,
     "metadata": {},
     "output_type": "execute_result"
    }
   ],
   "source": [
    "stand.tail()"
   ]
  },
  {
   "cell_type": "markdown",
   "metadata": {},
   "source": [
    "------"
   ]
  },
  {
   "cell_type": "markdown",
   "metadata": {},
   "source": [
    "## Resting Heart Rate (HR)"
   ]
  },
  {
   "cell_type": "code",
   "execution_count": 20,
   "metadata": {},
   "outputs": [],
   "source": [
    "restingHR = pd.read_csv(\"data/apple_health_export/RestingHeartRate.csv\")"
   ]
  },
  {
   "cell_type": "code",
   "execution_count": 21,
   "metadata": {},
   "outputs": [
    {
     "data": {
      "text/plain": [
       "1663"
      ]
     },
     "execution_count": 21,
     "metadata": {},
     "output_type": "execute_result"
    }
   ],
   "source": [
    "len(restingHR)"
   ]
  },
  {
   "cell_type": "code",
   "execution_count": 22,
   "metadata": {},
   "outputs": [
    {
     "data": {
      "text/html": [
       "<div>\n",
       "<style scoped>\n",
       "    .dataframe tbody tr th:only-of-type {\n",
       "        vertical-align: middle;\n",
       "    }\n",
       "\n",
       "    .dataframe tbody tr th {\n",
       "        vertical-align: top;\n",
       "    }\n",
       "\n",
       "    .dataframe thead th {\n",
       "        text-align: right;\n",
       "    }\n",
       "</style>\n",
       "<table border=\"1\" class=\"dataframe\">\n",
       "  <thead>\n",
       "    <tr style=\"text-align: right;\">\n",
       "      <th></th>\n",
       "      <th>device</th>\n",
       "      <th>value</th>\n",
       "    </tr>\n",
       "  </thead>\n",
       "  <tbody>\n",
       "    <tr>\n",
       "      <th>count</th>\n",
       "      <td>0.0</td>\n",
       "      <td>1663.000000</td>\n",
       "    </tr>\n",
       "    <tr>\n",
       "      <th>mean</th>\n",
       "      <td>NaN</td>\n",
       "      <td>75.360794</td>\n",
       "    </tr>\n",
       "    <tr>\n",
       "      <th>std</th>\n",
       "      <td>NaN</td>\n",
       "      <td>7.682537</td>\n",
       "    </tr>\n",
       "    <tr>\n",
       "      <th>min</th>\n",
       "      <td>NaN</td>\n",
       "      <td>43.000000</td>\n",
       "    </tr>\n",
       "    <tr>\n",
       "      <th>25%</th>\n",
       "      <td>NaN</td>\n",
       "      <td>72.000000</td>\n",
       "    </tr>\n",
       "    <tr>\n",
       "      <th>50%</th>\n",
       "      <td>NaN</td>\n",
       "      <td>76.000000</td>\n",
       "    </tr>\n",
       "    <tr>\n",
       "      <th>75%</th>\n",
       "      <td>NaN</td>\n",
       "      <td>80.000000</td>\n",
       "    </tr>\n",
       "    <tr>\n",
       "      <th>max</th>\n",
       "      <td>NaN</td>\n",
       "      <td>94.000000</td>\n",
       "    </tr>\n",
       "  </tbody>\n",
       "</table>\n",
       "</div>"
      ],
      "text/plain": [
       "       device        value\n",
       "count     0.0  1663.000000\n",
       "mean      NaN    75.360794\n",
       "std       NaN     7.682537\n",
       "min       NaN    43.000000\n",
       "25%       NaN    72.000000\n",
       "50%       NaN    76.000000\n",
       "75%       NaN    80.000000\n",
       "max       NaN    94.000000"
      ]
     },
     "execution_count": 22,
     "metadata": {},
     "output_type": "execute_result"
    }
   ],
   "source": [
    "restingHR.describe()"
   ]
  },
  {
   "cell_type": "markdown",
   "metadata": {},
   "source": [
    "---"
   ]
  },
  {
   "cell_type": "markdown",
   "metadata": {},
   "source": [
    "## Walking Heart Rate (HR) Average"
   ]
  },
  {
   "cell_type": "code",
   "execution_count": 23,
   "metadata": {},
   "outputs": [],
   "source": [
    "walkingHR = pd.read_csv(\"data/apple_health_export/WalkingHeartRateAverage.csv\")"
   ]
  },
  {
   "cell_type": "code",
   "execution_count": 24,
   "metadata": {},
   "outputs": [
    {
     "data": {
      "text/plain": [
       "1643"
      ]
     },
     "execution_count": 24,
     "metadata": {},
     "output_type": "execute_result"
    }
   ],
   "source": [
    "len(walkingHR)"
   ]
  },
  {
   "cell_type": "code",
   "execution_count": 25,
   "metadata": {},
   "outputs": [
    {
     "data": {
      "text/html": [
       "<div>\n",
       "<style scoped>\n",
       "    .dataframe tbody tr th:only-of-type {\n",
       "        vertical-align: middle;\n",
       "    }\n",
       "\n",
       "    .dataframe tbody tr th {\n",
       "        vertical-align: top;\n",
       "    }\n",
       "\n",
       "    .dataframe thead th {\n",
       "        text-align: right;\n",
       "    }\n",
       "</style>\n",
       "<table border=\"1\" class=\"dataframe\">\n",
       "  <thead>\n",
       "    <tr style=\"text-align: right;\">\n",
       "      <th></th>\n",
       "      <th>device</th>\n",
       "      <th>value</th>\n",
       "    </tr>\n",
       "  </thead>\n",
       "  <tbody>\n",
       "    <tr>\n",
       "      <th>count</th>\n",
       "      <td>0.0</td>\n",
       "      <td>1643.000000</td>\n",
       "    </tr>\n",
       "    <tr>\n",
       "      <th>mean</th>\n",
       "      <td>NaN</td>\n",
       "      <td>106.649117</td>\n",
       "    </tr>\n",
       "    <tr>\n",
       "      <th>std</th>\n",
       "      <td>NaN</td>\n",
       "      <td>8.650912</td>\n",
       "    </tr>\n",
       "    <tr>\n",
       "      <th>min</th>\n",
       "      <td>NaN</td>\n",
       "      <td>61.000000</td>\n",
       "    </tr>\n",
       "    <tr>\n",
       "      <th>25%</th>\n",
       "      <td>NaN</td>\n",
       "      <td>101.000000</td>\n",
       "    </tr>\n",
       "    <tr>\n",
       "      <th>50%</th>\n",
       "      <td>NaN</td>\n",
       "      <td>107.000000</td>\n",
       "    </tr>\n",
       "    <tr>\n",
       "      <th>75%</th>\n",
       "      <td>NaN</td>\n",
       "      <td>112.000000</td>\n",
       "    </tr>\n",
       "    <tr>\n",
       "      <th>max</th>\n",
       "      <td>NaN</td>\n",
       "      <td>142.000000</td>\n",
       "    </tr>\n",
       "  </tbody>\n",
       "</table>\n",
       "</div>"
      ],
      "text/plain": [
       "       device        value\n",
       "count     0.0  1643.000000\n",
       "mean      NaN   106.649117\n",
       "std       NaN     8.650912\n",
       "min       NaN    61.000000\n",
       "25%       NaN   101.000000\n",
       "50%       NaN   107.000000\n",
       "75%       NaN   112.000000\n",
       "max       NaN   142.000000"
      ]
     },
     "execution_count": 25,
     "metadata": {},
     "output_type": "execute_result"
    }
   ],
   "source": [
    "walkingHR.describe()"
   ]
  },
  {
   "cell_type": "markdown",
   "metadata": {},
   "source": [
    "---"
   ]
  },
  {
   "cell_type": "markdown",
   "metadata": {},
   "source": [
    "## Heart Rate Variability (HRV)"
   ]
  },
  {
   "cell_type": "code",
   "execution_count": 26,
   "metadata": {},
   "outputs": [],
   "source": [
    "hrv = pd.read_csv(\"data/apple_health_export/HeartRateVariabilitySDNN.csv\")"
   ]
  },
  {
   "cell_type": "code",
   "execution_count": 27,
   "metadata": {},
   "outputs": [
    {
     "data": {
      "text/plain": [
       "7781"
      ]
     },
     "execution_count": 27,
     "metadata": {},
     "output_type": "execute_result"
    }
   ],
   "source": [
    "len(hrv)"
   ]
  },
  {
   "cell_type": "code",
   "execution_count": 28,
   "metadata": {},
   "outputs": [
    {
     "data": {
      "text/plain": [
       "Index(['sourceName', 'sourceVersion', 'device', 'type', 'unit', 'creationDate',\n",
       "       'startDate', 'endDate', 'value'],\n",
       "      dtype='object')"
      ]
     },
     "execution_count": 28,
     "metadata": {},
     "output_type": "execute_result"
    }
   ],
   "source": [
    "hrv.columns"
   ]
  },
  {
   "cell_type": "code",
   "execution_count": 29,
   "metadata": {},
   "outputs": [
    {
     "data": {
      "text/html": [
       "<div>\n",
       "<style scoped>\n",
       "    .dataframe tbody tr th:only-of-type {\n",
       "        vertical-align: middle;\n",
       "    }\n",
       "\n",
       "    .dataframe tbody tr th {\n",
       "        vertical-align: top;\n",
       "    }\n",
       "\n",
       "    .dataframe thead th {\n",
       "        text-align: right;\n",
       "    }\n",
       "</style>\n",
       "<table border=\"1\" class=\"dataframe\">\n",
       "  <thead>\n",
       "    <tr style=\"text-align: right;\">\n",
       "      <th></th>\n",
       "      <th>value</th>\n",
       "    </tr>\n",
       "  </thead>\n",
       "  <tbody>\n",
       "    <tr>\n",
       "      <th>count</th>\n",
       "      <td>7781.000000</td>\n",
       "    </tr>\n",
       "    <tr>\n",
       "      <th>mean</th>\n",
       "      <td>16.941942</td>\n",
       "    </tr>\n",
       "    <tr>\n",
       "      <th>std</th>\n",
       "      <td>10.653666</td>\n",
       "    </tr>\n",
       "    <tr>\n",
       "      <th>min</th>\n",
       "      <td>3.051640</td>\n",
       "    </tr>\n",
       "    <tr>\n",
       "      <th>25%</th>\n",
       "      <td>11.323400</td>\n",
       "    </tr>\n",
       "    <tr>\n",
       "      <th>50%</th>\n",
       "      <td>15.145100</td>\n",
       "    </tr>\n",
       "    <tr>\n",
       "      <th>75%</th>\n",
       "      <td>20.424400</td>\n",
       "    </tr>\n",
       "    <tr>\n",
       "      <th>max</th>\n",
       "      <td>286.346000</td>\n",
       "    </tr>\n",
       "  </tbody>\n",
       "</table>\n",
       "</div>"
      ],
      "text/plain": [
       "             value\n",
       "count  7781.000000\n",
       "mean     16.941942\n",
       "std      10.653666\n",
       "min       3.051640\n",
       "25%      11.323400\n",
       "50%      15.145100\n",
       "75%      20.424400\n",
       "max     286.346000"
      ]
     },
     "execution_count": 29,
     "metadata": {},
     "output_type": "execute_result"
    }
   ],
   "source": [
    "hrv.describe()"
   ]
  },
  {
   "cell_type": "code",
   "execution_count": 30,
   "metadata": {},
   "outputs": [
    {
     "data": {
      "text/html": [
       "<div>\n",
       "<style scoped>\n",
       "    .dataframe tbody tr th:only-of-type {\n",
       "        vertical-align: middle;\n",
       "    }\n",
       "\n",
       "    .dataframe tbody tr th {\n",
       "        vertical-align: top;\n",
       "    }\n",
       "\n",
       "    .dataframe thead th {\n",
       "        text-align: right;\n",
       "    }\n",
       "</style>\n",
       "<table border=\"1\" class=\"dataframe\">\n",
       "  <thead>\n",
       "    <tr style=\"text-align: right;\">\n",
       "      <th></th>\n",
       "      <th>sourceName</th>\n",
       "      <th>sourceVersion</th>\n",
       "      <th>device</th>\n",
       "      <th>type</th>\n",
       "      <th>unit</th>\n",
       "      <th>creationDate</th>\n",
       "      <th>startDate</th>\n",
       "      <th>endDate</th>\n",
       "      <th>value</th>\n",
       "    </tr>\n",
       "  </thead>\n",
       "  <tbody>\n",
       "    <tr>\n",
       "      <th>7776</th>\n",
       "      <td>David’s Apple Watch</td>\n",
       "      <td>8.4.2</td>\n",
       "      <td>&lt;&lt;HKDevice: 0x283e85400&gt;, name:Apple Watch, ma...</td>\n",
       "      <td>HeartRateVariabilitySDNN</td>\n",
       "      <td>ms</td>\n",
       "      <td>2022-04-03 02:12:14 -0400</td>\n",
       "      <td>2022-04-03 02:11:12 -0400</td>\n",
       "      <td>2022-04-03 02:12:11 -0400</td>\n",
       "      <td>8.97566</td>\n",
       "    </tr>\n",
       "    <tr>\n",
       "      <th>7777</th>\n",
       "      <td>David’s Apple Watch</td>\n",
       "      <td>8.4.2</td>\n",
       "      <td>&lt;&lt;HKDevice: 0x283e85400&gt;, name:Apple Watch, ma...</td>\n",
       "      <td>HeartRateVariabilitySDNN</td>\n",
       "      <td>ms</td>\n",
       "      <td>2022-04-03 04:12:09 -0400</td>\n",
       "      <td>2022-04-03 04:11:08 -0400</td>\n",
       "      <td>2022-04-03 04:12:07 -0400</td>\n",
       "      <td>7.85016</td>\n",
       "    </tr>\n",
       "    <tr>\n",
       "      <th>7778</th>\n",
       "      <td>David’s Apple Watch</td>\n",
       "      <td>8.4.2</td>\n",
       "      <td>&lt;&lt;HKDevice: 0x283e85400&gt;, name:Apple Watch, ma...</td>\n",
       "      <td>HeartRateVariabilitySDNN</td>\n",
       "      <td>ms</td>\n",
       "      <td>2022-04-03 06:12:10 -0400</td>\n",
       "      <td>2022-04-03 06:11:09 -0400</td>\n",
       "      <td>2022-04-03 06:12:07 -0400</td>\n",
       "      <td>7.27152</td>\n",
       "    </tr>\n",
       "    <tr>\n",
       "      <th>7779</th>\n",
       "      <td>David’s Apple Watch</td>\n",
       "      <td>8.4.2</td>\n",
       "      <td>&lt;&lt;HKDevice: 0x283e85400&gt;, name:Apple Watch, ma...</td>\n",
       "      <td>HeartRateVariabilitySDNN</td>\n",
       "      <td>ms</td>\n",
       "      <td>2022-04-03 08:12:15 -0400</td>\n",
       "      <td>2022-04-03 08:11:09 -0400</td>\n",
       "      <td>2022-04-03 08:12:08 -0400</td>\n",
       "      <td>9.70502</td>\n",
       "    </tr>\n",
       "    <tr>\n",
       "      <th>7780</th>\n",
       "      <td>David’s Apple Watch</td>\n",
       "      <td>8.4.2</td>\n",
       "      <td>&lt;&lt;HKDevice: 0x283e85400&gt;, name:Apple Watch, ma...</td>\n",
       "      <td>HeartRateVariabilitySDNN</td>\n",
       "      <td>ms</td>\n",
       "      <td>2022-04-03 10:20:00 -0400</td>\n",
       "      <td>2022-04-03 10:19:00 -0400</td>\n",
       "      <td>2022-04-03 10:19:56 -0400</td>\n",
       "      <td>30.52560</td>\n",
       "    </tr>\n",
       "  </tbody>\n",
       "</table>\n",
       "</div>"
      ],
      "text/plain": [
       "               sourceName sourceVersion  \\\n",
       "7776  David’s Apple Watch         8.4.2   \n",
       "7777  David’s Apple Watch         8.4.2   \n",
       "7778  David’s Apple Watch         8.4.2   \n",
       "7779  David’s Apple Watch         8.4.2   \n",
       "7780  David’s Apple Watch         8.4.2   \n",
       "\n",
       "                                                 device  \\\n",
       "7776  <<HKDevice: 0x283e85400>, name:Apple Watch, ma...   \n",
       "7777  <<HKDevice: 0x283e85400>, name:Apple Watch, ma...   \n",
       "7778  <<HKDevice: 0x283e85400>, name:Apple Watch, ma...   \n",
       "7779  <<HKDevice: 0x283e85400>, name:Apple Watch, ma...   \n",
       "7780  <<HKDevice: 0x283e85400>, name:Apple Watch, ma...   \n",
       "\n",
       "                          type unit               creationDate  \\\n",
       "7776  HeartRateVariabilitySDNN   ms  2022-04-03 02:12:14 -0400   \n",
       "7777  HeartRateVariabilitySDNN   ms  2022-04-03 04:12:09 -0400   \n",
       "7778  HeartRateVariabilitySDNN   ms  2022-04-03 06:12:10 -0400   \n",
       "7779  HeartRateVariabilitySDNN   ms  2022-04-03 08:12:15 -0400   \n",
       "7780  HeartRateVariabilitySDNN   ms  2022-04-03 10:20:00 -0400   \n",
       "\n",
       "                      startDate                    endDate     value  \n",
       "7776  2022-04-03 02:11:12 -0400  2022-04-03 02:12:11 -0400   8.97566  \n",
       "7777  2022-04-03 04:11:08 -0400  2022-04-03 04:12:07 -0400   7.85016  \n",
       "7778  2022-04-03 06:11:09 -0400  2022-04-03 06:12:07 -0400   7.27152  \n",
       "7779  2022-04-03 08:11:09 -0400  2022-04-03 08:12:08 -0400   9.70502  \n",
       "7780  2022-04-03 10:19:00 -0400  2022-04-03 10:19:56 -0400  30.52560  "
      ]
     },
     "execution_count": 30,
     "metadata": {},
     "output_type": "execute_result"
    }
   ],
   "source": [
    "hrv.tail()"
   ]
  },
  {
   "cell_type": "markdown",
   "metadata": {},
   "source": [
    "-------"
   ]
  },
  {
   "cell_type": "markdown",
   "metadata": {},
   "source": [
    "## VO2 Max"
   ]
  },
  {
   "cell_type": "code",
   "execution_count": 31,
   "metadata": {},
   "outputs": [],
   "source": [
    "vo2max = pd.read_csv(\"data/apple_health_export/VO2Max.csv\")"
   ]
  },
  {
   "cell_type": "code",
   "execution_count": 32,
   "metadata": {},
   "outputs": [
    {
     "data": {
      "text/plain": [
       "74"
      ]
     },
     "execution_count": 32,
     "metadata": {},
     "output_type": "execute_result"
    }
   ],
   "source": [
    "len(vo2max)"
   ]
  },
  {
   "cell_type": "code",
   "execution_count": 33,
   "metadata": {},
   "outputs": [
    {
     "data": {
      "text/html": [
       "<div>\n",
       "<style scoped>\n",
       "    .dataframe tbody tr th:only-of-type {\n",
       "        vertical-align: middle;\n",
       "    }\n",
       "\n",
       "    .dataframe tbody tr th {\n",
       "        vertical-align: top;\n",
       "    }\n",
       "\n",
       "    .dataframe thead th {\n",
       "        text-align: right;\n",
       "    }\n",
       "</style>\n",
       "<table border=\"1\" class=\"dataframe\">\n",
       "  <thead>\n",
       "    <tr style=\"text-align: right;\">\n",
       "      <th></th>\n",
       "      <th>device</th>\n",
       "      <th>value</th>\n",
       "    </tr>\n",
       "  </thead>\n",
       "  <tbody>\n",
       "    <tr>\n",
       "      <th>count</th>\n",
       "      <td>0.0</td>\n",
       "      <td>74.000000</td>\n",
       "    </tr>\n",
       "    <tr>\n",
       "      <th>mean</th>\n",
       "      <td>NaN</td>\n",
       "      <td>21.642982</td>\n",
       "    </tr>\n",
       "    <tr>\n",
       "      <th>std</th>\n",
       "      <td>NaN</td>\n",
       "      <td>2.638651</td>\n",
       "    </tr>\n",
       "    <tr>\n",
       "      <th>min</th>\n",
       "      <td>NaN</td>\n",
       "      <td>17.710000</td>\n",
       "    </tr>\n",
       "    <tr>\n",
       "      <th>25%</th>\n",
       "      <td>NaN</td>\n",
       "      <td>18.382500</td>\n",
       "    </tr>\n",
       "    <tr>\n",
       "      <th>50%</th>\n",
       "      <td>NaN</td>\n",
       "      <td>22.860000</td>\n",
       "    </tr>\n",
       "    <tr>\n",
       "      <th>75%</th>\n",
       "      <td>NaN</td>\n",
       "      <td>23.465000</td>\n",
       "    </tr>\n",
       "    <tr>\n",
       "      <th>max</th>\n",
       "      <td>NaN</td>\n",
       "      <td>30.060300</td>\n",
       "    </tr>\n",
       "  </tbody>\n",
       "</table>\n",
       "</div>"
      ],
      "text/plain": [
       "       device      value\n",
       "count     0.0  74.000000\n",
       "mean      NaN  21.642982\n",
       "std       NaN   2.638651\n",
       "min       NaN  17.710000\n",
       "25%       NaN  18.382500\n",
       "50%       NaN  22.860000\n",
       "75%       NaN  23.465000\n",
       "max       NaN  30.060300"
      ]
     },
     "execution_count": 33,
     "metadata": {},
     "output_type": "execute_result"
    }
   ],
   "source": [
    "vo2max.describe()"
   ]
  },
  {
   "cell_type": "markdown",
   "metadata": {},
   "source": [
    "----"
   ]
  },
  {
   "cell_type": "markdown",
   "metadata": {},
   "source": [
    "## Blood Pressure"
   ]
  },
  {
   "cell_type": "code",
   "execution_count": 34,
   "metadata": {},
   "outputs": [],
   "source": [
    "diastolic = pd.read_csv(\"data/apple_health_export/BloodPressureDiastolic.csv\")\n",
    "systolic = pd.read_csv(\"data/apple_health_export/BloodPressureSystolic.csv\")"
   ]
  },
  {
   "cell_type": "code",
   "execution_count": 35,
   "metadata": {},
   "outputs": [
    {
     "data": {
      "text/html": [
       "<div>\n",
       "<style scoped>\n",
       "    .dataframe tbody tr th:only-of-type {\n",
       "        vertical-align: middle;\n",
       "    }\n",
       "\n",
       "    .dataframe tbody tr th {\n",
       "        vertical-align: top;\n",
       "    }\n",
       "\n",
       "    .dataframe thead th {\n",
       "        text-align: right;\n",
       "    }\n",
       "</style>\n",
       "<table border=\"1\" class=\"dataframe\">\n",
       "  <thead>\n",
       "    <tr style=\"text-align: right;\">\n",
       "      <th></th>\n",
       "      <th>sourceVersion</th>\n",
       "      <th>device</th>\n",
       "      <th>value</th>\n",
       "    </tr>\n",
       "  </thead>\n",
       "  <tbody>\n",
       "    <tr>\n",
       "      <th>count</th>\n",
       "      <td>134.000000</td>\n",
       "      <td>0.0</td>\n",
       "      <td>134.000000</td>\n",
       "    </tr>\n",
       "    <tr>\n",
       "      <th>mean</th>\n",
       "      <td>592.753731</td>\n",
       "      <td>NaN</td>\n",
       "      <td>72.201493</td>\n",
       "    </tr>\n",
       "    <tr>\n",
       "      <th>std</th>\n",
       "      <td>606.891159</td>\n",
       "      <td>NaN</td>\n",
       "      <td>5.694978</td>\n",
       "    </tr>\n",
       "    <tr>\n",
       "      <th>min</th>\n",
       "      <td>216.000000</td>\n",
       "      <td>NaN</td>\n",
       "      <td>61.000000</td>\n",
       "    </tr>\n",
       "    <tr>\n",
       "      <th>25%</th>\n",
       "      <td>216.000000</td>\n",
       "      <td>NaN</td>\n",
       "      <td>68.000000</td>\n",
       "    </tr>\n",
       "    <tr>\n",
       "      <th>50%</th>\n",
       "      <td>232.000000</td>\n",
       "      <td>NaN</td>\n",
       "      <td>72.000000</td>\n",
       "    </tr>\n",
       "    <tr>\n",
       "      <th>75%</th>\n",
       "      <td>1609.000000</td>\n",
       "      <td>NaN</td>\n",
       "      <td>77.000000</td>\n",
       "    </tr>\n",
       "    <tr>\n",
       "      <th>max</th>\n",
       "      <td>1609.000000</td>\n",
       "      <td>NaN</td>\n",
       "      <td>85.000000</td>\n",
       "    </tr>\n",
       "  </tbody>\n",
       "</table>\n",
       "</div>"
      ],
      "text/plain": [
       "       sourceVersion  device       value\n",
       "count     134.000000     0.0  134.000000\n",
       "mean      592.753731     NaN   72.201493\n",
       "std       606.891159     NaN    5.694978\n",
       "min       216.000000     NaN   61.000000\n",
       "25%       216.000000     NaN   68.000000\n",
       "50%       232.000000     NaN   72.000000\n",
       "75%      1609.000000     NaN   77.000000\n",
       "max      1609.000000     NaN   85.000000"
      ]
     },
     "execution_count": 35,
     "metadata": {},
     "output_type": "execute_result"
    }
   ],
   "source": [
    "diastolic.describe()"
   ]
  },
  {
   "cell_type": "code",
   "execution_count": 36,
   "metadata": {},
   "outputs": [
    {
     "data": {
      "text/html": [
       "<div>\n",
       "<style scoped>\n",
       "    .dataframe tbody tr th:only-of-type {\n",
       "        vertical-align: middle;\n",
       "    }\n",
       "\n",
       "    .dataframe tbody tr th {\n",
       "        vertical-align: top;\n",
       "    }\n",
       "\n",
       "    .dataframe thead th {\n",
       "        text-align: right;\n",
       "    }\n",
       "</style>\n",
       "<table border=\"1\" class=\"dataframe\">\n",
       "  <thead>\n",
       "    <tr style=\"text-align: right;\">\n",
       "      <th></th>\n",
       "      <th>sourceVersion</th>\n",
       "      <th>device</th>\n",
       "      <th>value</th>\n",
       "    </tr>\n",
       "  </thead>\n",
       "  <tbody>\n",
       "    <tr>\n",
       "      <th>count</th>\n",
       "      <td>134.000000</td>\n",
       "      <td>0.0</td>\n",
       "      <td>134.000000</td>\n",
       "    </tr>\n",
       "    <tr>\n",
       "      <th>mean</th>\n",
       "      <td>592.753731</td>\n",
       "      <td>NaN</td>\n",
       "      <td>120.029851</td>\n",
       "    </tr>\n",
       "    <tr>\n",
       "      <th>std</th>\n",
       "      <td>606.891159</td>\n",
       "      <td>NaN</td>\n",
       "      <td>8.745302</td>\n",
       "    </tr>\n",
       "    <tr>\n",
       "      <th>min</th>\n",
       "      <td>216.000000</td>\n",
       "      <td>NaN</td>\n",
       "      <td>99.000000</td>\n",
       "    </tr>\n",
       "    <tr>\n",
       "      <th>25%</th>\n",
       "      <td>216.000000</td>\n",
       "      <td>NaN</td>\n",
       "      <td>114.000000</td>\n",
       "    </tr>\n",
       "    <tr>\n",
       "      <th>50%</th>\n",
       "      <td>232.000000</td>\n",
       "      <td>NaN</td>\n",
       "      <td>119.500000</td>\n",
       "    </tr>\n",
       "    <tr>\n",
       "      <th>75%</th>\n",
       "      <td>1609.000000</td>\n",
       "      <td>NaN</td>\n",
       "      <td>125.500000</td>\n",
       "    </tr>\n",
       "    <tr>\n",
       "      <th>max</th>\n",
       "      <td>1609.000000</td>\n",
       "      <td>NaN</td>\n",
       "      <td>142.000000</td>\n",
       "    </tr>\n",
       "  </tbody>\n",
       "</table>\n",
       "</div>"
      ],
      "text/plain": [
       "       sourceVersion  device       value\n",
       "count     134.000000     0.0  134.000000\n",
       "mean      592.753731     NaN  120.029851\n",
       "std       606.891159     NaN    8.745302\n",
       "min       216.000000     NaN   99.000000\n",
       "25%       216.000000     NaN  114.000000\n",
       "50%       232.000000     NaN  119.500000\n",
       "75%      1609.000000     NaN  125.500000\n",
       "max      1609.000000     NaN  142.000000"
      ]
     },
     "execution_count": 36,
     "metadata": {},
     "output_type": "execute_result"
    }
   ],
   "source": [
    "systolic.describe()"
   ]
  },
  {
   "cell_type": "markdown",
   "metadata": {},
   "source": [
    "------"
   ]
  },
  {
   "cell_type": "markdown",
   "metadata": {},
   "source": [
    "## Sleep"
   ]
  },
  {
   "cell_type": "code",
   "execution_count": 37,
   "metadata": {},
   "outputs": [],
   "source": [
    "sleep = pd.read_csv(\"data/apple_health_export/SleepAnalysis.csv\")"
   ]
  },
  {
   "cell_type": "code",
   "execution_count": 38,
   "metadata": {},
   "outputs": [
    {
     "data": {
      "text/html": [
       "<div>\n",
       "<style scoped>\n",
       "    .dataframe tbody tr th:only-of-type {\n",
       "        vertical-align: middle;\n",
       "    }\n",
       "\n",
       "    .dataframe tbody tr th {\n",
       "        vertical-align: top;\n",
       "    }\n",
       "\n",
       "    .dataframe thead th {\n",
       "        text-align: right;\n",
       "    }\n",
       "</style>\n",
       "<table border=\"1\" class=\"dataframe\">\n",
       "  <thead>\n",
       "    <tr style=\"text-align: right;\">\n",
       "      <th></th>\n",
       "      <th>sourceName</th>\n",
       "      <th>sourceVersion</th>\n",
       "      <th>device</th>\n",
       "      <th>type</th>\n",
       "      <th>unit</th>\n",
       "      <th>creationDate</th>\n",
       "      <th>startDate</th>\n",
       "      <th>endDate</th>\n",
       "      <th>value</th>\n",
       "    </tr>\n",
       "  </thead>\n",
       "  <tbody>\n",
       "    <tr>\n",
       "      <th>1083</th>\n",
       "      <td>David’s Apple Watch</td>\n",
       "      <td>8.4.2</td>\n",
       "      <td>NaN</td>\n",
       "      <td>SleepAnalysis</td>\n",
       "      <td>NaN</td>\n",
       "      <td>2022-04-03 08:47:23 -0400</td>\n",
       "      <td>2022-04-03 05:16:01 -0400</td>\n",
       "      <td>2022-04-03 06:10:01 -0400</td>\n",
       "      <td>HKCategoryValueSleepAnalysisAsleep</td>\n",
       "    </tr>\n",
       "    <tr>\n",
       "      <th>1084</th>\n",
       "      <td>David’s Apple Watch</td>\n",
       "      <td>8.4.2</td>\n",
       "      <td>NaN</td>\n",
       "      <td>SleepAnalysis</td>\n",
       "      <td>NaN</td>\n",
       "      <td>2022-04-03 08:47:23 -0400</td>\n",
       "      <td>2022-04-03 06:16:01 -0400</td>\n",
       "      <td>2022-04-03 07:13:01 -0400</td>\n",
       "      <td>HKCategoryValueSleepAnalysisAsleep</td>\n",
       "    </tr>\n",
       "    <tr>\n",
       "      <th>1085</th>\n",
       "      <td>David’s Apple Watch</td>\n",
       "      <td>8.4.2</td>\n",
       "      <td>NaN</td>\n",
       "      <td>SleepAnalysis</td>\n",
       "      <td>NaN</td>\n",
       "      <td>2022-04-03 08:47:23 -0400</td>\n",
       "      <td>2022-04-03 07:17:31 -0400</td>\n",
       "      <td>2022-04-03 07:55:31 -0400</td>\n",
       "      <td>HKCategoryValueSleepAnalysisAsleep</td>\n",
       "    </tr>\n",
       "    <tr>\n",
       "      <th>1086</th>\n",
       "      <td>David iPhone</td>\n",
       "      <td>15.3.1</td>\n",
       "      <td>NaN</td>\n",
       "      <td>SleepAnalysis</td>\n",
       "      <td>NaN</td>\n",
       "      <td>2022-04-03 08:47:22 -0400</td>\n",
       "      <td>2022-04-02 23:48:27 -0400</td>\n",
       "      <td>2022-04-03 08:01:22 -0400</td>\n",
       "      <td>HKCategoryValueSleepAnalysisInBed</td>\n",
       "    </tr>\n",
       "    <tr>\n",
       "      <th>1087</th>\n",
       "      <td>David iPhone</td>\n",
       "      <td>15.3.1</td>\n",
       "      <td>NaN</td>\n",
       "      <td>SleepAnalysis</td>\n",
       "      <td>NaN</td>\n",
       "      <td>2022-04-03 08:47:22 -0400</td>\n",
       "      <td>2022-04-03 08:19:03 -0400</td>\n",
       "      <td>2022-04-03 08:20:43 -0400</td>\n",
       "      <td>HKCategoryValueSleepAnalysisInBed</td>\n",
       "    </tr>\n",
       "  </tbody>\n",
       "</table>\n",
       "</div>"
      ],
      "text/plain": [
       "               sourceName sourceVersion  device           type  unit  \\\n",
       "1083  David’s Apple Watch         8.4.2     NaN  SleepAnalysis   NaN   \n",
       "1084  David’s Apple Watch         8.4.2     NaN  SleepAnalysis   NaN   \n",
       "1085  David’s Apple Watch         8.4.2     NaN  SleepAnalysis   NaN   \n",
       "1086         David iPhone        15.3.1     NaN  SleepAnalysis   NaN   \n",
       "1087         David iPhone        15.3.1     NaN  SleepAnalysis   NaN   \n",
       "\n",
       "                   creationDate                  startDate  \\\n",
       "1083  2022-04-03 08:47:23 -0400  2022-04-03 05:16:01 -0400   \n",
       "1084  2022-04-03 08:47:23 -0400  2022-04-03 06:16:01 -0400   \n",
       "1085  2022-04-03 08:47:23 -0400  2022-04-03 07:17:31 -0400   \n",
       "1086  2022-04-03 08:47:22 -0400  2022-04-02 23:48:27 -0400   \n",
       "1087  2022-04-03 08:47:22 -0400  2022-04-03 08:19:03 -0400   \n",
       "\n",
       "                        endDate                               value  \n",
       "1083  2022-04-03 06:10:01 -0400  HKCategoryValueSleepAnalysisAsleep  \n",
       "1084  2022-04-03 07:13:01 -0400  HKCategoryValueSleepAnalysisAsleep  \n",
       "1085  2022-04-03 07:55:31 -0400  HKCategoryValueSleepAnalysisAsleep  \n",
       "1086  2022-04-03 08:01:22 -0400   HKCategoryValueSleepAnalysisInBed  \n",
       "1087  2022-04-03 08:20:43 -0400   HKCategoryValueSleepAnalysisInBed  "
      ]
     },
     "execution_count": 38,
     "metadata": {},
     "output_type": "execute_result"
    }
   ],
   "source": [
    "sleep.tail()"
   ]
  },
  {
   "cell_type": "code",
   "execution_count": 39,
   "metadata": {},
   "outputs": [
    {
     "data": {
      "text/html": [
       "<div>\n",
       "<style scoped>\n",
       "    .dataframe tbody tr th:only-of-type {\n",
       "        vertical-align: middle;\n",
       "    }\n",
       "\n",
       "    .dataframe tbody tr th {\n",
       "        vertical-align: top;\n",
       "    }\n",
       "\n",
       "    .dataframe thead th {\n",
       "        text-align: right;\n",
       "    }\n",
       "</style>\n",
       "<table border=\"1\" class=\"dataframe\">\n",
       "  <thead>\n",
       "    <tr style=\"text-align: right;\">\n",
       "      <th></th>\n",
       "      <th>device</th>\n",
       "      <th>unit</th>\n",
       "    </tr>\n",
       "  </thead>\n",
       "  <tbody>\n",
       "    <tr>\n",
       "      <th>count</th>\n",
       "      <td>0.0</td>\n",
       "      <td>0.0</td>\n",
       "    </tr>\n",
       "    <tr>\n",
       "      <th>mean</th>\n",
       "      <td>NaN</td>\n",
       "      <td>NaN</td>\n",
       "    </tr>\n",
       "    <tr>\n",
       "      <th>std</th>\n",
       "      <td>NaN</td>\n",
       "      <td>NaN</td>\n",
       "    </tr>\n",
       "    <tr>\n",
       "      <th>min</th>\n",
       "      <td>NaN</td>\n",
       "      <td>NaN</td>\n",
       "    </tr>\n",
       "    <tr>\n",
       "      <th>25%</th>\n",
       "      <td>NaN</td>\n",
       "      <td>NaN</td>\n",
       "    </tr>\n",
       "    <tr>\n",
       "      <th>50%</th>\n",
       "      <td>NaN</td>\n",
       "      <td>NaN</td>\n",
       "    </tr>\n",
       "    <tr>\n",
       "      <th>75%</th>\n",
       "      <td>NaN</td>\n",
       "      <td>NaN</td>\n",
       "    </tr>\n",
       "    <tr>\n",
       "      <th>max</th>\n",
       "      <td>NaN</td>\n",
       "      <td>NaN</td>\n",
       "    </tr>\n",
       "  </tbody>\n",
       "</table>\n",
       "</div>"
      ],
      "text/plain": [
       "       device  unit\n",
       "count     0.0   0.0\n",
       "mean      NaN   NaN\n",
       "std       NaN   NaN\n",
       "min       NaN   NaN\n",
       "25%       NaN   NaN\n",
       "50%       NaN   NaN\n",
       "75%       NaN   NaN\n",
       "max       NaN   NaN"
      ]
     },
     "execution_count": 39,
     "metadata": {},
     "output_type": "execute_result"
    }
   ],
   "source": [
    "sleep.describe()"
   ]
  },
  {
   "cell_type": "code",
   "execution_count": null,
   "metadata": {
    "collapsed": true,
    "jupyter": {
     "outputs_hidden": true
    }
   },
   "outputs": [],
   "source": []
  },
  {
   "cell_type": "code",
   "execution_count": null,
   "metadata": {},
   "outputs": [],
   "source": []
  }
 ],
 "metadata": {
  "kernelspec": {
   "display_name": "Python 3 (ipykernel)",
   "language": "python",
   "name": "python3"
  },
  "language_info": {
   "codemirror_mode": {
    "name": "ipython",
    "version": 3
   },
   "file_extension": ".py",
   "mimetype": "text/x-python",
   "name": "python",
   "nbconvert_exporter": "python",
   "pygments_lexer": "ipython3",
   "version": "3.9.7"
  }
 },
 "nbformat": 4,
 "nbformat_minor": 4
}
