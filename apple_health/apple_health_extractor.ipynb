{
 "cells": [
  {
   "cell_type": "markdown",
   "metadata": {},
   "source": [
    "# Apple Health Extractor"
   ]
  },
  {
   "cell_type": "markdown",
   "metadata": {},
   "source": [
    "This code will parse your Apple Health export data, create multiple CSV and do some simple data checks and data analysis. \n",
    "\n",
    "Enjoy! "
   ]
  },
  {
   "cell_type": "markdown",
   "metadata": {},
   "source": [
    "--------"
   ]
  },
  {
   "cell_type": "markdown",
   "metadata": {},
   "source": [
    "## Extract Data and Export to CSVs from Apple Health's Export.xml"
   ]
  },
  {
   "cell_type": "markdown",
   "metadata": {},
   "source": [
    "* Command Line Tool to Process apple health's export.xml file \n",
    "* Create multiple CSV files for each data type. \n",
    "* Original Source: https://github.com/tdda/applehealthdata\n",
    "* Based on the size of your Apple Health Data, this script may take several minutes to complete.\n",
    "\n",
    "**NOTE: Currently there are a few minror errors based on additional data from Apple Health that require some updates.** "
   ]
  },
  {
   "cell_type": "markdown",
   "metadata": {},
   "source": [
    "## Setup and Usage NOTE\n",
    "\n",
    "* Export your data from Apple Health App on your phone. \n",
    "* Unzip export.zip into this directory and rename to data. \n",
    "* Inside your directory there should be a directory and file here: /data/export.xml\n",
    "* Run inside project or in the command line."
   ]
  },
  {
   "cell_type": "code",
   "execution_count": 1,
   "metadata": {
    "tags": []
   },
   "outputs": [
    {
     "name": "stdout",
     "output_type": "stream",
     "text": [
      "Reading data from data/apple_health_export/export.xml . . . done\n",
      "Unexpected node of type ExportDate.\n",
      "Unexpected node of type Correlation.\n",
      "Unexpected node of type Correlation.\n",
      "Unexpected node of type Correlation.\n",
      "Unexpected node of type Correlation.\n",
      "Unexpected node of type Correlation.\n",
      "Unexpected node of type Correlation.\n",
      "Unexpected node of type Correlation.\n",
      "Unexpected node of type Correlation.\n",
      "Unexpected node of type Correlation.\n",
      "Unexpected node of type Correlation.\n",
      "Unexpected node of type Correlation.\n",
      "Unexpected node of type Correlation.\n",
      "Unexpected node of type Correlation.\n",
      "Unexpected node of type Correlation.\n",
      "Unexpected node of type Correlation.\n",
      "Unexpected node of type Correlation.\n",
      "Unexpected node of type Correlation.\n",
      "Unexpected node of type Correlation.\n",
      "Unexpected node of type Correlation.\n",
      "Unexpected node of type Correlation.\n",
      "Unexpected node of type Correlation.\n",
      "Unexpected node of type Correlation.\n",
      "Unexpected node of type Correlation.\n",
      "Unexpected node of type Correlation.\n",
      "Unexpected node of type Correlation.\n",
      "Unexpected node of type Correlation.\n",
      "Unexpected node of type Correlation.\n",
      "Unexpected node of type Correlation.\n",
      "Unexpected node of type Correlation.\n",
      "Unexpected node of type Correlation.\n",
      "Unexpected node of type Correlation.\n",
      "Unexpected node of type Correlation.\n",
      "Unexpected node of type Correlation.\n",
      "Unexpected node of type Correlation.\n",
      "Unexpected node of type Correlation.\n",
      "Unexpected node of type Correlation.\n",
      "Unexpected node of type Correlation.\n",
      "Unexpected node of type Correlation.\n",
      "Unexpected node of type Correlation.\n",
      "Unexpected node of type Correlation.\n",
      "Unexpected node of type Correlation.\n",
      "Unexpected node of type Correlation.\n",
      "Unexpected node of type Correlation.\n",
      "Unexpected node of type Correlation.\n",
      "Unexpected node of type Correlation.\n",
      "Unexpected node of type Correlation.\n",
      "Unexpected node of type Correlation.\n",
      "Unexpected node of type Correlation.\n",
      "Unexpected node of type Correlation.\n",
      "Unexpected node of type Correlation.\n",
      "Unexpected node of type Correlation.\n",
      "Unexpected node of type Correlation.\n",
      "Unexpected node of type Correlation.\n",
      "Unexpected node of type Correlation.\n",
      "Unexpected node of type Correlation.\n",
      "Unexpected node of type Correlation.\n",
      "Unexpected node of type Correlation.\n",
      "Unexpected node of type Correlation.\n",
      "Unexpected node of type Correlation.\n",
      "Unexpected node of type Correlation.\n",
      "Unexpected node of type Correlation.\n",
      "Unexpected node of type Correlation.\n",
      "Unexpected node of type Correlation.\n",
      "Unexpected node of type Correlation.\n",
      "Unexpected node of type Correlation.\n",
      "Unexpected node of type Correlation.\n",
      "Unexpected node of type Correlation.\n",
      "Unexpected node of type Correlation.\n",
      "Unexpected node of type Correlation.\n",
      "Unexpected node of type Correlation.\n",
      "Unexpected node of type Correlation.\n",
      "Unexpected node of type Correlation.\n",
      "Unexpected node of type Correlation.\n",
      "Unexpected node of type Correlation.\n",
      "Unexpected node of type Correlation.\n",
      "Unexpected node of type Correlation.\n",
      "Unexpected node of type Correlation.\n",
      "Unexpected node of type Correlation.\n",
      "Unexpected node of type Correlation.\n",
      "Unexpected node of type Correlation.\n",
      "Unexpected node of type Correlation.\n",
      "Unexpected node of type Correlation.\n",
      "Unexpected node of type Correlation.\n",
      "Unexpected node of type Correlation.\n",
      "Unexpected node of type Correlation.\n",
      "Unexpected node of type Correlation.\n",
      "Unexpected node of type Correlation.\n",
      "Unexpected node of type Correlation.\n",
      "Unexpected node of type Correlation.\n",
      "Unexpected node of type Correlation.\n",
      "Unexpected node of type Correlation.\n",
      "Unexpected node of type Correlation.\n",
      "Unexpected node of type Correlation.\n",
      "Unexpected node of type Correlation.\n",
      "Unexpected node of type Correlation.\n",
      "Unexpected node of type Correlation.\n",
      "Unexpected node of type Correlation.\n",
      "Unexpected node of type Correlation.\n",
      "Unexpected node of type Correlation.\n",
      "Unexpected node of type Correlation.\n",
      "Unexpected node of type Correlation.\n",
      "Unexpected node of type Correlation.\n",
      "Unexpected node of type Correlation.\n",
      "Unexpected node of type Correlation.\n",
      "Unexpected node of type Correlation.\n",
      "Unexpected node of type Correlation.\n",
      "Unexpected node of type Correlation.\n",
      "Unexpected node of type Correlation.\n",
      "\n",
      "Tags:\n",
      "ActivitySummary: 2452\n",
      "Correlation: 108\n",
      "ExportDate: 1\n",
      "Me: 1\n",
      "Record: 3564304\n",
      "Workout: 698\n",
      "\n",
      "Fields:\n",
      "HKCharacteristicTypeIdentifierBiologicalSex: 1\n",
      "HKCharacteristicTypeIdentifierBloodType: 1\n",
      "HKCharacteristicTypeIdentifierCardioFitnessMedicationsUse: 1\n",
      "HKCharacteristicTypeIdentifierDateOfBirth: 1\n",
      "HKCharacteristicTypeIdentifierFitzpatrickSkinType: 1\n",
      "activeEnergyBurned: 2452\n",
      "activeEnergyBurnedGoal: 2452\n",
      "activeEnergyBurnedUnit: 2452\n",
      "appleExerciseTime: 2452\n",
      "appleExerciseTimeGoal: 2452\n",
      "appleMoveTime: 2452\n",
      "appleMoveTimeGoal: 2452\n",
      "appleStandHours: 2452\n",
      "appleStandHoursGoal: 2452\n",
      "creationDate: 3565110\n",
      "dateComponents: 2452\n",
      "device: 3447011\n",
      "duration: 698\n",
      "durationUnit: 698\n",
      "endDate: 3565110\n",
      "sourceName: 3565110\n",
      "sourceVersion: 3549575\n",
      "startDate: 3565110\n",
      "type: 3564412\n",
      "unit: 3519095\n",
      "value: 3562049\n",
      "workoutActivityType: 698\n",
      "\n",
      "Record types:\n",
      "ActiveEnergyBurned: 1787649\n",
      "AppleExerciseTime: 52496\n",
      "AppleStandHour: 34922\n",
      "AppleStandTime: 46965\n",
      "AppleWalkingSteadiness: 69\n",
      "AudioExposureEvent: 12\n",
      "BasalEnergyBurned: 332378\n",
      "BloodPressureDiastolic: 152\n",
      "BloodPressureSystolic: 152\n",
      "BodyFatPercentage: 992\n",
      "BodyMass: 1044\n",
      "BodyMassIndex: 992\n",
      "DietaryEnergyConsumed: 29\n",
      "DistanceCycling: 2198\n",
      "DistanceSwimming: 10\n",
      "DistanceWalkingRunning: 342897\n",
      "EnvironmentalAudioExposure: 27859\n",
      "EnvironmentalSoundReduction: 175\n",
      "FlightsClimbed: 21592\n",
      "HKDataTypeSleepDurationGoal: 2\n",
      "HandwashingEvent: 795\n",
      "HeadphoneAudioExposure: 3299\n",
      "HeartRate: 496000\n",
      "HeartRateRecoveryOneMinute: 2\n",
      "HeartRateVariabilitySDNN: 11277\n",
      "Height: 994\n",
      "LeanBodyMass: 992\n",
      "LowCardioFitnessEvent: 3\n",
      "MindfulSession: 1461\n",
      "OxygenSaturation: 7516\n",
      "RespiratoryRate: 17548\n",
      "RestingHeartRate: 1967\n",
      "SixMinuteWalkTestDistance: 99\n",
      "SleepAnalysis: 8016\n",
      "StairAscentSpeed: 2663\n",
      "StairDescentSpeed: 2539\n",
      "StepCount: 322516\n",
      "SwimmingStrokeCount: 10\n",
      "VO2Max: 94\n",
      "WalkingAsymmetryPercentage: 2068\n",
      "WalkingDoubleSupportPercentage: 6520\n",
      "WalkingHeartRateAverage: 1941\n",
      "WalkingSpeed: 11700\n",
      "WalkingStepLength: 11699\n",
      "\n",
      "Opening /home/jovyan/work/qs_ledger/apple_health/data/apple_health_export/BodyMassIndex.csv for writing\n",
      "Opening /home/jovyan/work/qs_ledger/apple_health/data/apple_health_export/Height.csv for writing\n",
      "Opening /home/jovyan/work/qs_ledger/apple_health/data/apple_health_export/BodyMass.csv for writing\n",
      "Opening /home/jovyan/work/qs_ledger/apple_health/data/apple_health_export/HeartRate.csv for writing\n",
      "Opening /home/jovyan/work/qs_ledger/apple_health/data/apple_health_export/OxygenSaturation.csv for writing\n",
      "Opening /home/jovyan/work/qs_ledger/apple_health/data/apple_health_export/BloodPressureSystolic.csv for writing\n",
      "Opening /home/jovyan/work/qs_ledger/apple_health/data/apple_health_export/BloodPressureDiastolic.csv for writing\n",
      "Opening /home/jovyan/work/qs_ledger/apple_health/data/apple_health_export/RespiratoryRate.csv for writing\n",
      "Opening /home/jovyan/work/qs_ledger/apple_health/data/apple_health_export/BodyFatPercentage.csv for writing\n",
      "Opening /home/jovyan/work/qs_ledger/apple_health/data/apple_health_export/LeanBodyMass.csv for writing\n",
      "Opening /home/jovyan/work/qs_ledger/apple_health/data/apple_health_export/StepCount.csv for writing\n",
      "Opening /home/jovyan/work/qs_ledger/apple_health/data/apple_health_export/DistanceWalkingRunning.csv for writing\n",
      "Opening /home/jovyan/work/qs_ledger/apple_health/data/apple_health_export/BasalEnergyBurned.csv for writing\n",
      "Opening /home/jovyan/work/qs_ledger/apple_health/data/apple_health_export/ActiveEnergyBurned.csv for writing\n",
      "Opening /home/jovyan/work/qs_ledger/apple_health/data/apple_health_export/FlightsClimbed.csv for writing\n",
      "Opening /home/jovyan/work/qs_ledger/apple_health/data/apple_health_export/DietaryEnergyConsumed.csv for writing\n",
      "Opening /home/jovyan/work/qs_ledger/apple_health/data/apple_health_export/AppleExerciseTime.csv for writing\n",
      "Opening /home/jovyan/work/qs_ledger/apple_health/data/apple_health_export/DistanceCycling.csv for writing\n",
      "Opening /home/jovyan/work/qs_ledger/apple_health/data/apple_health_export/DistanceSwimming.csv for writing\n",
      "Opening /home/jovyan/work/qs_ledger/apple_health/data/apple_health_export/SwimmingStrokeCount.csv for writing\n",
      "Opening /home/jovyan/work/qs_ledger/apple_health/data/apple_health_export/RestingHeartRate.csv for writing\n",
      "Opening /home/jovyan/work/qs_ledger/apple_health/data/apple_health_export/VO2Max.csv for writing\n",
      "Opening /home/jovyan/work/qs_ledger/apple_health/data/apple_health_export/WalkingHeartRateAverage.csv for writing\n",
      "Opening /home/jovyan/work/qs_ledger/apple_health/data/apple_health_export/EnvironmentalAudioExposure.csv for writing\n",
      "Opening /home/jovyan/work/qs_ledger/apple_health/data/apple_health_export/HeadphoneAudioExposure.csv for writing\n",
      "Opening /home/jovyan/work/qs_ledger/apple_health/data/apple_health_export/WalkingDoubleSupportPercentage.csv for writing\n",
      "Opening /home/jovyan/work/qs_ledger/apple_health/data/apple_health_export/SixMinuteWalkTestDistance.csv for writing\n",
      "Opening /home/jovyan/work/qs_ledger/apple_health/data/apple_health_export/AppleStandTime.csv for writing\n",
      "Opening /home/jovyan/work/qs_ledger/apple_health/data/apple_health_export/WalkingSpeed.csv for writing\n",
      "Opening /home/jovyan/work/qs_ledger/apple_health/data/apple_health_export/WalkingStepLength.csv for writing\n",
      "Opening /home/jovyan/work/qs_ledger/apple_health/data/apple_health_export/WalkingAsymmetryPercentage.csv for writing\n",
      "Opening /home/jovyan/work/qs_ledger/apple_health/data/apple_health_export/StairAscentSpeed.csv for writing\n",
      "Opening /home/jovyan/work/qs_ledger/apple_health/data/apple_health_export/StairDescentSpeed.csv for writing\n",
      "Opening /home/jovyan/work/qs_ledger/apple_health/data/apple_health_export/HKDataTypeSleepDurationGoal.csv for writing\n",
      "Opening /home/jovyan/work/qs_ledger/apple_health/data/apple_health_export/AppleWalkingSteadiness.csv for writing\n",
      "Opening /home/jovyan/work/qs_ledger/apple_health/data/apple_health_export/HeartRateRecoveryOneMinute.csv for writing\n",
      "Opening /home/jovyan/work/qs_ledger/apple_health/data/apple_health_export/EnvironmentalSoundReduction.csv for writing\n",
      "Opening /home/jovyan/work/qs_ledger/apple_health/data/apple_health_export/SleepAnalysis.csv for writing\n",
      "Opening /home/jovyan/work/qs_ledger/apple_health/data/apple_health_export/AppleStandHour.csv for writing\n",
      "Opening /home/jovyan/work/qs_ledger/apple_health/data/apple_health_export/MindfulSession.csv for writing\n",
      "Opening /home/jovyan/work/qs_ledger/apple_health/data/apple_health_export/AudioExposureEvent.csv for writing\n",
      "Opening /home/jovyan/work/qs_ledger/apple_health/data/apple_health_export/LowCardioFitnessEvent.csv for writing\n",
      "Opening /home/jovyan/work/qs_ledger/apple_health/data/apple_health_export/HandwashingEvent.csv for writing\n",
      "Opening /home/jovyan/work/qs_ledger/apple_health/data/apple_health_export/HeartRateVariabilitySDNN.csv for writing\n",
      "Opening /home/jovyan/work/qs_ledger/apple_health/data/apple_health_export/Workout.csv for writing\n",
      "Opening /home/jovyan/work/qs_ledger/apple_health/data/apple_health_export/ActivitySummary.csv for writing\n",
      "Written BodyMassIndex data.\n",
      "Written Height data.\n",
      "Written BodyMass data.\n",
      "Written HeartRate data.\n",
      "Written OxygenSaturation data.\n",
      "Written BloodPressureSystolic data.\n",
      "Written BloodPressureDiastolic data.\n",
      "Written RespiratoryRate data.\n",
      "Written BodyFatPercentage data.\n",
      "Written LeanBodyMass data.\n",
      "Written StepCount data.\n",
      "Written DistanceWalkingRunning data.\n",
      "Written BasalEnergyBurned data.\n",
      "Written ActiveEnergyBurned data.\n",
      "Written FlightsClimbed data.\n",
      "Written DietaryEnergyConsumed data.\n",
      "Written AppleExerciseTime data.\n",
      "Written DistanceCycling data.\n",
      "Written DistanceSwimming data.\n",
      "Written SwimmingStrokeCount data.\n",
      "Written RestingHeartRate data.\n",
      "Written VO2Max data.\n",
      "Written WalkingHeartRateAverage data.\n",
      "Written EnvironmentalAudioExposure data.\n",
      "Written HeadphoneAudioExposure data.\n",
      "Written WalkingDoubleSupportPercentage data.\n",
      "Written SixMinuteWalkTestDistance data.\n",
      "Written AppleStandTime data.\n",
      "Written WalkingSpeed data.\n",
      "Written WalkingStepLength data.\n",
      "Written WalkingAsymmetryPercentage data.\n",
      "Written StairAscentSpeed data.\n",
      "Written StairDescentSpeed data.\n",
      "Written HKDataTypeSleepDurationGoal data.\n",
      "Written AppleWalkingSteadiness data.\n",
      "Written HeartRateRecoveryOneMinute data.\n",
      "Written EnvironmentalSoundReduction data.\n",
      "Written SleepAnalysis data.\n",
      "Written AppleStandHour data.\n",
      "Written MindfulSession data.\n",
      "Written AudioExposureEvent data.\n",
      "Written LowCardioFitnessEvent data.\n",
      "Written HandwashingEvent data.\n",
      "Written HeartRateVariabilitySDNN data.\n",
      "Written Workout data.\n",
      "Written ActivitySummary data.\n"
     ]
    }
   ],
   "source": [
    "# %run -i 'apple-health-data-parser' 'export.xml' \n",
    "%run -i 'apple-health-data-parser' 'data/apple_health_export/export.xml' "
   ]
  },
  {
   "cell_type": "markdown",
   "metadata": {},
   "source": [
    "-----"
   ]
  },
  {
   "cell_type": "markdown",
   "metadata": {},
   "source": [
    "# Apple Health Data Check and Simple Data Analysis"
   ]
  },
  {
   "cell_type": "code",
   "execution_count": 2,
   "metadata": {},
   "outputs": [],
   "source": [
    "import numpy as np\n",
    "import pandas as pd\n",
    "import glob"
   ]
  },
  {
   "cell_type": "markdown",
   "metadata": {},
   "source": [
    "----"
   ]
  },
  {
   "cell_type": "markdown",
   "metadata": {},
   "source": [
    "# Weight"
   ]
  },
  {
   "cell_type": "code",
   "execution_count": 3,
   "metadata": {},
   "outputs": [],
   "source": [
    "weight = pd.read_csv(\"data/apple_health_export/BodyMass.csv\")"
   ]
  },
  {
   "cell_type": "code",
   "execution_count": 4,
   "metadata": {},
   "outputs": [
    {
     "data": {
      "text/html": [
       "<div>\n",
       "<style scoped>\n",
       "    .dataframe tbody tr th:only-of-type {\n",
       "        vertical-align: middle;\n",
       "    }\n",
       "\n",
       "    .dataframe tbody tr th {\n",
       "        vertical-align: top;\n",
       "    }\n",
       "\n",
       "    .dataframe thead th {\n",
       "        text-align: right;\n",
       "    }\n",
       "</style>\n",
       "<table border=\"1\" class=\"dataframe\">\n",
       "  <thead>\n",
       "    <tr style=\"text-align: right;\">\n",
       "      <th></th>\n",
       "      <th>sourceName</th>\n",
       "      <th>sourceVersion</th>\n",
       "      <th>device</th>\n",
       "      <th>type</th>\n",
       "      <th>unit</th>\n",
       "      <th>creationDate</th>\n",
       "      <th>startDate</th>\n",
       "      <th>endDate</th>\n",
       "      <th>value</th>\n",
       "    </tr>\n",
       "  </thead>\n",
       "  <tbody>\n",
       "    <tr>\n",
       "      <th>1039</th>\n",
       "      <td>EufyLife</td>\n",
       "      <td>1</td>\n",
       "      <td>NaN</td>\n",
       "      <td>BodyMass</td>\n",
       "      <td>lb</td>\n",
       "      <td>2023-01-26 08:11:38 -0500</td>\n",
       "      <td>2023-01-26 08:11:38 -0500</td>\n",
       "      <td>2023-01-26 08:11:38 -0500</td>\n",
       "      <td>272.2</td>\n",
       "    </tr>\n",
       "    <tr>\n",
       "      <th>1040</th>\n",
       "      <td>EufyLife</td>\n",
       "      <td>1</td>\n",
       "      <td>NaN</td>\n",
       "      <td>BodyMass</td>\n",
       "      <td>lb</td>\n",
       "      <td>2023-01-27 08:12:56 -0500</td>\n",
       "      <td>2023-01-27 08:12:56 -0500</td>\n",
       "      <td>2023-01-27 08:12:56 -0500</td>\n",
       "      <td>272.2</td>\n",
       "    </tr>\n",
       "    <tr>\n",
       "      <th>1041</th>\n",
       "      <td>EufyLife</td>\n",
       "      <td>1</td>\n",
       "      <td>NaN</td>\n",
       "      <td>BodyMass</td>\n",
       "      <td>lb</td>\n",
       "      <td>2023-01-28 09:11:38 -0500</td>\n",
       "      <td>2023-01-28 09:11:37 -0500</td>\n",
       "      <td>2023-01-28 09:11:37 -0500</td>\n",
       "      <td>273.1</td>\n",
       "    </tr>\n",
       "    <tr>\n",
       "      <th>1042</th>\n",
       "      <td>EufyLife</td>\n",
       "      <td>1</td>\n",
       "      <td>NaN</td>\n",
       "      <td>BodyMass</td>\n",
       "      <td>lb</td>\n",
       "      <td>2023-01-29 11:13:21 -0500</td>\n",
       "      <td>2023-01-29 11:13:21 -0500</td>\n",
       "      <td>2023-01-29 11:13:21 -0500</td>\n",
       "      <td>270.0</td>\n",
       "    </tr>\n",
       "    <tr>\n",
       "      <th>1043</th>\n",
       "      <td>EufyLife</td>\n",
       "      <td>1</td>\n",
       "      <td>NaN</td>\n",
       "      <td>BodyMass</td>\n",
       "      <td>lb</td>\n",
       "      <td>2023-01-30 08:20:27 -0500</td>\n",
       "      <td>2023-01-30 08:20:27 -0500</td>\n",
       "      <td>2023-01-30 08:20:27 -0500</td>\n",
       "      <td>272.0</td>\n",
       "    </tr>\n",
       "  </tbody>\n",
       "</table>\n",
       "</div>"
      ],
      "text/plain": [
       "     sourceName  sourceVersion  device      type unit  \\\n",
       "1039   EufyLife              1     NaN  BodyMass   lb   \n",
       "1040   EufyLife              1     NaN  BodyMass   lb   \n",
       "1041   EufyLife              1     NaN  BodyMass   lb   \n",
       "1042   EufyLife              1     NaN  BodyMass   lb   \n",
       "1043   EufyLife              1     NaN  BodyMass   lb   \n",
       "\n",
       "                   creationDate                  startDate  \\\n",
       "1039  2023-01-26 08:11:38 -0500  2023-01-26 08:11:38 -0500   \n",
       "1040  2023-01-27 08:12:56 -0500  2023-01-27 08:12:56 -0500   \n",
       "1041  2023-01-28 09:11:38 -0500  2023-01-28 09:11:37 -0500   \n",
       "1042  2023-01-29 11:13:21 -0500  2023-01-29 11:13:21 -0500   \n",
       "1043  2023-01-30 08:20:27 -0500  2023-01-30 08:20:27 -0500   \n",
       "\n",
       "                        endDate  value  \n",
       "1039  2023-01-26 08:11:38 -0500  272.2  \n",
       "1040  2023-01-27 08:12:56 -0500  272.2  \n",
       "1041  2023-01-28 09:11:37 -0500  273.1  \n",
       "1042  2023-01-29 11:13:21 -0500  270.0  \n",
       "1043  2023-01-30 08:20:27 -0500  272.0  "
      ]
     },
     "execution_count": 4,
     "metadata": {},
     "output_type": "execute_result"
    }
   ],
   "source": [
    "weight.tail()"
   ]
  },
  {
   "cell_type": "code",
   "execution_count": 5,
   "metadata": {},
   "outputs": [
    {
     "data": {
      "text/html": [
       "<div>\n",
       "<style scoped>\n",
       "    .dataframe tbody tr th:only-of-type {\n",
       "        vertical-align: middle;\n",
       "    }\n",
       "\n",
       "    .dataframe tbody tr th {\n",
       "        vertical-align: top;\n",
       "    }\n",
       "\n",
       "    .dataframe thead th {\n",
       "        text-align: right;\n",
       "    }\n",
       "</style>\n",
       "<table border=\"1\" class=\"dataframe\">\n",
       "  <thead>\n",
       "    <tr style=\"text-align: right;\">\n",
       "      <th></th>\n",
       "      <th>sourceVersion</th>\n",
       "      <th>device</th>\n",
       "      <th>value</th>\n",
       "    </tr>\n",
       "  </thead>\n",
       "  <tbody>\n",
       "    <tr>\n",
       "      <th>count</th>\n",
       "      <td>1044.000000</td>\n",
       "      <td>0.0</td>\n",
       "      <td>1044.000000</td>\n",
       "    </tr>\n",
       "    <tr>\n",
       "      <th>mean</th>\n",
       "      <td>59.386015</td>\n",
       "      <td>NaN</td>\n",
       "      <td>273.707375</td>\n",
       "    </tr>\n",
       "    <tr>\n",
       "      <th>std</th>\n",
       "      <td>233.533550</td>\n",
       "      <td>NaN</td>\n",
       "      <td>21.736763</td>\n",
       "    </tr>\n",
       "    <tr>\n",
       "      <th>min</th>\n",
       "      <td>1.000000</td>\n",
       "      <td>NaN</td>\n",
       "      <td>247.500000</td>\n",
       "    </tr>\n",
       "    <tr>\n",
       "      <th>25%</th>\n",
       "      <td>6.000000</td>\n",
       "      <td>NaN</td>\n",
       "      <td>255.700000</td>\n",
       "    </tr>\n",
       "    <tr>\n",
       "      <th>50%</th>\n",
       "      <td>6.000000</td>\n",
       "      <td>NaN</td>\n",
       "      <td>264.200000</td>\n",
       "    </tr>\n",
       "    <tr>\n",
       "      <th>75%</th>\n",
       "      <td>6.000000</td>\n",
       "      <td>NaN</td>\n",
       "      <td>297.600000</td>\n",
       "    </tr>\n",
       "    <tr>\n",
       "      <th>max</th>\n",
       "      <td>1092.000000</td>\n",
       "      <td>NaN</td>\n",
       "      <td>313.200000</td>\n",
       "    </tr>\n",
       "  </tbody>\n",
       "</table>\n",
       "</div>"
      ],
      "text/plain": [
       "       sourceVersion  device        value\n",
       "count    1044.000000     0.0  1044.000000\n",
       "mean       59.386015     NaN   273.707375\n",
       "std       233.533550     NaN    21.736763\n",
       "min         1.000000     NaN   247.500000\n",
       "25%         6.000000     NaN   255.700000\n",
       "50%         6.000000     NaN   264.200000\n",
       "75%         6.000000     NaN   297.600000\n",
       "max      1092.000000     NaN   313.200000"
      ]
     },
     "execution_count": 5,
     "metadata": {},
     "output_type": "execute_result"
    }
   ],
   "source": [
    "weight.describe()"
   ]
  },
  {
   "cell_type": "markdown",
   "metadata": {},
   "source": [
    "----"
   ]
  },
  {
   "cell_type": "markdown",
   "metadata": {},
   "source": [
    "## Steps"
   ]
  },
  {
   "cell_type": "code",
   "execution_count": 6,
   "metadata": {},
   "outputs": [],
   "source": [
    "steps = pd.read_csv(\"data/apple_health_export/StepCount.csv\")"
   ]
  },
  {
   "cell_type": "code",
   "execution_count": 7,
   "metadata": {},
   "outputs": [
    {
     "data": {
      "text/plain": [
       "322516"
      ]
     },
     "execution_count": 7,
     "metadata": {},
     "output_type": "execute_result"
    }
   ],
   "source": [
    "len(steps)"
   ]
  },
  {
   "cell_type": "code",
   "execution_count": 8,
   "metadata": {},
   "outputs": [
    {
     "data": {
      "text/plain": [
       "Index(['sourceName', 'sourceVersion', 'device', 'type', 'unit', 'creationDate',\n",
       "       'startDate', 'endDate', 'value'],\n",
       "      dtype='object')"
      ]
     },
     "execution_count": 8,
     "metadata": {},
     "output_type": "execute_result"
    }
   ],
   "source": [
    "steps.columns"
   ]
  },
  {
   "cell_type": "code",
   "execution_count": 9,
   "metadata": {},
   "outputs": [
    {
     "data": {
      "text/html": [
       "<div>\n",
       "<style scoped>\n",
       "    .dataframe tbody tr th:only-of-type {\n",
       "        vertical-align: middle;\n",
       "    }\n",
       "\n",
       "    .dataframe tbody tr th {\n",
       "        vertical-align: top;\n",
       "    }\n",
       "\n",
       "    .dataframe thead th {\n",
       "        text-align: right;\n",
       "    }\n",
       "</style>\n",
       "<table border=\"1\" class=\"dataframe\">\n",
       "  <thead>\n",
       "    <tr style=\"text-align: right;\">\n",
       "      <th></th>\n",
       "      <th>value</th>\n",
       "    </tr>\n",
       "  </thead>\n",
       "  <tbody>\n",
       "    <tr>\n",
       "      <th>count</th>\n",
       "      <td>322516.000000</td>\n",
       "    </tr>\n",
       "    <tr>\n",
       "      <th>mean</th>\n",
       "      <td>66.313485</td>\n",
       "    </tr>\n",
       "    <tr>\n",
       "      <th>std</th>\n",
       "      <td>98.140517</td>\n",
       "    </tr>\n",
       "    <tr>\n",
       "      <th>min</th>\n",
       "      <td>1.000000</td>\n",
       "    </tr>\n",
       "    <tr>\n",
       "      <th>25%</th>\n",
       "      <td>18.000000</td>\n",
       "    </tr>\n",
       "    <tr>\n",
       "      <th>50%</th>\n",
       "      <td>37.000000</td>\n",
       "    </tr>\n",
       "    <tr>\n",
       "      <th>75%</th>\n",
       "      <td>80.000000</td>\n",
       "    </tr>\n",
       "    <tr>\n",
       "      <th>max</th>\n",
       "      <td>1387.000000</td>\n",
       "    </tr>\n",
       "  </tbody>\n",
       "</table>\n",
       "</div>"
      ],
      "text/plain": [
       "               value\n",
       "count  322516.000000\n",
       "mean       66.313485\n",
       "std        98.140517\n",
       "min         1.000000\n",
       "25%        18.000000\n",
       "50%        37.000000\n",
       "75%        80.000000\n",
       "max      1387.000000"
      ]
     },
     "execution_count": 9,
     "metadata": {},
     "output_type": "execute_result"
    }
   ],
   "source": [
    "steps.describe()"
   ]
  },
  {
   "cell_type": "code",
   "execution_count": 10,
   "metadata": {},
   "outputs": [
    {
     "data": {
      "text/html": [
       "<div>\n",
       "<style scoped>\n",
       "    .dataframe tbody tr th:only-of-type {\n",
       "        vertical-align: middle;\n",
       "    }\n",
       "\n",
       "    .dataframe tbody tr th {\n",
       "        vertical-align: top;\n",
       "    }\n",
       "\n",
       "    .dataframe thead th {\n",
       "        text-align: right;\n",
       "    }\n",
       "</style>\n",
       "<table border=\"1\" class=\"dataframe\">\n",
       "  <thead>\n",
       "    <tr style=\"text-align: right;\">\n",
       "      <th></th>\n",
       "      <th>sourceName</th>\n",
       "      <th>sourceVersion</th>\n",
       "      <th>device</th>\n",
       "      <th>type</th>\n",
       "      <th>unit</th>\n",
       "      <th>creationDate</th>\n",
       "      <th>startDate</th>\n",
       "      <th>endDate</th>\n",
       "      <th>value</th>\n",
       "    </tr>\n",
       "  </thead>\n",
       "  <tbody>\n",
       "    <tr>\n",
       "      <th>322511</th>\n",
       "      <td>David’s Apple Watch</td>\n",
       "      <td>9.3</td>\n",
       "      <td>&lt;&lt;HKDevice: 0x280106080&gt;, name:Apple Watch, ma...</td>\n",
       "      <td>StepCount</td>\n",
       "      <td>count</td>\n",
       "      <td>2023-01-30 08:48:06 -0500</td>\n",
       "      <td>2023-01-30 08:40:59 -0500</td>\n",
       "      <td>2023-01-30 08:41:55 -0500</td>\n",
       "      <td>50</td>\n",
       "    </tr>\n",
       "    <tr>\n",
       "      <th>322512</th>\n",
       "      <td>David’s Apple Watch</td>\n",
       "      <td>9.3</td>\n",
       "      <td>&lt;&lt;HKDevice: 0x280106080&gt;, name:Apple Watch, ma...</td>\n",
       "      <td>StepCount</td>\n",
       "      <td>count</td>\n",
       "      <td>2023-01-30 08:48:06 -0500</td>\n",
       "      <td>2023-01-30 08:42:58 -0500</td>\n",
       "      <td>2023-01-30 08:43:57 -0500</td>\n",
       "      <td>20</td>\n",
       "    </tr>\n",
       "    <tr>\n",
       "      <th>322513</th>\n",
       "      <td>David’s Apple Watch</td>\n",
       "      <td>9.3</td>\n",
       "      <td>&lt;&lt;HKDevice: 0x280106080&gt;, name:Apple Watch, ma...</td>\n",
       "      <td>StepCount</td>\n",
       "      <td>count</td>\n",
       "      <td>2023-01-30 08:48:06 -0500</td>\n",
       "      <td>2023-01-30 08:44:20 -0500</td>\n",
       "      <td>2023-01-30 08:45:16 -0500</td>\n",
       "      <td>17</td>\n",
       "    </tr>\n",
       "    <tr>\n",
       "      <th>322514</th>\n",
       "      <td>David’s Apple Watch</td>\n",
       "      <td>9.3</td>\n",
       "      <td>&lt;&lt;HKDevice: 0x280106080&gt;, name:Apple Watch, ma...</td>\n",
       "      <td>StepCount</td>\n",
       "      <td>count</td>\n",
       "      <td>2023-01-30 08:48:06 -0500</td>\n",
       "      <td>2023-01-30 08:45:52 -0500</td>\n",
       "      <td>2023-01-30 08:45:57 -0500</td>\n",
       "      <td>4</td>\n",
       "    </tr>\n",
       "    <tr>\n",
       "      <th>322515</th>\n",
       "      <td>David’s Apple Watch</td>\n",
       "      <td>9.3</td>\n",
       "      <td>&lt;&lt;HKDevice: 0x280106080&gt;, name:Apple Watch, ma...</td>\n",
       "      <td>StepCount</td>\n",
       "      <td>count</td>\n",
       "      <td>2023-01-30 09:01:04 -0500</td>\n",
       "      <td>2023-01-30 08:50:42 -0500</td>\n",
       "      <td>2023-01-30 08:55:53 -0500</td>\n",
       "      <td>79</td>\n",
       "    </tr>\n",
       "  </tbody>\n",
       "</table>\n",
       "</div>"
      ],
      "text/plain": [
       "                 sourceName sourceVersion  \\\n",
       "322511  David’s Apple Watch           9.3   \n",
       "322512  David’s Apple Watch           9.3   \n",
       "322513  David’s Apple Watch           9.3   \n",
       "322514  David’s Apple Watch           9.3   \n",
       "322515  David’s Apple Watch           9.3   \n",
       "\n",
       "                                                   device       type   unit  \\\n",
       "322511  <<HKDevice: 0x280106080>, name:Apple Watch, ma...  StepCount  count   \n",
       "322512  <<HKDevice: 0x280106080>, name:Apple Watch, ma...  StepCount  count   \n",
       "322513  <<HKDevice: 0x280106080>, name:Apple Watch, ma...  StepCount  count   \n",
       "322514  <<HKDevice: 0x280106080>, name:Apple Watch, ma...  StepCount  count   \n",
       "322515  <<HKDevice: 0x280106080>, name:Apple Watch, ma...  StepCount  count   \n",
       "\n",
       "                     creationDate                  startDate  \\\n",
       "322511  2023-01-30 08:48:06 -0500  2023-01-30 08:40:59 -0500   \n",
       "322512  2023-01-30 08:48:06 -0500  2023-01-30 08:42:58 -0500   \n",
       "322513  2023-01-30 08:48:06 -0500  2023-01-30 08:44:20 -0500   \n",
       "322514  2023-01-30 08:48:06 -0500  2023-01-30 08:45:52 -0500   \n",
       "322515  2023-01-30 09:01:04 -0500  2023-01-30 08:50:42 -0500   \n",
       "\n",
       "                          endDate  value  \n",
       "322511  2023-01-30 08:41:55 -0500     50  \n",
       "322512  2023-01-30 08:43:57 -0500     20  \n",
       "322513  2023-01-30 08:45:16 -0500     17  \n",
       "322514  2023-01-30 08:45:57 -0500      4  \n",
       "322515  2023-01-30 08:55:53 -0500     79  "
      ]
     },
     "execution_count": 10,
     "metadata": {},
     "output_type": "execute_result"
    }
   ],
   "source": [
    "steps.tail()"
   ]
  },
  {
   "cell_type": "code",
   "execution_count": 11,
   "metadata": {},
   "outputs": [
    {
     "data": {
      "text/plain": [
       "21387160"
      ]
     },
     "execution_count": 11,
     "metadata": {},
     "output_type": "execute_result"
    }
   ],
   "source": [
    "# total all-time steps\n",
    "steps.value.sum()"
   ]
  },
  {
   "cell_type": "markdown",
   "metadata": {},
   "source": [
    "-------"
   ]
  },
  {
   "cell_type": "markdown",
   "metadata": {},
   "source": [
    "## Stand Count"
   ]
  },
  {
   "cell_type": "code",
   "execution_count": 12,
   "metadata": {},
   "outputs": [],
   "source": [
    "stand = pd.read_csv(\"data/apple_health_export/AppleStandHour.csv\")"
   ]
  },
  {
   "cell_type": "code",
   "execution_count": 13,
   "metadata": {},
   "outputs": [
    {
     "data": {
      "text/plain": [
       "34922"
      ]
     },
     "execution_count": 13,
     "metadata": {},
     "output_type": "execute_result"
    }
   ],
   "source": [
    "len(stand)"
   ]
  },
  {
   "cell_type": "code",
   "execution_count": 14,
   "metadata": {},
   "outputs": [
    {
     "data": {
      "text/plain": [
       "Index(['sourceName', 'sourceVersion', 'device', 'type', 'unit', 'creationDate',\n",
       "       'startDate', 'endDate', 'value'],\n",
       "      dtype='object')"
      ]
     },
     "execution_count": 14,
     "metadata": {},
     "output_type": "execute_result"
    }
   ],
   "source": [
    "stand.columns"
   ]
  },
  {
   "cell_type": "code",
   "execution_count": 15,
   "metadata": {},
   "outputs": [
    {
     "data": {
      "text/html": [
       "<div>\n",
       "<style scoped>\n",
       "    .dataframe tbody tr th:only-of-type {\n",
       "        vertical-align: middle;\n",
       "    }\n",
       "\n",
       "    .dataframe tbody tr th {\n",
       "        vertical-align: top;\n",
       "    }\n",
       "\n",
       "    .dataframe thead th {\n",
       "        text-align: right;\n",
       "    }\n",
       "</style>\n",
       "<table border=\"1\" class=\"dataframe\">\n",
       "  <thead>\n",
       "    <tr style=\"text-align: right;\">\n",
       "      <th></th>\n",
       "      <th>unit</th>\n",
       "    </tr>\n",
       "  </thead>\n",
       "  <tbody>\n",
       "    <tr>\n",
       "      <th>count</th>\n",
       "      <td>0.0</td>\n",
       "    </tr>\n",
       "    <tr>\n",
       "      <th>mean</th>\n",
       "      <td>NaN</td>\n",
       "    </tr>\n",
       "    <tr>\n",
       "      <th>std</th>\n",
       "      <td>NaN</td>\n",
       "    </tr>\n",
       "    <tr>\n",
       "      <th>min</th>\n",
       "      <td>NaN</td>\n",
       "    </tr>\n",
       "    <tr>\n",
       "      <th>25%</th>\n",
       "      <td>NaN</td>\n",
       "    </tr>\n",
       "    <tr>\n",
       "      <th>50%</th>\n",
       "      <td>NaN</td>\n",
       "    </tr>\n",
       "    <tr>\n",
       "      <th>75%</th>\n",
       "      <td>NaN</td>\n",
       "    </tr>\n",
       "    <tr>\n",
       "      <th>max</th>\n",
       "      <td>NaN</td>\n",
       "    </tr>\n",
       "  </tbody>\n",
       "</table>\n",
       "</div>"
      ],
      "text/plain": [
       "       unit\n",
       "count   0.0\n",
       "mean    NaN\n",
       "std     NaN\n",
       "min     NaN\n",
       "25%     NaN\n",
       "50%     NaN\n",
       "75%     NaN\n",
       "max     NaN"
      ]
     },
     "execution_count": 15,
     "metadata": {},
     "output_type": "execute_result"
    }
   ],
   "source": [
    "stand.describe()"
   ]
  },
  {
   "cell_type": "code",
   "execution_count": 16,
   "metadata": {},
   "outputs": [
    {
     "data": {
      "text/html": [
       "<div>\n",
       "<style scoped>\n",
       "    .dataframe tbody tr th:only-of-type {\n",
       "        vertical-align: middle;\n",
       "    }\n",
       "\n",
       "    .dataframe tbody tr th {\n",
       "        vertical-align: top;\n",
       "    }\n",
       "\n",
       "    .dataframe thead th {\n",
       "        text-align: right;\n",
       "    }\n",
       "</style>\n",
       "<table border=\"1\" class=\"dataframe\">\n",
       "  <thead>\n",
       "    <tr style=\"text-align: right;\">\n",
       "      <th></th>\n",
       "      <th>sourceName</th>\n",
       "      <th>sourceVersion</th>\n",
       "      <th>device</th>\n",
       "      <th>type</th>\n",
       "      <th>unit</th>\n",
       "      <th>creationDate</th>\n",
       "      <th>startDate</th>\n",
       "      <th>endDate</th>\n",
       "      <th>value</th>\n",
       "    </tr>\n",
       "  </thead>\n",
       "  <tbody>\n",
       "    <tr>\n",
       "      <th>34917</th>\n",
       "      <td>David’s Apple Watch</td>\n",
       "      <td>9.3</td>\n",
       "      <td>&lt;&lt;HKDevice: 0x2801eaee0&gt;, name:Apple Watch, ma...</td>\n",
       "      <td>AppleStandHour</td>\n",
       "      <td>NaN</td>\n",
       "      <td>2023-01-30 05:36:26 -0500</td>\n",
       "      <td>2023-01-30 05:00:00 -0500</td>\n",
       "      <td>2023-01-30 06:00:00 -0500</td>\n",
       "      <td>HKCategoryValueAppleStandHourStood</td>\n",
       "    </tr>\n",
       "    <tr>\n",
       "      <th>34918</th>\n",
       "      <td>David’s Apple Watch</td>\n",
       "      <td>9.3</td>\n",
       "      <td>&lt;&lt;HKDevice: 0x2801eaee0&gt;, name:Apple Watch, ma...</td>\n",
       "      <td>AppleStandHour</td>\n",
       "      <td>NaN</td>\n",
       "      <td>2023-01-30 06:33:38 -0500</td>\n",
       "      <td>2023-01-30 06:00:00 -0500</td>\n",
       "      <td>2023-01-30 07:00:00 -0500</td>\n",
       "      <td>HKCategoryValueAppleStandHourStood</td>\n",
       "    </tr>\n",
       "    <tr>\n",
       "      <th>34919</th>\n",
       "      <td>David’s Apple Watch</td>\n",
       "      <td>9.3</td>\n",
       "      <td>&lt;&lt;HKDevice: 0x2801eaee0&gt;, name:Apple Watch, ma...</td>\n",
       "      <td>AppleStandHour</td>\n",
       "      <td>NaN</td>\n",
       "      <td>2023-01-30 07:18:58 -0500</td>\n",
       "      <td>2023-01-30 07:00:00 -0500</td>\n",
       "      <td>2023-01-30 08:00:00 -0500</td>\n",
       "      <td>HKCategoryValueAppleStandHourStood</td>\n",
       "    </tr>\n",
       "    <tr>\n",
       "      <th>34920</th>\n",
       "      <td>David’s Apple Watch</td>\n",
       "      <td>9.3</td>\n",
       "      <td>&lt;&lt;HKDevice: 0x2801eaee0&gt;, name:Apple Watch, ma...</td>\n",
       "      <td>AppleStandHour</td>\n",
       "      <td>NaN</td>\n",
       "      <td>2023-01-30 08:08:55 -0500</td>\n",
       "      <td>2023-01-30 08:00:00 -0500</td>\n",
       "      <td>2023-01-30 09:00:00 -0500</td>\n",
       "      <td>HKCategoryValueAppleStandHourStood</td>\n",
       "    </tr>\n",
       "    <tr>\n",
       "      <th>34921</th>\n",
       "      <td>David’s Apple Watch</td>\n",
       "      <td>9.3</td>\n",
       "      <td>&lt;&lt;HKDevice: 0x2801eaee0&gt;, name:Apple Watch, ma...</td>\n",
       "      <td>AppleStandHour</td>\n",
       "      <td>NaN</td>\n",
       "      <td>2023-01-30 10:00:22 -0500</td>\n",
       "      <td>2023-01-30 09:00:00 -0500</td>\n",
       "      <td>2023-01-30 10:00:00 -0500</td>\n",
       "      <td>HKCategoryValueAppleStandHourIdle</td>\n",
       "    </tr>\n",
       "  </tbody>\n",
       "</table>\n",
       "</div>"
      ],
      "text/plain": [
       "                sourceName sourceVersion  \\\n",
       "34917  David’s Apple Watch           9.3   \n",
       "34918  David’s Apple Watch           9.3   \n",
       "34919  David’s Apple Watch           9.3   \n",
       "34920  David’s Apple Watch           9.3   \n",
       "34921  David’s Apple Watch           9.3   \n",
       "\n",
       "                                                  device            type  \\\n",
       "34917  <<HKDevice: 0x2801eaee0>, name:Apple Watch, ma...  AppleStandHour   \n",
       "34918  <<HKDevice: 0x2801eaee0>, name:Apple Watch, ma...  AppleStandHour   \n",
       "34919  <<HKDevice: 0x2801eaee0>, name:Apple Watch, ma...  AppleStandHour   \n",
       "34920  <<HKDevice: 0x2801eaee0>, name:Apple Watch, ma...  AppleStandHour   \n",
       "34921  <<HKDevice: 0x2801eaee0>, name:Apple Watch, ma...  AppleStandHour   \n",
       "\n",
       "       unit               creationDate                  startDate  \\\n",
       "34917   NaN  2023-01-30 05:36:26 -0500  2023-01-30 05:00:00 -0500   \n",
       "34918   NaN  2023-01-30 06:33:38 -0500  2023-01-30 06:00:00 -0500   \n",
       "34919   NaN  2023-01-30 07:18:58 -0500  2023-01-30 07:00:00 -0500   \n",
       "34920   NaN  2023-01-30 08:08:55 -0500  2023-01-30 08:00:00 -0500   \n",
       "34921   NaN  2023-01-30 10:00:22 -0500  2023-01-30 09:00:00 -0500   \n",
       "\n",
       "                         endDate                               value  \n",
       "34917  2023-01-30 06:00:00 -0500  HKCategoryValueAppleStandHourStood  \n",
       "34918  2023-01-30 07:00:00 -0500  HKCategoryValueAppleStandHourStood  \n",
       "34919  2023-01-30 08:00:00 -0500  HKCategoryValueAppleStandHourStood  \n",
       "34920  2023-01-30 09:00:00 -0500  HKCategoryValueAppleStandHourStood  \n",
       "34921  2023-01-30 10:00:00 -0500   HKCategoryValueAppleStandHourIdle  "
      ]
     },
     "execution_count": 16,
     "metadata": {},
     "output_type": "execute_result"
    }
   ],
   "source": [
    "stand.tail()"
   ]
  },
  {
   "cell_type": "markdown",
   "metadata": {},
   "source": [
    "------"
   ]
  },
  {
   "cell_type": "markdown",
   "metadata": {},
   "source": [
    "## Resting Heart Rate (HR)"
   ]
  },
  {
   "cell_type": "code",
   "execution_count": 17,
   "metadata": {},
   "outputs": [],
   "source": [
    "restingHR = pd.read_csv(\"data/apple_health_export/RestingHeartRate.csv\")"
   ]
  },
  {
   "cell_type": "code",
   "execution_count": 18,
   "metadata": {},
   "outputs": [
    {
     "data": {
      "text/plain": [
       "1967"
      ]
     },
     "execution_count": 18,
     "metadata": {},
     "output_type": "execute_result"
    }
   ],
   "source": [
    "len(restingHR)"
   ]
  },
  {
   "cell_type": "code",
   "execution_count": 19,
   "metadata": {},
   "outputs": [
    {
     "data": {
      "text/html": [
       "<div>\n",
       "<style scoped>\n",
       "    .dataframe tbody tr th:only-of-type {\n",
       "        vertical-align: middle;\n",
       "    }\n",
       "\n",
       "    .dataframe tbody tr th {\n",
       "        vertical-align: top;\n",
       "    }\n",
       "\n",
       "    .dataframe thead th {\n",
       "        text-align: right;\n",
       "    }\n",
       "</style>\n",
       "<table border=\"1\" class=\"dataframe\">\n",
       "  <thead>\n",
       "    <tr style=\"text-align: right;\">\n",
       "      <th></th>\n",
       "      <th>device</th>\n",
       "      <th>value</th>\n",
       "    </tr>\n",
       "  </thead>\n",
       "  <tbody>\n",
       "    <tr>\n",
       "      <th>count</th>\n",
       "      <td>0.0</td>\n",
       "      <td>1967.000000</td>\n",
       "    </tr>\n",
       "    <tr>\n",
       "      <th>mean</th>\n",
       "      <td>NaN</td>\n",
       "      <td>75.490086</td>\n",
       "    </tr>\n",
       "    <tr>\n",
       "      <th>std</th>\n",
       "      <td>NaN</td>\n",
       "      <td>7.200287</td>\n",
       "    </tr>\n",
       "    <tr>\n",
       "      <th>min</th>\n",
       "      <td>NaN</td>\n",
       "      <td>43.000000</td>\n",
       "    </tr>\n",
       "    <tr>\n",
       "      <th>25%</th>\n",
       "      <td>NaN</td>\n",
       "      <td>72.000000</td>\n",
       "    </tr>\n",
       "    <tr>\n",
       "      <th>50%</th>\n",
       "      <td>NaN</td>\n",
       "      <td>76.000000</td>\n",
       "    </tr>\n",
       "    <tr>\n",
       "      <th>75%</th>\n",
       "      <td>NaN</td>\n",
       "      <td>80.000000</td>\n",
       "    </tr>\n",
       "    <tr>\n",
       "      <th>max</th>\n",
       "      <td>NaN</td>\n",
       "      <td>94.000000</td>\n",
       "    </tr>\n",
       "  </tbody>\n",
       "</table>\n",
       "</div>"
      ],
      "text/plain": [
       "       device        value\n",
       "count     0.0  1967.000000\n",
       "mean      NaN    75.490086\n",
       "std       NaN     7.200287\n",
       "min       NaN    43.000000\n",
       "25%       NaN    72.000000\n",
       "50%       NaN    76.000000\n",
       "75%       NaN    80.000000\n",
       "max       NaN    94.000000"
      ]
     },
     "execution_count": 19,
     "metadata": {},
     "output_type": "execute_result"
    }
   ],
   "source": [
    "restingHR.describe()"
   ]
  },
  {
   "cell_type": "markdown",
   "metadata": {},
   "source": [
    "---"
   ]
  },
  {
   "cell_type": "markdown",
   "metadata": {},
   "source": [
    "## Walking Heart Rate (HR) Average"
   ]
  },
  {
   "cell_type": "code",
   "execution_count": 20,
   "metadata": {},
   "outputs": [],
   "source": [
    "walkingHR = pd.read_csv(\"data/apple_health_export/WalkingHeartRateAverage.csv\")"
   ]
  },
  {
   "cell_type": "code",
   "execution_count": 21,
   "metadata": {},
   "outputs": [
    {
     "data": {
      "text/plain": [
       "1941"
      ]
     },
     "execution_count": 21,
     "metadata": {},
     "output_type": "execute_result"
    }
   ],
   "source": [
    "len(walkingHR)"
   ]
  },
  {
   "cell_type": "code",
   "execution_count": 22,
   "metadata": {},
   "outputs": [
    {
     "data": {
      "text/html": [
       "<div>\n",
       "<style scoped>\n",
       "    .dataframe tbody tr th:only-of-type {\n",
       "        vertical-align: middle;\n",
       "    }\n",
       "\n",
       "    .dataframe tbody tr th {\n",
       "        vertical-align: top;\n",
       "    }\n",
       "\n",
       "    .dataframe thead th {\n",
       "        text-align: right;\n",
       "    }\n",
       "</style>\n",
       "<table border=\"1\" class=\"dataframe\">\n",
       "  <thead>\n",
       "    <tr style=\"text-align: right;\">\n",
       "      <th></th>\n",
       "      <th>device</th>\n",
       "      <th>value</th>\n",
       "    </tr>\n",
       "  </thead>\n",
       "  <tbody>\n",
       "    <tr>\n",
       "      <th>count</th>\n",
       "      <td>0.0</td>\n",
       "      <td>1941.000000</td>\n",
       "    </tr>\n",
       "    <tr>\n",
       "      <th>mean</th>\n",
       "      <td>NaN</td>\n",
       "      <td>105.832045</td>\n",
       "    </tr>\n",
       "    <tr>\n",
       "      <th>std</th>\n",
       "      <td>NaN</td>\n",
       "      <td>8.870278</td>\n",
       "    </tr>\n",
       "    <tr>\n",
       "      <th>min</th>\n",
       "      <td>NaN</td>\n",
       "      <td>61.000000</td>\n",
       "    </tr>\n",
       "    <tr>\n",
       "      <th>25%</th>\n",
       "      <td>NaN</td>\n",
       "      <td>100.000000</td>\n",
       "    </tr>\n",
       "    <tr>\n",
       "      <th>50%</th>\n",
       "      <td>NaN</td>\n",
       "      <td>106.000000</td>\n",
       "    </tr>\n",
       "    <tr>\n",
       "      <th>75%</th>\n",
       "      <td>NaN</td>\n",
       "      <td>111.500000</td>\n",
       "    </tr>\n",
       "    <tr>\n",
       "      <th>max</th>\n",
       "      <td>NaN</td>\n",
       "      <td>142.500000</td>\n",
       "    </tr>\n",
       "  </tbody>\n",
       "</table>\n",
       "</div>"
      ],
      "text/plain": [
       "       device        value\n",
       "count     0.0  1941.000000\n",
       "mean      NaN   105.832045\n",
       "std       NaN     8.870278\n",
       "min       NaN    61.000000\n",
       "25%       NaN   100.000000\n",
       "50%       NaN   106.000000\n",
       "75%       NaN   111.500000\n",
       "max       NaN   142.500000"
      ]
     },
     "execution_count": 22,
     "metadata": {},
     "output_type": "execute_result"
    }
   ],
   "source": [
    "walkingHR.describe()"
   ]
  },
  {
   "cell_type": "markdown",
   "metadata": {},
   "source": [
    "---"
   ]
  },
  {
   "cell_type": "markdown",
   "metadata": {},
   "source": [
    "## Heart Rate Variability (HRV)"
   ]
  },
  {
   "cell_type": "code",
   "execution_count": 23,
   "metadata": {},
   "outputs": [],
   "source": [
    "hrv = pd.read_csv(\"data/apple_health_export/HeartRateVariabilitySDNN.csv\")"
   ]
  },
  {
   "cell_type": "code",
   "execution_count": 24,
   "metadata": {},
   "outputs": [
    {
     "data": {
      "text/plain": [
       "11277"
      ]
     },
     "execution_count": 24,
     "metadata": {},
     "output_type": "execute_result"
    }
   ],
   "source": [
    "len(hrv)"
   ]
  },
  {
   "cell_type": "code",
   "execution_count": 25,
   "metadata": {},
   "outputs": [
    {
     "data": {
      "text/plain": [
       "Index(['sourceName', 'sourceVersion', 'device', 'type', 'unit', 'creationDate',\n",
       "       'startDate', 'endDate', 'value'],\n",
       "      dtype='object')"
      ]
     },
     "execution_count": 25,
     "metadata": {},
     "output_type": "execute_result"
    }
   ],
   "source": [
    "hrv.columns"
   ]
  },
  {
   "cell_type": "code",
   "execution_count": 26,
   "metadata": {},
   "outputs": [
    {
     "data": {
      "text/html": [
       "<div>\n",
       "<style scoped>\n",
       "    .dataframe tbody tr th:only-of-type {\n",
       "        vertical-align: middle;\n",
       "    }\n",
       "\n",
       "    .dataframe tbody tr th {\n",
       "        vertical-align: top;\n",
       "    }\n",
       "\n",
       "    .dataframe thead th {\n",
       "        text-align: right;\n",
       "    }\n",
       "</style>\n",
       "<table border=\"1\" class=\"dataframe\">\n",
       "  <thead>\n",
       "    <tr style=\"text-align: right;\">\n",
       "      <th></th>\n",
       "      <th>value</th>\n",
       "    </tr>\n",
       "  </thead>\n",
       "  <tbody>\n",
       "    <tr>\n",
       "      <th>count</th>\n",
       "      <td>11277.000000</td>\n",
       "    </tr>\n",
       "    <tr>\n",
       "      <th>mean</th>\n",
       "      <td>16.533775</td>\n",
       "    </tr>\n",
       "    <tr>\n",
       "      <th>std</th>\n",
       "      <td>9.998771</td>\n",
       "    </tr>\n",
       "    <tr>\n",
       "      <th>min</th>\n",
       "      <td>0.001788</td>\n",
       "    </tr>\n",
       "    <tr>\n",
       "      <th>25%</th>\n",
       "      <td>10.994300</td>\n",
       "    </tr>\n",
       "    <tr>\n",
       "      <th>50%</th>\n",
       "      <td>14.611600</td>\n",
       "    </tr>\n",
       "    <tr>\n",
       "      <th>75%</th>\n",
       "      <td>19.860400</td>\n",
       "    </tr>\n",
       "    <tr>\n",
       "      <th>max</th>\n",
       "      <td>286.346000</td>\n",
       "    </tr>\n",
       "  </tbody>\n",
       "</table>\n",
       "</div>"
      ],
      "text/plain": [
       "              value\n",
       "count  11277.000000\n",
       "mean      16.533775\n",
       "std        9.998771\n",
       "min        0.001788\n",
       "25%       10.994300\n",
       "50%       14.611600\n",
       "75%       19.860400\n",
       "max      286.346000"
      ]
     },
     "execution_count": 26,
     "metadata": {},
     "output_type": "execute_result"
    }
   ],
   "source": [
    "hrv.describe()"
   ]
  },
  {
   "cell_type": "code",
   "execution_count": 27,
   "metadata": {},
   "outputs": [
    {
     "data": {
      "text/html": [
       "<div>\n",
       "<style scoped>\n",
       "    .dataframe tbody tr th:only-of-type {\n",
       "        vertical-align: middle;\n",
       "    }\n",
       "\n",
       "    .dataframe tbody tr th {\n",
       "        vertical-align: top;\n",
       "    }\n",
       "\n",
       "    .dataframe thead th {\n",
       "        text-align: right;\n",
       "    }\n",
       "</style>\n",
       "<table border=\"1\" class=\"dataframe\">\n",
       "  <thead>\n",
       "    <tr style=\"text-align: right;\">\n",
       "      <th></th>\n",
       "      <th>sourceName</th>\n",
       "      <th>sourceVersion</th>\n",
       "      <th>device</th>\n",
       "      <th>type</th>\n",
       "      <th>unit</th>\n",
       "      <th>creationDate</th>\n",
       "      <th>startDate</th>\n",
       "      <th>endDate</th>\n",
       "      <th>value</th>\n",
       "    </tr>\n",
       "  </thead>\n",
       "  <tbody>\n",
       "    <tr>\n",
       "      <th>11272</th>\n",
       "      <td>David’s Apple Watch</td>\n",
       "      <td>9.3</td>\n",
       "      <td>&lt;&lt;HKDevice: 0x2801957c0&gt;, name:Apple Watch, ma...</td>\n",
       "      <td>HeartRateVariabilitySDNN</td>\n",
       "      <td>ms</td>\n",
       "      <td>2023-01-30 00:25:05 -0500</td>\n",
       "      <td>2023-01-30 00:24:03 -0500</td>\n",
       "      <td>2023-01-30 00:25:03 -0500</td>\n",
       "      <td>15.04420</td>\n",
       "    </tr>\n",
       "    <tr>\n",
       "      <th>11273</th>\n",
       "      <td>David’s Apple Watch</td>\n",
       "      <td>9.3</td>\n",
       "      <td>&lt;&lt;HKDevice: 0x2801957c0&gt;, name:Apple Watch, ma...</td>\n",
       "      <td>HeartRateVariabilitySDNN</td>\n",
       "      <td>ms</td>\n",
       "      <td>2023-01-30 02:24:41 -0500</td>\n",
       "      <td>2023-01-30 02:23:40 -0500</td>\n",
       "      <td>2023-01-30 02:24:40 -0500</td>\n",
       "      <td>14.41990</td>\n",
       "    </tr>\n",
       "    <tr>\n",
       "      <th>11274</th>\n",
       "      <td>David’s Apple Watch</td>\n",
       "      <td>9.3</td>\n",
       "      <td>&lt;&lt;HKDevice: 0x2801957c0&gt;, name:Apple Watch, ma...</td>\n",
       "      <td>HeartRateVariabilitySDNN</td>\n",
       "      <td>ms</td>\n",
       "      <td>2023-01-30 04:40:51 -0500</td>\n",
       "      <td>2023-01-30 04:39:50 -0500</td>\n",
       "      <td>2023-01-30 04:40:50 -0500</td>\n",
       "      <td>7.38772</td>\n",
       "    </tr>\n",
       "    <tr>\n",
       "      <th>11275</th>\n",
       "      <td>David’s Apple Watch</td>\n",
       "      <td>9.3</td>\n",
       "      <td>&lt;&lt;HKDevice: 0x2801957c0&gt;, name:Apple Watch, ma...</td>\n",
       "      <td>HeartRateVariabilitySDNN</td>\n",
       "      <td>ms</td>\n",
       "      <td>2023-01-30 06:26:51 -0500</td>\n",
       "      <td>2023-01-30 06:25:50 -0500</td>\n",
       "      <td>2023-01-30 06:26:49 -0500</td>\n",
       "      <td>14.40280</td>\n",
       "    </tr>\n",
       "    <tr>\n",
       "      <th>11276</th>\n",
       "      <td>David’s Apple Watch</td>\n",
       "      <td>9.3</td>\n",
       "      <td>&lt;&lt;HKDevice: 0x2801957c0&gt;, name:Apple Watch, ma...</td>\n",
       "      <td>HeartRateVariabilitySDNN</td>\n",
       "      <td>ms</td>\n",
       "      <td>2023-01-30 09:03:32 -0500</td>\n",
       "      <td>2023-01-30 09:02:30 -0500</td>\n",
       "      <td>2023-01-30 09:03:30 -0500</td>\n",
       "      <td>14.79230</td>\n",
       "    </tr>\n",
       "  </tbody>\n",
       "</table>\n",
       "</div>"
      ],
      "text/plain": [
       "                sourceName sourceVersion  \\\n",
       "11272  David’s Apple Watch           9.3   \n",
       "11273  David’s Apple Watch           9.3   \n",
       "11274  David’s Apple Watch           9.3   \n",
       "11275  David’s Apple Watch           9.3   \n",
       "11276  David’s Apple Watch           9.3   \n",
       "\n",
       "                                                  device  \\\n",
       "11272  <<HKDevice: 0x2801957c0>, name:Apple Watch, ma...   \n",
       "11273  <<HKDevice: 0x2801957c0>, name:Apple Watch, ma...   \n",
       "11274  <<HKDevice: 0x2801957c0>, name:Apple Watch, ma...   \n",
       "11275  <<HKDevice: 0x2801957c0>, name:Apple Watch, ma...   \n",
       "11276  <<HKDevice: 0x2801957c0>, name:Apple Watch, ma...   \n",
       "\n",
       "                           type unit               creationDate  \\\n",
       "11272  HeartRateVariabilitySDNN   ms  2023-01-30 00:25:05 -0500   \n",
       "11273  HeartRateVariabilitySDNN   ms  2023-01-30 02:24:41 -0500   \n",
       "11274  HeartRateVariabilitySDNN   ms  2023-01-30 04:40:51 -0500   \n",
       "11275  HeartRateVariabilitySDNN   ms  2023-01-30 06:26:51 -0500   \n",
       "11276  HeartRateVariabilitySDNN   ms  2023-01-30 09:03:32 -0500   \n",
       "\n",
       "                       startDate                    endDate     value  \n",
       "11272  2023-01-30 00:24:03 -0500  2023-01-30 00:25:03 -0500  15.04420  \n",
       "11273  2023-01-30 02:23:40 -0500  2023-01-30 02:24:40 -0500  14.41990  \n",
       "11274  2023-01-30 04:39:50 -0500  2023-01-30 04:40:50 -0500   7.38772  \n",
       "11275  2023-01-30 06:25:50 -0500  2023-01-30 06:26:49 -0500  14.40280  \n",
       "11276  2023-01-30 09:02:30 -0500  2023-01-30 09:03:30 -0500  14.79230  "
      ]
     },
     "execution_count": 27,
     "metadata": {},
     "output_type": "execute_result"
    }
   ],
   "source": [
    "hrv.tail()"
   ]
  },
  {
   "cell_type": "markdown",
   "metadata": {},
   "source": [
    "-------"
   ]
  },
  {
   "cell_type": "markdown",
   "metadata": {},
   "source": [
    "## VO2 Max"
   ]
  },
  {
   "cell_type": "code",
   "execution_count": 28,
   "metadata": {},
   "outputs": [],
   "source": [
    "vo2max = pd.read_csv(\"data/apple_health_export/VO2Max.csv\")"
   ]
  },
  {
   "cell_type": "code",
   "execution_count": 29,
   "metadata": {},
   "outputs": [
    {
     "data": {
      "text/plain": [
       "94"
      ]
     },
     "execution_count": 29,
     "metadata": {},
     "output_type": "execute_result"
    }
   ],
   "source": [
    "len(vo2max)"
   ]
  },
  {
   "cell_type": "code",
   "execution_count": 30,
   "metadata": {},
   "outputs": [
    {
     "data": {
      "text/html": [
       "<div>\n",
       "<style scoped>\n",
       "    .dataframe tbody tr th:only-of-type {\n",
       "        vertical-align: middle;\n",
       "    }\n",
       "\n",
       "    .dataframe tbody tr th {\n",
       "        vertical-align: top;\n",
       "    }\n",
       "\n",
       "    .dataframe thead th {\n",
       "        text-align: right;\n",
       "    }\n",
       "</style>\n",
       "<table border=\"1\" class=\"dataframe\">\n",
       "  <thead>\n",
       "    <tr style=\"text-align: right;\">\n",
       "      <th></th>\n",
       "      <th>device</th>\n",
       "      <th>value</th>\n",
       "    </tr>\n",
       "  </thead>\n",
       "  <tbody>\n",
       "    <tr>\n",
       "      <th>count</th>\n",
       "      <td>0.0</td>\n",
       "      <td>94.000000</td>\n",
       "    </tr>\n",
       "    <tr>\n",
       "      <th>mean</th>\n",
       "      <td>NaN</td>\n",
       "      <td>20.969688</td>\n",
       "    </tr>\n",
       "    <tr>\n",
       "      <th>std</th>\n",
       "      <td>NaN</td>\n",
       "      <td>2.679804</td>\n",
       "    </tr>\n",
       "    <tr>\n",
       "      <th>min</th>\n",
       "      <td>NaN</td>\n",
       "      <td>17.710000</td>\n",
       "    </tr>\n",
       "    <tr>\n",
       "      <th>25%</th>\n",
       "      <td>NaN</td>\n",
       "      <td>18.382500</td>\n",
       "    </tr>\n",
       "    <tr>\n",
       "      <th>50%</th>\n",
       "      <td>NaN</td>\n",
       "      <td>21.840000</td>\n",
       "    </tr>\n",
       "    <tr>\n",
       "      <th>75%</th>\n",
       "      <td>NaN</td>\n",
       "      <td>23.277500</td>\n",
       "    </tr>\n",
       "    <tr>\n",
       "      <th>max</th>\n",
       "      <td>NaN</td>\n",
       "      <td>30.060300</td>\n",
       "    </tr>\n",
       "  </tbody>\n",
       "</table>\n",
       "</div>"
      ],
      "text/plain": [
       "       device      value\n",
       "count     0.0  94.000000\n",
       "mean      NaN  20.969688\n",
       "std       NaN   2.679804\n",
       "min       NaN  17.710000\n",
       "25%       NaN  18.382500\n",
       "50%       NaN  21.840000\n",
       "75%       NaN  23.277500\n",
       "max       NaN  30.060300"
      ]
     },
     "execution_count": 30,
     "metadata": {},
     "output_type": "execute_result"
    }
   ],
   "source": [
    "vo2max.describe()"
   ]
  },
  {
   "cell_type": "markdown",
   "metadata": {},
   "source": [
    "----"
   ]
  },
  {
   "cell_type": "markdown",
   "metadata": {},
   "source": [
    "## Blood Pressure"
   ]
  },
  {
   "cell_type": "code",
   "execution_count": 31,
   "metadata": {},
   "outputs": [],
   "source": [
    "diastolic = pd.read_csv(\"data/apple_health_export/BloodPressureDiastolic.csv\")\n",
    "systolic = pd.read_csv(\"data/apple_health_export/BloodPressureSystolic.csv\")"
   ]
  },
  {
   "cell_type": "code",
   "execution_count": 32,
   "metadata": {},
   "outputs": [
    {
     "data": {
      "text/html": [
       "<div>\n",
       "<style scoped>\n",
       "    .dataframe tbody tr th:only-of-type {\n",
       "        vertical-align: middle;\n",
       "    }\n",
       "\n",
       "    .dataframe tbody tr th {\n",
       "        vertical-align: top;\n",
       "    }\n",
       "\n",
       "    .dataframe thead th {\n",
       "        text-align: right;\n",
       "    }\n",
       "</style>\n",
       "<table border=\"1\" class=\"dataframe\">\n",
       "  <thead>\n",
       "    <tr style=\"text-align: right;\">\n",
       "      <th></th>\n",
       "      <th>sourceVersion</th>\n",
       "      <th>device</th>\n",
       "      <th>value</th>\n",
       "    </tr>\n",
       "  </thead>\n",
       "  <tbody>\n",
       "    <tr>\n",
       "      <th>count</th>\n",
       "      <td>152.000000</td>\n",
       "      <td>0.0</td>\n",
       "      <td>152.000000</td>\n",
       "    </tr>\n",
       "    <tr>\n",
       "      <th>mean</th>\n",
       "      <td>564.993421</td>\n",
       "      <td>NaN</td>\n",
       "      <td>72.500000</td>\n",
       "    </tr>\n",
       "    <tr>\n",
       "      <th>std</th>\n",
       "      <td>574.722110</td>\n",
       "      <td>NaN</td>\n",
       "      <td>5.700006</td>\n",
       "    </tr>\n",
       "    <tr>\n",
       "      <th>min</th>\n",
       "      <td>216.000000</td>\n",
       "      <td>NaN</td>\n",
       "      <td>61.000000</td>\n",
       "    </tr>\n",
       "    <tr>\n",
       "      <th>25%</th>\n",
       "      <td>221.000000</td>\n",
       "      <td>NaN</td>\n",
       "      <td>68.000000</td>\n",
       "    </tr>\n",
       "    <tr>\n",
       "      <th>50%</th>\n",
       "      <td>243.000000</td>\n",
       "      <td>NaN</td>\n",
       "      <td>72.000000</td>\n",
       "    </tr>\n",
       "    <tr>\n",
       "      <th>75%</th>\n",
       "      <td>385.000000</td>\n",
       "      <td>NaN</td>\n",
       "      <td>77.000000</td>\n",
       "    </tr>\n",
       "    <tr>\n",
       "      <th>max</th>\n",
       "      <td>1609.000000</td>\n",
       "      <td>NaN</td>\n",
       "      <td>88.000000</td>\n",
       "    </tr>\n",
       "  </tbody>\n",
       "</table>\n",
       "</div>"
      ],
      "text/plain": [
       "       sourceVersion  device       value\n",
       "count     152.000000     0.0  152.000000\n",
       "mean      564.993421     NaN   72.500000\n",
       "std       574.722110     NaN    5.700006\n",
       "min       216.000000     NaN   61.000000\n",
       "25%       221.000000     NaN   68.000000\n",
       "50%       243.000000     NaN   72.000000\n",
       "75%       385.000000     NaN   77.000000\n",
       "max      1609.000000     NaN   88.000000"
      ]
     },
     "execution_count": 32,
     "metadata": {},
     "output_type": "execute_result"
    }
   ],
   "source": [
    "diastolic.describe()"
   ]
  },
  {
   "cell_type": "code",
   "execution_count": 33,
   "metadata": {},
   "outputs": [
    {
     "data": {
      "text/html": [
       "<div>\n",
       "<style scoped>\n",
       "    .dataframe tbody tr th:only-of-type {\n",
       "        vertical-align: middle;\n",
       "    }\n",
       "\n",
       "    .dataframe tbody tr th {\n",
       "        vertical-align: top;\n",
       "    }\n",
       "\n",
       "    .dataframe thead th {\n",
       "        text-align: right;\n",
       "    }\n",
       "</style>\n",
       "<table border=\"1\" class=\"dataframe\">\n",
       "  <thead>\n",
       "    <tr style=\"text-align: right;\">\n",
       "      <th></th>\n",
       "      <th>sourceVersion</th>\n",
       "      <th>device</th>\n",
       "      <th>value</th>\n",
       "    </tr>\n",
       "  </thead>\n",
       "  <tbody>\n",
       "    <tr>\n",
       "      <th>count</th>\n",
       "      <td>152.000000</td>\n",
       "      <td>0.0</td>\n",
       "      <td>152.000000</td>\n",
       "    </tr>\n",
       "    <tr>\n",
       "      <th>mean</th>\n",
       "      <td>564.993421</td>\n",
       "      <td>NaN</td>\n",
       "      <td>119.453947</td>\n",
       "    </tr>\n",
       "    <tr>\n",
       "      <th>std</th>\n",
       "      <td>574.722110</td>\n",
       "      <td>NaN</td>\n",
       "      <td>8.716916</td>\n",
       "    </tr>\n",
       "    <tr>\n",
       "      <th>min</th>\n",
       "      <td>216.000000</td>\n",
       "      <td>NaN</td>\n",
       "      <td>99.000000</td>\n",
       "    </tr>\n",
       "    <tr>\n",
       "      <th>25%</th>\n",
       "      <td>221.000000</td>\n",
       "      <td>NaN</td>\n",
       "      <td>113.750000</td>\n",
       "    </tr>\n",
       "    <tr>\n",
       "      <th>50%</th>\n",
       "      <td>243.000000</td>\n",
       "      <td>NaN</td>\n",
       "      <td>119.000000</td>\n",
       "    </tr>\n",
       "    <tr>\n",
       "      <th>75%</th>\n",
       "      <td>385.000000</td>\n",
       "      <td>NaN</td>\n",
       "      <td>123.250000</td>\n",
       "    </tr>\n",
       "    <tr>\n",
       "      <th>max</th>\n",
       "      <td>1609.000000</td>\n",
       "      <td>NaN</td>\n",
       "      <td>142.000000</td>\n",
       "    </tr>\n",
       "  </tbody>\n",
       "</table>\n",
       "</div>"
      ],
      "text/plain": [
       "       sourceVersion  device       value\n",
       "count     152.000000     0.0  152.000000\n",
       "mean      564.993421     NaN  119.453947\n",
       "std       574.722110     NaN    8.716916\n",
       "min       216.000000     NaN   99.000000\n",
       "25%       221.000000     NaN  113.750000\n",
       "50%       243.000000     NaN  119.000000\n",
       "75%       385.000000     NaN  123.250000\n",
       "max      1609.000000     NaN  142.000000"
      ]
     },
     "execution_count": 33,
     "metadata": {},
     "output_type": "execute_result"
    }
   ],
   "source": [
    "systolic.describe()"
   ]
  },
  {
   "cell_type": "markdown",
   "metadata": {},
   "source": [
    "------"
   ]
  },
  {
   "cell_type": "markdown",
   "metadata": {},
   "source": [
    "## Sleep"
   ]
  },
  {
   "cell_type": "code",
   "execution_count": 34,
   "metadata": {},
   "outputs": [],
   "source": [
    "sleep = pd.read_csv(\"data/apple_health_export/SleepAnalysis.csv\")"
   ]
  },
  {
   "cell_type": "code",
   "execution_count": 35,
   "metadata": {},
   "outputs": [
    {
     "data": {
      "text/html": [
       "<div>\n",
       "<style scoped>\n",
       "    .dataframe tbody tr th:only-of-type {\n",
       "        vertical-align: middle;\n",
       "    }\n",
       "\n",
       "    .dataframe tbody tr th {\n",
       "        vertical-align: top;\n",
       "    }\n",
       "\n",
       "    .dataframe thead th {\n",
       "        text-align: right;\n",
       "    }\n",
       "</style>\n",
       "<table border=\"1\" class=\"dataframe\">\n",
       "  <thead>\n",
       "    <tr style=\"text-align: right;\">\n",
       "      <th></th>\n",
       "      <th>sourceName</th>\n",
       "      <th>sourceVersion</th>\n",
       "      <th>device</th>\n",
       "      <th>type</th>\n",
       "      <th>unit</th>\n",
       "      <th>creationDate</th>\n",
       "      <th>startDate</th>\n",
       "      <th>endDate</th>\n",
       "      <th>value</th>\n",
       "    </tr>\n",
       "  </thead>\n",
       "  <tbody>\n",
       "    <tr>\n",
       "      <th>8011</th>\n",
       "      <td>David’s Apple Watch</td>\n",
       "      <td>9.3</td>\n",
       "      <td>NaN</td>\n",
       "      <td>SleepAnalysis</td>\n",
       "      <td>NaN</td>\n",
       "      <td>2023-01-30 06:30:05 -0500</td>\n",
       "      <td>2023-01-30 04:14:31 -0500</td>\n",
       "      <td>2023-01-30 05:22:01 -0500</td>\n",
       "      <td>HKCategoryValueSleepAnalysisAsleepCore</td>\n",
       "    </tr>\n",
       "    <tr>\n",
       "      <th>8012</th>\n",
       "      <td>David’s Apple Watch</td>\n",
       "      <td>9.3</td>\n",
       "      <td>NaN</td>\n",
       "      <td>SleepAnalysis</td>\n",
       "      <td>NaN</td>\n",
       "      <td>2023-01-30 06:30:05 -0500</td>\n",
       "      <td>2023-01-30 05:22:01 -0500</td>\n",
       "      <td>2023-01-30 05:36:31 -0500</td>\n",
       "      <td>HKCategoryValueSleepAnalysisAsleepREM</td>\n",
       "    </tr>\n",
       "    <tr>\n",
       "      <th>8013</th>\n",
       "      <td>David’s Apple Watch</td>\n",
       "      <td>9.3</td>\n",
       "      <td>NaN</td>\n",
       "      <td>SleepAnalysis</td>\n",
       "      <td>NaN</td>\n",
       "      <td>2023-01-30 06:30:05 -0500</td>\n",
       "      <td>2023-01-30 03:35:31 -0500</td>\n",
       "      <td>2023-01-30 05:36:31 -0500</td>\n",
       "      <td>HKCategoryValueSleepAnalysisInBed</td>\n",
       "    </tr>\n",
       "    <tr>\n",
       "      <th>8014</th>\n",
       "      <td>David iPhone</td>\n",
       "      <td>16.3</td>\n",
       "      <td>NaN</td>\n",
       "      <td>SleepAnalysis</td>\n",
       "      <td>NaN</td>\n",
       "      <td>2023-01-30 06:30:04 -0500</td>\n",
       "      <td>2023-01-29 23:30:59 -0500</td>\n",
       "      <td>2023-01-30 05:53:16 -0500</td>\n",
       "      <td>HKCategoryValueSleepAnalysisInBed</td>\n",
       "    </tr>\n",
       "    <tr>\n",
       "      <th>8015</th>\n",
       "      <td>David iPhone</td>\n",
       "      <td>16.3</td>\n",
       "      <td>NaN</td>\n",
       "      <td>SleepAnalysis</td>\n",
       "      <td>NaN</td>\n",
       "      <td>2023-01-30 06:30:04 -0500</td>\n",
       "      <td>2023-01-30 06:00:51 -0500</td>\n",
       "      <td>2023-01-30 06:02:04 -0500</td>\n",
       "      <td>HKCategoryValueSleepAnalysisInBed</td>\n",
       "    </tr>\n",
       "  </tbody>\n",
       "</table>\n",
       "</div>"
      ],
      "text/plain": [
       "               sourceName sourceVersion  device           type  unit  \\\n",
       "8011  David’s Apple Watch           9.3     NaN  SleepAnalysis   NaN   \n",
       "8012  David’s Apple Watch           9.3     NaN  SleepAnalysis   NaN   \n",
       "8013  David’s Apple Watch           9.3     NaN  SleepAnalysis   NaN   \n",
       "8014         David iPhone          16.3     NaN  SleepAnalysis   NaN   \n",
       "8015         David iPhone          16.3     NaN  SleepAnalysis   NaN   \n",
       "\n",
       "                   creationDate                  startDate  \\\n",
       "8011  2023-01-30 06:30:05 -0500  2023-01-30 04:14:31 -0500   \n",
       "8012  2023-01-30 06:30:05 -0500  2023-01-30 05:22:01 -0500   \n",
       "8013  2023-01-30 06:30:05 -0500  2023-01-30 03:35:31 -0500   \n",
       "8014  2023-01-30 06:30:04 -0500  2023-01-29 23:30:59 -0500   \n",
       "8015  2023-01-30 06:30:04 -0500  2023-01-30 06:00:51 -0500   \n",
       "\n",
       "                        endDate                                   value  \n",
       "8011  2023-01-30 05:22:01 -0500  HKCategoryValueSleepAnalysisAsleepCore  \n",
       "8012  2023-01-30 05:36:31 -0500   HKCategoryValueSleepAnalysisAsleepREM  \n",
       "8013  2023-01-30 05:36:31 -0500       HKCategoryValueSleepAnalysisInBed  \n",
       "8014  2023-01-30 05:53:16 -0500       HKCategoryValueSleepAnalysisInBed  \n",
       "8015  2023-01-30 06:02:04 -0500       HKCategoryValueSleepAnalysisInBed  "
      ]
     },
     "execution_count": 35,
     "metadata": {},
     "output_type": "execute_result"
    }
   ],
   "source": [
    "sleep.tail()"
   ]
  },
  {
   "cell_type": "code",
   "execution_count": 36,
   "metadata": {},
   "outputs": [
    {
     "data": {
      "text/html": [
       "<div>\n",
       "<style scoped>\n",
       "    .dataframe tbody tr th:only-of-type {\n",
       "        vertical-align: middle;\n",
       "    }\n",
       "\n",
       "    .dataframe tbody tr th {\n",
       "        vertical-align: top;\n",
       "    }\n",
       "\n",
       "    .dataframe thead th {\n",
       "        text-align: right;\n",
       "    }\n",
       "</style>\n",
       "<table border=\"1\" class=\"dataframe\">\n",
       "  <thead>\n",
       "    <tr style=\"text-align: right;\">\n",
       "      <th></th>\n",
       "      <th>device</th>\n",
       "      <th>unit</th>\n",
       "    </tr>\n",
       "  </thead>\n",
       "  <tbody>\n",
       "    <tr>\n",
       "      <th>count</th>\n",
       "      <td>0.0</td>\n",
       "      <td>0.0</td>\n",
       "    </tr>\n",
       "    <tr>\n",
       "      <th>mean</th>\n",
       "      <td>NaN</td>\n",
       "      <td>NaN</td>\n",
       "    </tr>\n",
       "    <tr>\n",
       "      <th>std</th>\n",
       "      <td>NaN</td>\n",
       "      <td>NaN</td>\n",
       "    </tr>\n",
       "    <tr>\n",
       "      <th>min</th>\n",
       "      <td>NaN</td>\n",
       "      <td>NaN</td>\n",
       "    </tr>\n",
       "    <tr>\n",
       "      <th>25%</th>\n",
       "      <td>NaN</td>\n",
       "      <td>NaN</td>\n",
       "    </tr>\n",
       "    <tr>\n",
       "      <th>50%</th>\n",
       "      <td>NaN</td>\n",
       "      <td>NaN</td>\n",
       "    </tr>\n",
       "    <tr>\n",
       "      <th>75%</th>\n",
       "      <td>NaN</td>\n",
       "      <td>NaN</td>\n",
       "    </tr>\n",
       "    <tr>\n",
       "      <th>max</th>\n",
       "      <td>NaN</td>\n",
       "      <td>NaN</td>\n",
       "    </tr>\n",
       "  </tbody>\n",
       "</table>\n",
       "</div>"
      ],
      "text/plain": [
       "       device  unit\n",
       "count     0.0   0.0\n",
       "mean      NaN   NaN\n",
       "std       NaN   NaN\n",
       "min       NaN   NaN\n",
       "25%       NaN   NaN\n",
       "50%       NaN   NaN\n",
       "75%       NaN   NaN\n",
       "max       NaN   NaN"
      ]
     },
     "execution_count": 36,
     "metadata": {},
     "output_type": "execute_result"
    }
   ],
   "source": [
    "sleep.describe()"
   ]
  },
  {
   "cell_type": "code",
   "execution_count": null,
   "metadata": {
    "collapsed": true,
    "jupyter": {
     "outputs_hidden": true
    }
   },
   "outputs": [],
   "source": []
  },
  {
   "cell_type": "code",
   "execution_count": null,
   "metadata": {},
   "outputs": [],
   "source": []
  },
  {
   "cell_type": "code",
   "execution_count": null,
   "metadata": {},
   "outputs": [],
   "source": []
  }
 ],
 "metadata": {
  "kernelspec": {
   "display_name": "Python 3 (ipykernel)",
   "language": "python",
   "name": "python3"
  },
  "language_info": {
   "codemirror_mode": {
    "name": "ipython",
    "version": 3
   },
   "file_extension": ".py",
   "mimetype": "text/x-python",
   "name": "python",
   "nbconvert_exporter": "python",
   "pygments_lexer": "ipython3",
   "version": "3.9.7"
  }
 },
 "nbformat": 4,
 "nbformat_minor": 4
}
