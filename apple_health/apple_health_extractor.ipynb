{
 "cells": [
  {
   "cell_type": "markdown",
   "metadata": {},
   "source": [
    "# Apple Health Extractor"
   ]
  },
  {
   "cell_type": "markdown",
   "metadata": {},
   "source": [
    "This code will parse your Apple Health export data, create multiple CSV and do some simple data checks and data analysis. \n",
    "\n",
    "Enjoy! "
   ]
  },
  {
   "cell_type": "markdown",
   "metadata": {},
   "source": [
    "--------"
   ]
  },
  {
   "cell_type": "markdown",
   "metadata": {},
   "source": [
    "## Extract Data and Export to CSVs from Apple Health's Export.xml"
   ]
  },
  {
   "cell_type": "markdown",
   "metadata": {},
   "source": [
    "* Command Line Tool to Process apple health's export.xml file \n",
    "* Create multiple CSV files for each data type. \n",
    "* Original Source: https://github.com/tdda/applehealthdata\n",
    "* Based on the size of your Apple Health Data, this script may take several minutes to complete.\n",
    "\n",
    "**NOTE: Currently there are a few minror errors based on additional data from Apple Health that require some updates.** "
   ]
  },
  {
   "cell_type": "markdown",
   "metadata": {},
   "source": [
    "## Setup and Usage NOTE\n",
    "\n",
    "* Export your data from Apple Health App on your phone. \n",
    "* Unzip export.zip into this directory and rename to data. \n",
    "* Inside your directory there should be a directory and file here: /data/export.xml\n",
    "* Run inside project or in the command line."
   ]
  },
  {
   "cell_type": "code",
   "execution_count": 7,
   "metadata": {
    "tags": []
   },
   "outputs": [
    {
     "name": "stdout",
     "output_type": "stream",
     "text": [
      "Reading data from data/export.xml . . . done\n",
      "Unexpected node of type ExportDate.\n",
      "Unexpected node of type Correlation.\n",
      "Unexpected node of type Correlation.\n",
      "Unexpected node of type Correlation.\n",
      "Unexpected node of type Correlation.\n",
      "Unexpected node of type Correlation.\n",
      "Unexpected node of type Correlation.\n",
      "Unexpected node of type Correlation.\n",
      "Unexpected node of type Correlation.\n",
      "Unexpected node of type Correlation.\n",
      "Unexpected node of type Correlation.\n",
      "Unexpected node of type Correlation.\n",
      "Unexpected node of type Correlation.\n",
      "Unexpected node of type Correlation.\n",
      "Unexpected node of type Correlation.\n",
      "Unexpected node of type Correlation.\n",
      "Unexpected node of type Correlation.\n",
      "Unexpected node of type Correlation.\n",
      "Unexpected node of type Correlation.\n",
      "Unexpected node of type Correlation.\n",
      "Unexpected node of type Correlation.\n",
      "Unexpected node of type Correlation.\n",
      "Unexpected node of type Correlation.\n",
      "Unexpected node of type Correlation.\n",
      "Unexpected node of type Correlation.\n",
      "Unexpected node of type Correlation.\n",
      "Unexpected node of type Correlation.\n",
      "Unexpected node of type Correlation.\n",
      "Unexpected node of type Correlation.\n",
      "Unexpected node of type Correlation.\n",
      "Unexpected node of type Correlation.\n",
      "Unexpected node of type Correlation.\n",
      "Unexpected node of type Correlation.\n",
      "Unexpected node of type Correlation.\n",
      "Unexpected node of type Correlation.\n",
      "Unexpected node of type Correlation.\n",
      "Unexpected node of type Correlation.\n",
      "Unexpected node of type Correlation.\n",
      "Unexpected node of type Correlation.\n",
      "Unexpected node of type Correlation.\n",
      "Unexpected node of type Correlation.\n",
      "Unexpected node of type Correlation.\n",
      "Unexpected node of type Correlation.\n",
      "Unexpected node of type Correlation.\n",
      "Unexpected node of type Correlation.\n",
      "Unexpected node of type Correlation.\n",
      "Unexpected node of type Correlation.\n",
      "Unexpected node of type Correlation.\n",
      "Unexpected node of type Correlation.\n",
      "Unexpected node of type Correlation.\n",
      "Unexpected node of type Correlation.\n",
      "Unexpected node of type Correlation.\n",
      "Unexpected node of type Correlation.\n",
      "Unexpected node of type Correlation.\n",
      "Unexpected node of type Correlation.\n",
      "Unexpected node of type Correlation.\n",
      "Unexpected node of type Correlation.\n",
      "Unexpected node of type Correlation.\n",
      "Unexpected node of type Correlation.\n",
      "Unexpected node of type Correlation.\n",
      "Unexpected node of type Correlation.\n",
      "Unexpected node of type Correlation.\n",
      "Unexpected node of type Correlation.\n",
      "Unexpected node of type Correlation.\n",
      "Unexpected node of type Correlation.\n",
      "Unexpected node of type Correlation.\n",
      "Unexpected node of type Correlation.\n",
      "Unexpected node of type Correlation.\n",
      "Unexpected node of type Correlation.\n",
      "Unexpected node of type Correlation.\n",
      "Unexpected node of type Correlation.\n",
      "Unexpected node of type Correlation.\n",
      "Unexpected node of type Correlation.\n",
      "Unexpected node of type Correlation.\n",
      "Unexpected node of type Correlation.\n",
      "\n",
      "Tags:\n",
      "ActivitySummary: 1927\n",
      "Correlation: 74\n",
      "ExportDate: 1\n",
      "Me: 1\n",
      "Record: 2649613\n",
      "Workout: 396\n",
      "\n",
      "Fields:\n",
      "HKCharacteristicTypeIdentifierBiologicalSex: 1\n",
      "HKCharacteristicTypeIdentifierBloodType: 1\n",
      "HKCharacteristicTypeIdentifierCardioFitnessMedicationsUse: 1\n",
      "HKCharacteristicTypeIdentifierDateOfBirth: 1\n",
      "HKCharacteristicTypeIdentifierFitzpatrickSkinType: 1\n",
      "activeEnergyBurned: 1927\n",
      "activeEnergyBurnedGoal: 1927\n",
      "activeEnergyBurnedUnit: 1927\n",
      "appleExerciseTime: 1927\n",
      "appleExerciseTimeGoal: 1927\n",
      "appleMoveTime: 1927\n",
      "appleMoveTimeGoal: 1927\n",
      "appleStandHours: 1927\n",
      "appleStandHoursGoal: 1927\n",
      "creationDate: 2650083\n",
      "dateComponents: 1927\n",
      "device: 2598470\n",
      "duration: 396\n",
      "durationUnit: 396\n",
      "endDate: 2650083\n",
      "sourceName: 2650083\n",
      "sourceVersion: 2634548\n",
      "startDate: 2650083\n",
      "totalDistance: 396\n",
      "totalDistanceUnit: 396\n",
      "totalEnergyBurned: 396\n",
      "totalEnergyBurnedUnit: 396\n",
      "type: 2649687\n",
      "unit: 2623479\n",
      "value: 2648183\n",
      "workoutActivityType: 396\n",
      "\n",
      "Record types:\n",
      "ActiveEnergyBurned: 1387158\n",
      "AppleExerciseTime: 35722\n",
      "AppleStandHour: 24262\n",
      "AppleStandTime: 25761\n",
      "AudioExposureEvent: 11\n",
      "BasalEnergyBurned: 254416\n",
      "BloodPressureDiastolic: 116\n",
      "BloodPressureSystolic: 116\n",
      "BodyFatPercentage: 656\n",
      "BodyMass: 708\n",
      "BodyMassIndex: 656\n",
      "DistanceCycling: 2168\n",
      "DistanceSwimming: 10\n",
      "DistanceWalkingRunning: 282844\n",
      "EnvironmentalAudioExposure: 16773\n",
      "FlightsClimbed: 17504\n",
      "HKDataTypeSleepDurationGoal: 1\n",
      "HandwashingEvent: 352\n",
      "HeadphoneAudioExposure: 1444\n",
      "HeartRate: 311040\n",
      "HeartRateVariabilitySDNN: 6477\n",
      "Height: 659\n",
      "LeanBodyMass: 656\n",
      "LowCardioFitnessEvent: 1\n",
      "MindfulSession: 1079\n",
      "RestingHeartRate: 1440\n",
      "SixMinuteWalkTestDistance: 29\n",
      "SleepAnalysis: 429\n",
      "StairAscentSpeed: 1047\n",
      "StairDescentSpeed: 918\n",
      "StepCount: 264789\n",
      "SwimmingStrokeCount: 10\n",
      "VO2Max: 52\n",
      "WalkingAsymmetryPercentage: 502\n",
      "WalkingDoubleSupportPercentage: 2274\n",
      "WalkingHeartRateAverage: 1426\n",
      "WalkingSpeed: 3054\n",
      "WalkingStepLength: 3053\n",
      "\n",
      "Opening /home/jovyan/work/qs_ledger/apple_health/data/BodyMassIndex.csv for writing\n",
      "Opening /home/jovyan/work/qs_ledger/apple_health/data/Height.csv for writing\n",
      "Opening /home/jovyan/work/qs_ledger/apple_health/data/BodyMass.csv for writing\n",
      "Opening /home/jovyan/work/qs_ledger/apple_health/data/HeartRate.csv for writing\n",
      "Opening /home/jovyan/work/qs_ledger/apple_health/data/BloodPressureSystolic.csv for writing\n",
      "Opening /home/jovyan/work/qs_ledger/apple_health/data/BloodPressureDiastolic.csv for writing\n",
      "Opening /home/jovyan/work/qs_ledger/apple_health/data/BodyFatPercentage.csv for writing\n",
      "Opening /home/jovyan/work/qs_ledger/apple_health/data/LeanBodyMass.csv for writing\n",
      "Opening /home/jovyan/work/qs_ledger/apple_health/data/StepCount.csv for writing\n",
      "Opening /home/jovyan/work/qs_ledger/apple_health/data/DistanceWalkingRunning.csv for writing\n",
      "Opening /home/jovyan/work/qs_ledger/apple_health/data/BasalEnergyBurned.csv for writing\n",
      "Opening /home/jovyan/work/qs_ledger/apple_health/data/ActiveEnergyBurned.csv for writing\n",
      "Opening /home/jovyan/work/qs_ledger/apple_health/data/FlightsClimbed.csv for writing\n",
      "Opening /home/jovyan/work/qs_ledger/apple_health/data/AppleExerciseTime.csv for writing\n",
      "Opening /home/jovyan/work/qs_ledger/apple_health/data/DistanceCycling.csv for writing\n",
      "Opening /home/jovyan/work/qs_ledger/apple_health/data/DistanceSwimming.csv for writing\n",
      "Opening /home/jovyan/work/qs_ledger/apple_health/data/SwimmingStrokeCount.csv for writing\n",
      "Opening /home/jovyan/work/qs_ledger/apple_health/data/RestingHeartRate.csv for writing\n",
      "Opening /home/jovyan/work/qs_ledger/apple_health/data/VO2Max.csv for writing\n",
      "Opening /home/jovyan/work/qs_ledger/apple_health/data/WalkingHeartRateAverage.csv for writing\n",
      "Opening /home/jovyan/work/qs_ledger/apple_health/data/EnvironmentalAudioExposure.csv for writing\n",
      "Opening /home/jovyan/work/qs_ledger/apple_health/data/HeadphoneAudioExposure.csv for writing\n",
      "Opening /home/jovyan/work/qs_ledger/apple_health/data/WalkingDoubleSupportPercentage.csv for writing\n",
      "Opening /home/jovyan/work/qs_ledger/apple_health/data/SixMinuteWalkTestDistance.csv for writing\n",
      "Opening /home/jovyan/work/qs_ledger/apple_health/data/AppleStandTime.csv for writing\n",
      "Opening /home/jovyan/work/qs_ledger/apple_health/data/WalkingSpeed.csv for writing\n",
      "Opening /home/jovyan/work/qs_ledger/apple_health/data/WalkingStepLength.csv for writing\n",
      "Opening /home/jovyan/work/qs_ledger/apple_health/data/WalkingAsymmetryPercentage.csv for writing\n",
      "Opening /home/jovyan/work/qs_ledger/apple_health/data/StairAscentSpeed.csv for writing\n",
      "Opening /home/jovyan/work/qs_ledger/apple_health/data/StairDescentSpeed.csv for writing\n",
      "Opening /home/jovyan/work/qs_ledger/apple_health/data/HKDataTypeSleepDurationGoal.csv for writing\n",
      "Opening /home/jovyan/work/qs_ledger/apple_health/data/SleepAnalysis.csv for writing\n",
      "Opening /home/jovyan/work/qs_ledger/apple_health/data/AppleStandHour.csv for writing\n",
      "Opening /home/jovyan/work/qs_ledger/apple_health/data/MindfulSession.csv for writing\n",
      "Opening /home/jovyan/work/qs_ledger/apple_health/data/AudioExposureEvent.csv for writing\n",
      "Opening /home/jovyan/work/qs_ledger/apple_health/data/LowCardioFitnessEvent.csv for writing\n",
      "Opening /home/jovyan/work/qs_ledger/apple_health/data/HandwashingEvent.csv for writing\n",
      "Opening /home/jovyan/work/qs_ledger/apple_health/data/HeartRateVariabilitySDNN.csv for writing\n",
      "Opening /home/jovyan/work/qs_ledger/apple_health/data/Workout.csv for writing\n",
      "Opening /home/jovyan/work/qs_ledger/apple_health/data/ActivitySummary.csv for writing\n",
      "Written BodyMassIndex data.\n",
      "Written Height data.\n",
      "Written BodyMass data.\n",
      "Written HeartRate data.\n",
      "Written BloodPressureSystolic data.\n",
      "Written BloodPressureDiastolic data.\n",
      "Written BodyFatPercentage data.\n",
      "Written LeanBodyMass data.\n",
      "Written StepCount data.\n",
      "Written DistanceWalkingRunning data.\n",
      "Written BasalEnergyBurned data.\n",
      "Written ActiveEnergyBurned data.\n",
      "Written FlightsClimbed data.\n",
      "Written AppleExerciseTime data.\n",
      "Written DistanceCycling data.\n",
      "Written DistanceSwimming data.\n",
      "Written SwimmingStrokeCount data.\n",
      "Written RestingHeartRate data.\n",
      "Written VO2Max data.\n",
      "Written WalkingHeartRateAverage data.\n",
      "Written EnvironmentalAudioExposure data.\n",
      "Written HeadphoneAudioExposure data.\n",
      "Written WalkingDoubleSupportPercentage data.\n",
      "Written SixMinuteWalkTestDistance data.\n",
      "Written AppleStandTime data.\n",
      "Written WalkingSpeed data.\n",
      "Written WalkingStepLength data.\n",
      "Written WalkingAsymmetryPercentage data.\n",
      "Written StairAscentSpeed data.\n",
      "Written StairDescentSpeed data.\n",
      "Written HKDataTypeSleepDurationGoal data.\n",
      "Written SleepAnalysis data.\n",
      "Written AppleStandHour data.\n",
      "Written MindfulSession data.\n",
      "Written AudioExposureEvent data.\n",
      "Written LowCardioFitnessEvent data.\n",
      "Written HandwashingEvent data.\n",
      "Written HeartRateVariabilitySDNN data.\n",
      "Written Workout data.\n",
      "Written ActivitySummary data.\n"
     ]
    }
   ],
   "source": [
    "# %run -i 'apple-health-data-parser' 'export.xml' \n",
    "%run -i 'apple-health-data-parser' 'data/export.xml' "
   ]
  },
  {
   "cell_type": "markdown",
   "metadata": {},
   "source": [
    "-----"
   ]
  },
  {
   "cell_type": "markdown",
   "metadata": {},
   "source": [
    "# Apple Health Data Check and Simple Data Analysis"
   ]
  },
  {
   "cell_type": "code",
   "execution_count": 8,
   "metadata": {},
   "outputs": [],
   "source": [
    "import numpy as np\n",
    "import pandas as pd\n",
    "import glob"
   ]
  },
  {
   "cell_type": "markdown",
   "metadata": {},
   "source": [
    "----"
   ]
  },
  {
   "cell_type": "markdown",
   "metadata": {},
   "source": [
    "# Weight"
   ]
  },
  {
   "cell_type": "code",
   "execution_count": 9,
   "metadata": {},
   "outputs": [],
   "source": [
    "weight = pd.read_csv(\"data/BodyMass.csv\")"
   ]
  },
  {
   "cell_type": "code",
   "execution_count": 10,
   "metadata": {},
   "outputs": [
    {
     "data": {
      "text/html": [
       "<div>\n",
       "<style scoped>\n",
       "    .dataframe tbody tr th:only-of-type {\n",
       "        vertical-align: middle;\n",
       "    }\n",
       "\n",
       "    .dataframe tbody tr th {\n",
       "        vertical-align: top;\n",
       "    }\n",
       "\n",
       "    .dataframe thead th {\n",
       "        text-align: right;\n",
       "    }\n",
       "</style>\n",
       "<table border=\"1\" class=\"dataframe\">\n",
       "  <thead>\n",
       "    <tr style=\"text-align: right;\">\n",
       "      <th></th>\n",
       "      <th>sourceName</th>\n",
       "      <th>sourceVersion</th>\n",
       "      <th>device</th>\n",
       "      <th>type</th>\n",
       "      <th>unit</th>\n",
       "      <th>creationDate</th>\n",
       "      <th>startDate</th>\n",
       "      <th>endDate</th>\n",
       "      <th>value</th>\n",
       "    </tr>\n",
       "  </thead>\n",
       "  <tbody>\n",
       "    <tr>\n",
       "      <th>703</th>\n",
       "      <td>EufyLife</td>\n",
       "      <td>3</td>\n",
       "      <td>NaN</td>\n",
       "      <td>BodyMass</td>\n",
       "      <td>lb</td>\n",
       "      <td>2021-08-19 07:30:40 -0400</td>\n",
       "      <td>2021-08-18 07:29:29 -0400</td>\n",
       "      <td>2021-08-18 07:29:29 -0400</td>\n",
       "      <td>277.339</td>\n",
       "    </tr>\n",
       "    <tr>\n",
       "      <th>704</th>\n",
       "      <td>EufyLife</td>\n",
       "      <td>3</td>\n",
       "      <td>NaN</td>\n",
       "      <td>BodyMass</td>\n",
       "      <td>lb</td>\n",
       "      <td>2021-08-19 07:30:51 -0400</td>\n",
       "      <td>2021-08-19 07:30:51 -0400</td>\n",
       "      <td>2021-08-19 07:30:51 -0400</td>\n",
       "      <td>276.457</td>\n",
       "    </tr>\n",
       "    <tr>\n",
       "      <th>705</th>\n",
       "      <td>EufyLife</td>\n",
       "      <td>3</td>\n",
       "      <td>NaN</td>\n",
       "      <td>BodyMass</td>\n",
       "      <td>lb</td>\n",
       "      <td>2021-08-20 07:34:10 -0400</td>\n",
       "      <td>2021-08-20 07:34:10 -0400</td>\n",
       "      <td>2021-08-20 07:34:10 -0400</td>\n",
       "      <td>276.677</td>\n",
       "    </tr>\n",
       "    <tr>\n",
       "      <th>706</th>\n",
       "      <td>EufyLife</td>\n",
       "      <td>3</td>\n",
       "      <td>NaN</td>\n",
       "      <td>BodyMass</td>\n",
       "      <td>lb</td>\n",
       "      <td>2021-08-21 09:31:01 -0400</td>\n",
       "      <td>2021-08-21 09:31:01 -0400</td>\n",
       "      <td>2021-08-21 09:31:01 -0400</td>\n",
       "      <td>275.355</td>\n",
       "    </tr>\n",
       "    <tr>\n",
       "      <th>707</th>\n",
       "      <td>EufyLife</td>\n",
       "      <td>3</td>\n",
       "      <td>NaN</td>\n",
       "      <td>BodyMass</td>\n",
       "      <td>lb</td>\n",
       "      <td>2021-08-22 10:29:39 -0400</td>\n",
       "      <td>2021-08-22 10:29:17 -0400</td>\n",
       "      <td>2021-08-22 10:29:17 -0400</td>\n",
       "      <td>276.016</td>\n",
       "    </tr>\n",
       "  </tbody>\n",
       "</table>\n",
       "</div>"
      ],
      "text/plain": [
       "    sourceName  sourceVersion  device      type unit  \\\n",
       "703   EufyLife              3     NaN  BodyMass   lb   \n",
       "704   EufyLife              3     NaN  BodyMass   lb   \n",
       "705   EufyLife              3     NaN  BodyMass   lb   \n",
       "706   EufyLife              3     NaN  BodyMass   lb   \n",
       "707   EufyLife              3     NaN  BodyMass   lb   \n",
       "\n",
       "                  creationDate                  startDate  \\\n",
       "703  2021-08-19 07:30:40 -0400  2021-08-18 07:29:29 -0400   \n",
       "704  2021-08-19 07:30:51 -0400  2021-08-19 07:30:51 -0400   \n",
       "705  2021-08-20 07:34:10 -0400  2021-08-20 07:34:10 -0400   \n",
       "706  2021-08-21 09:31:01 -0400  2021-08-21 09:31:01 -0400   \n",
       "707  2021-08-22 10:29:39 -0400  2021-08-22 10:29:17 -0400   \n",
       "\n",
       "                       endDate    value  \n",
       "703  2021-08-18 07:29:29 -0400  277.339  \n",
       "704  2021-08-19 07:30:51 -0400  276.457  \n",
       "705  2021-08-20 07:34:10 -0400  276.677  \n",
       "706  2021-08-21 09:31:01 -0400  275.355  \n",
       "707  2021-08-22 10:29:17 -0400  276.016  "
      ]
     },
     "execution_count": 10,
     "metadata": {},
     "output_type": "execute_result"
    }
   ],
   "source": [
    "weight.tail()"
   ]
  },
  {
   "cell_type": "code",
   "execution_count": 4,
   "metadata": {},
   "outputs": [
    {
     "data": {
      "text/html": [
       "<div>\n",
       "<style scoped>\n",
       "    .dataframe tbody tr th:only-of-type {\n",
       "        vertical-align: middle;\n",
       "    }\n",
       "\n",
       "    .dataframe tbody tr th {\n",
       "        vertical-align: top;\n",
       "    }\n",
       "\n",
       "    .dataframe thead th {\n",
       "        text-align: right;\n",
       "    }\n",
       "</style>\n",
       "<table border=\"1\" class=\"dataframe\">\n",
       "  <thead>\n",
       "    <tr style=\"text-align: right;\">\n",
       "      <th></th>\n",
       "      <th>device</th>\n",
       "      <th>value</th>\n",
       "    </tr>\n",
       "  </thead>\n",
       "  <tbody>\n",
       "    <tr>\n",
       "      <th>count</th>\n",
       "      <td>0.0</td>\n",
       "      <td>682.000000</td>\n",
       "    </tr>\n",
       "    <tr>\n",
       "      <th>mean</th>\n",
       "      <td>NaN</td>\n",
       "      <td>299.660870</td>\n",
       "    </tr>\n",
       "    <tr>\n",
       "      <th>std</th>\n",
       "      <td>NaN</td>\n",
       "      <td>7.064814</td>\n",
       "    </tr>\n",
       "    <tr>\n",
       "      <th>min</th>\n",
       "      <td>NaN</td>\n",
       "      <td>250.000000</td>\n",
       "    </tr>\n",
       "    <tr>\n",
       "      <th>25%</th>\n",
       "      <td>NaN</td>\n",
       "      <td>294.535000</td>\n",
       "    </tr>\n",
       "    <tr>\n",
       "      <th>50%</th>\n",
       "      <td>NaN</td>\n",
       "      <td>298.551500</td>\n",
       "    </tr>\n",
       "    <tr>\n",
       "      <th>75%</th>\n",
       "      <td>NaN</td>\n",
       "      <td>305.998000</td>\n",
       "    </tr>\n",
       "    <tr>\n",
       "      <th>max</th>\n",
       "      <td>NaN</td>\n",
       "      <td>313.274000</td>\n",
       "    </tr>\n",
       "  </tbody>\n",
       "</table>\n",
       "</div>"
      ],
      "text/plain": [
       "       device       value\n",
       "count     0.0  682.000000\n",
       "mean      NaN  299.660870\n",
       "std       NaN    7.064814\n",
       "min       NaN  250.000000\n",
       "25%       NaN  294.535000\n",
       "50%       NaN  298.551500\n",
       "75%       NaN  305.998000\n",
       "max       NaN  313.274000"
      ]
     },
     "execution_count": 4,
     "metadata": {},
     "output_type": "execute_result"
    }
   ],
   "source": [
    "weight.describe()"
   ]
  },
  {
   "cell_type": "markdown",
   "metadata": {},
   "source": [
    "----"
   ]
  },
  {
   "cell_type": "markdown",
   "metadata": {},
   "source": [
    "## Steps"
   ]
  },
  {
   "cell_type": "code",
   "execution_count": 5,
   "metadata": {},
   "outputs": [],
   "source": [
    "steps = pd.read_csv(\"data/StepCount.csv\")"
   ]
  },
  {
   "cell_type": "code",
   "execution_count": 6,
   "metadata": {},
   "outputs": [
    {
     "data": {
      "text/plain": [
       "261928"
      ]
     },
     "execution_count": 6,
     "metadata": {},
     "output_type": "execute_result"
    }
   ],
   "source": [
    "len(steps)"
   ]
  },
  {
   "cell_type": "code",
   "execution_count": 7,
   "metadata": {},
   "outputs": [
    {
     "data": {
      "text/plain": [
       "Index(['sourceName', 'sourceVersion', 'device', 'type', 'unit', 'creationDate',\n",
       "       'startDate', 'endDate', 'value'],\n",
       "      dtype='object')"
      ]
     },
     "execution_count": 7,
     "metadata": {},
     "output_type": "execute_result"
    }
   ],
   "source": [
    "steps.columns"
   ]
  },
  {
   "cell_type": "code",
   "execution_count": 8,
   "metadata": {},
   "outputs": [
    {
     "data": {
      "text/html": [
       "<div>\n",
       "<style scoped>\n",
       "    .dataframe tbody tr th:only-of-type {\n",
       "        vertical-align: middle;\n",
       "    }\n",
       "\n",
       "    .dataframe tbody tr th {\n",
       "        vertical-align: top;\n",
       "    }\n",
       "\n",
       "    .dataframe thead th {\n",
       "        text-align: right;\n",
       "    }\n",
       "</style>\n",
       "<table border=\"1\" class=\"dataframe\">\n",
       "  <thead>\n",
       "    <tr style=\"text-align: right;\">\n",
       "      <th></th>\n",
       "      <th>value</th>\n",
       "    </tr>\n",
       "  </thead>\n",
       "  <tbody>\n",
       "    <tr>\n",
       "      <th>count</th>\n",
       "      <td>261928.000000</td>\n",
       "    </tr>\n",
       "    <tr>\n",
       "      <th>mean</th>\n",
       "      <td>66.597874</td>\n",
       "    </tr>\n",
       "    <tr>\n",
       "      <th>std</th>\n",
       "      <td>95.741030</td>\n",
       "    </tr>\n",
       "    <tr>\n",
       "      <th>min</th>\n",
       "      <td>1.000000</td>\n",
       "    </tr>\n",
       "    <tr>\n",
       "      <th>25%</th>\n",
       "      <td>18.000000</td>\n",
       "    </tr>\n",
       "    <tr>\n",
       "      <th>50%</th>\n",
       "      <td>39.000000</td>\n",
       "    </tr>\n",
       "    <tr>\n",
       "      <th>75%</th>\n",
       "      <td>82.000000</td>\n",
       "    </tr>\n",
       "    <tr>\n",
       "      <th>max</th>\n",
       "      <td>1331.000000</td>\n",
       "    </tr>\n",
       "  </tbody>\n",
       "</table>\n",
       "</div>"
      ],
      "text/plain": [
       "               value\n",
       "count  261928.000000\n",
       "mean       66.597874\n",
       "std        95.741030\n",
       "min         1.000000\n",
       "25%        18.000000\n",
       "50%        39.000000\n",
       "75%        82.000000\n",
       "max      1331.000000"
      ]
     },
     "execution_count": 8,
     "metadata": {},
     "output_type": "execute_result"
    }
   ],
   "source": [
    "steps.describe()"
   ]
  },
  {
   "cell_type": "code",
   "execution_count": 9,
   "metadata": {},
   "outputs": [
    {
     "data": {
      "text/html": [
       "<div>\n",
       "<style scoped>\n",
       "    .dataframe tbody tr th:only-of-type {\n",
       "        vertical-align: middle;\n",
       "    }\n",
       "\n",
       "    .dataframe tbody tr th {\n",
       "        vertical-align: top;\n",
       "    }\n",
       "\n",
       "    .dataframe thead th {\n",
       "        text-align: right;\n",
       "    }\n",
       "</style>\n",
       "<table border=\"1\" class=\"dataframe\">\n",
       "  <thead>\n",
       "    <tr style=\"text-align: right;\">\n",
       "      <th></th>\n",
       "      <th>sourceName</th>\n",
       "      <th>sourceVersion</th>\n",
       "      <th>device</th>\n",
       "      <th>type</th>\n",
       "      <th>unit</th>\n",
       "      <th>creationDate</th>\n",
       "      <th>startDate</th>\n",
       "      <th>endDate</th>\n",
       "      <th>value</th>\n",
       "    </tr>\n",
       "  </thead>\n",
       "  <tbody>\n",
       "    <tr>\n",
       "      <th>261923</th>\n",
       "      <td>David’s Apple Watch</td>\n",
       "      <td>7.6</td>\n",
       "      <td>&lt;&lt;HKDevice: 0x280e917c0&gt;, name:Apple Watch, ma...</td>\n",
       "      <td>StepCount</td>\n",
       "      <td>count</td>\n",
       "      <td>2021-07-28 20:10:43 -0400</td>\n",
       "      <td>2021-07-28 20:10:40 -0400</td>\n",
       "      <td>2021-07-28 20:10:43 -0400</td>\n",
       "      <td>4</td>\n",
       "    </tr>\n",
       "    <tr>\n",
       "      <th>261924</th>\n",
       "      <td>David’s Apple Watch</td>\n",
       "      <td>7.6</td>\n",
       "      <td>&lt;&lt;HKDevice: 0x280e917c0&gt;, name:Apple Watch, ma...</td>\n",
       "      <td>StepCount</td>\n",
       "      <td>count</td>\n",
       "      <td>2021-07-28 20:20:55 -0400</td>\n",
       "      <td>2021-07-28 20:20:04 -0400</td>\n",
       "      <td>2021-07-28 20:20:14 -0400</td>\n",
       "      <td>25</td>\n",
       "    </tr>\n",
       "    <tr>\n",
       "      <th>261925</th>\n",
       "      <td>David’s Apple Watch</td>\n",
       "      <td>7.6</td>\n",
       "      <td>&lt;&lt;HKDevice: 0x280e917c0&gt;, name:Apple Watch, ma...</td>\n",
       "      <td>StepCount</td>\n",
       "      <td>count</td>\n",
       "      <td>2021-07-28 20:31:52 -0400</td>\n",
       "      <td>2021-07-28 20:21:05 -0400</td>\n",
       "      <td>2021-07-28 20:21:17 -0400</td>\n",
       "      <td>29</td>\n",
       "    </tr>\n",
       "    <tr>\n",
       "      <th>261926</th>\n",
       "      <td>David’s Apple Watch</td>\n",
       "      <td>7.6</td>\n",
       "      <td>&lt;&lt;HKDevice: 0x280e917c0&gt;, name:Apple Watch, ma...</td>\n",
       "      <td>StepCount</td>\n",
       "      <td>count</td>\n",
       "      <td>2021-07-28 20:31:52 -0400</td>\n",
       "      <td>2021-07-28 20:31:13 -0400</td>\n",
       "      <td>2021-07-28 20:31:25 -0400</td>\n",
       "      <td>17</td>\n",
       "    </tr>\n",
       "    <tr>\n",
       "      <th>261927</th>\n",
       "      <td>David’s Apple Watch</td>\n",
       "      <td>7.6</td>\n",
       "      <td>&lt;&lt;HKDevice: 0x280e917c0&gt;, name:Apple Watch, ma...</td>\n",
       "      <td>StepCount</td>\n",
       "      <td>count</td>\n",
       "      <td>2021-07-28 20:31:52 -0400</td>\n",
       "      <td>2021-07-28 20:31:25 -0400</td>\n",
       "      <td>2021-07-28 20:31:51 -0400</td>\n",
       "      <td>41</td>\n",
       "    </tr>\n",
       "  </tbody>\n",
       "</table>\n",
       "</div>"
      ],
      "text/plain": [
       "                 sourceName sourceVersion  \\\n",
       "261923  David’s Apple Watch           7.6   \n",
       "261924  David’s Apple Watch           7.6   \n",
       "261925  David’s Apple Watch           7.6   \n",
       "261926  David’s Apple Watch           7.6   \n",
       "261927  David’s Apple Watch           7.6   \n",
       "\n",
       "                                                   device       type   unit  \\\n",
       "261923  <<HKDevice: 0x280e917c0>, name:Apple Watch, ma...  StepCount  count   \n",
       "261924  <<HKDevice: 0x280e917c0>, name:Apple Watch, ma...  StepCount  count   \n",
       "261925  <<HKDevice: 0x280e917c0>, name:Apple Watch, ma...  StepCount  count   \n",
       "261926  <<HKDevice: 0x280e917c0>, name:Apple Watch, ma...  StepCount  count   \n",
       "261927  <<HKDevice: 0x280e917c0>, name:Apple Watch, ma...  StepCount  count   \n",
       "\n",
       "                     creationDate                  startDate  \\\n",
       "261923  2021-07-28 20:10:43 -0400  2021-07-28 20:10:40 -0400   \n",
       "261924  2021-07-28 20:20:55 -0400  2021-07-28 20:20:04 -0400   \n",
       "261925  2021-07-28 20:31:52 -0400  2021-07-28 20:21:05 -0400   \n",
       "261926  2021-07-28 20:31:52 -0400  2021-07-28 20:31:13 -0400   \n",
       "261927  2021-07-28 20:31:52 -0400  2021-07-28 20:31:25 -0400   \n",
       "\n",
       "                          endDate  value  \n",
       "261923  2021-07-28 20:10:43 -0400      4  \n",
       "261924  2021-07-28 20:20:14 -0400     25  \n",
       "261925  2021-07-28 20:21:17 -0400     29  \n",
       "261926  2021-07-28 20:31:25 -0400     17  \n",
       "261927  2021-07-28 20:31:51 -0400     41  "
      ]
     },
     "execution_count": 9,
     "metadata": {},
     "output_type": "execute_result"
    }
   ],
   "source": [
    "steps.tail()"
   ]
  },
  {
   "cell_type": "code",
   "execution_count": null,
   "metadata": {},
   "outputs": [],
   "source": [
    "# total all-time steps\n",
    "steps.value.sum()"
   ]
  },
  {
   "cell_type": "markdown",
   "metadata": {},
   "source": [
    "-------"
   ]
  },
  {
   "cell_type": "markdown",
   "metadata": {},
   "source": [
    "## Stand Count"
   ]
  },
  {
   "cell_type": "code",
   "execution_count": null,
   "metadata": {},
   "outputs": [],
   "source": [
    "stand = pd.read_csv(\"data/AppleStandHour.csv\")"
   ]
  },
  {
   "cell_type": "code",
   "execution_count": null,
   "metadata": {},
   "outputs": [],
   "source": [
    "len(stand)"
   ]
  },
  {
   "cell_type": "code",
   "execution_count": null,
   "metadata": {},
   "outputs": [],
   "source": [
    "stand.columns"
   ]
  },
  {
   "cell_type": "code",
   "execution_count": null,
   "metadata": {},
   "outputs": [],
   "source": [
    "stand.describe()"
   ]
  },
  {
   "cell_type": "code",
   "execution_count": null,
   "metadata": {},
   "outputs": [],
   "source": [
    "stand.tail()"
   ]
  },
  {
   "cell_type": "markdown",
   "metadata": {},
   "source": [
    "------"
   ]
  },
  {
   "cell_type": "markdown",
   "metadata": {},
   "source": [
    "## Resting Heart Rate (HR)"
   ]
  },
  {
   "cell_type": "code",
   "execution_count": null,
   "metadata": {},
   "outputs": [],
   "source": [
    "restingHR = pd.read_csv(\"data/RestingHeartRate.csv\")"
   ]
  },
  {
   "cell_type": "code",
   "execution_count": null,
   "metadata": {},
   "outputs": [],
   "source": [
    "len(restingHR)"
   ]
  },
  {
   "cell_type": "code",
   "execution_count": null,
   "metadata": {},
   "outputs": [],
   "source": [
    "restingHR.describe()"
   ]
  },
  {
   "cell_type": "markdown",
   "metadata": {},
   "source": [
    "---"
   ]
  },
  {
   "cell_type": "markdown",
   "metadata": {},
   "source": [
    "## Walking Heart Rate (HR) Average"
   ]
  },
  {
   "cell_type": "code",
   "execution_count": null,
   "metadata": {},
   "outputs": [],
   "source": [
    "walkingHR = pd.read_csv(\"data/WalkingHeartRateAverage.csv\")"
   ]
  },
  {
   "cell_type": "code",
   "execution_count": null,
   "metadata": {},
   "outputs": [],
   "source": [
    "len(walkingHR)"
   ]
  },
  {
   "cell_type": "code",
   "execution_count": null,
   "metadata": {},
   "outputs": [],
   "source": [
    "walkingHR.describe()"
   ]
  },
  {
   "cell_type": "markdown",
   "metadata": {},
   "source": [
    "---"
   ]
  },
  {
   "cell_type": "markdown",
   "metadata": {},
   "source": [
    "## Heart Rate Variability (HRV)"
   ]
  },
  {
   "cell_type": "code",
   "execution_count": null,
   "metadata": {},
   "outputs": [],
   "source": [
    "hrv = pd.read_csv(\"data/HeartRateVariabilitySDNN.csv\")"
   ]
  },
  {
   "cell_type": "code",
   "execution_count": null,
   "metadata": {},
   "outputs": [],
   "source": [
    "len(hrv)"
   ]
  },
  {
   "cell_type": "code",
   "execution_count": null,
   "metadata": {},
   "outputs": [],
   "source": [
    "hrv.columns"
   ]
  },
  {
   "cell_type": "code",
   "execution_count": null,
   "metadata": {},
   "outputs": [],
   "source": [
    "hrv.describe()"
   ]
  },
  {
   "cell_type": "code",
   "execution_count": null,
   "metadata": {},
   "outputs": [],
   "source": [
    "hrv.tail()"
   ]
  },
  {
   "cell_type": "markdown",
   "metadata": {},
   "source": [
    "-------"
   ]
  },
  {
   "cell_type": "markdown",
   "metadata": {},
   "source": [
    "## VO2 Max"
   ]
  },
  {
   "cell_type": "code",
   "execution_count": null,
   "metadata": {},
   "outputs": [],
   "source": [
    "vo2max = pd.read_csv(\"data/VO2Max.csv\")"
   ]
  },
  {
   "cell_type": "code",
   "execution_count": null,
   "metadata": {},
   "outputs": [],
   "source": [
    "len(vo2max)"
   ]
  },
  {
   "cell_type": "code",
   "execution_count": null,
   "metadata": {},
   "outputs": [],
   "source": [
    "vo2max.describe()"
   ]
  },
  {
   "cell_type": "markdown",
   "metadata": {},
   "source": [
    "----"
   ]
  },
  {
   "cell_type": "markdown",
   "metadata": {},
   "source": [
    "## Blood Pressure"
   ]
  },
  {
   "cell_type": "code",
   "execution_count": null,
   "metadata": {},
   "outputs": [],
   "source": [
    "diastolic = pd.read_csv(\"data/BloodPressureDiastolic.csv\")\n",
    "systolic = pd.read_csv(\"data/BloodPressureSystolic.csv\")"
   ]
  },
  {
   "cell_type": "code",
   "execution_count": null,
   "metadata": {},
   "outputs": [],
   "source": [
    "diastolic.describe()"
   ]
  },
  {
   "cell_type": "code",
   "execution_count": null,
   "metadata": {},
   "outputs": [],
   "source": [
    "systolic.describe()"
   ]
  },
  {
   "cell_type": "markdown",
   "metadata": {},
   "source": [
    "------"
   ]
  },
  {
   "cell_type": "markdown",
   "metadata": {},
   "source": [
    "## Sleep"
   ]
  },
  {
   "cell_type": "code",
   "execution_count": null,
   "metadata": {},
   "outputs": [],
   "source": [
    "sleep = pd.read_csv(\"data/SleepAnalysis.csv\")"
   ]
  },
  {
   "cell_type": "code",
   "execution_count": null,
   "metadata": {},
   "outputs": [],
   "source": [
    "sleep.tail()"
   ]
  },
  {
   "cell_type": "code",
   "execution_count": null,
   "metadata": {},
   "outputs": [],
   "source": [
    "sleep.describe()"
   ]
  },
  {
   "cell_type": "code",
   "execution_count": null,
   "metadata": {
    "collapsed": true,
    "jupyter": {
     "outputs_hidden": true
    }
   },
   "outputs": [],
   "source": []
  }
 ],
 "metadata": {
  "kernelspec": {
   "display_name": "Python 3 (ipykernel)",
   "language": "python",
   "name": "python3"
  },
  "language_info": {
   "codemirror_mode": {
    "name": "ipython",
    "version": 3
   },
   "file_extension": ".py",
   "mimetype": "text/x-python",
   "name": "python",
   "nbconvert_exporter": "python",
   "pygments_lexer": "ipython3",
   "version": "3.9.6"
  }
 },
 "nbformat": 4,
 "nbformat_minor": 4
}
